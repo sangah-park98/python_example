{
 "cells": [
  {
   "cell_type": "code",
   "execution_count": null,
   "id": "f507f492",
   "metadata": {},
   "outputs": [],
   "source": [
    "유클리드 호제법을 이용한 최대공약수와 최소공배수 구하기\n",
    "\n",
    "숫자 2개를 입력받아 큰수와 작은수를 구분한다.\n",
    "큰수를 작은수로 나눠 떨어지면 작은수가 최대공약수가 되고 큰수를 작은수로 나눠 떨어지지 않으면 큰수를 기억하는 기억장소에 작은수를 넣어주고 작은수를 기억하는  \n",
    "기억장소에 큰수를 작은수로 나눈 나머지를 넣어준 후 계산을 반복한다.\n",
    "최대공약수가 계산되면 입력받은 숫자 2개를 곱한 결과를 최대공약수로 나눠주면 최소공배수가 된다."
   ]
  },
  {
   "cell_type": "code",
   "execution_count": 3,
   "id": "328b94bd",
   "metadata": {},
   "outputs": [
    {
     "name": "stdout",
     "output_type": "stream",
     "text": [
      "숫자 2개를 입력하세요: 6 9\n",
      "큰수: 9, 작은수: 6\n",
      "최대공약수: 3, 최소공배수: 18\n",
      "최대공약수: 3, 최소공배수: 18\n"
     ]
    }
   ],
   "source": [
    "a, b = map(int, input('숫자 2개를 입력하세요: ').split())\n",
    "if a > b:\n",
    "    big = a; small = b\n",
    "else:\n",
    "    big = b; small = a\n",
    "print(f'큰수: {big}, 작은수: {small}')\n",
    "# 입력받은 숫자에 따라 계산에 필요한 반복 횟수가 달라지므로 무한 루프를 돌려서 처리한다.\n",
    "while True:\n",
    "    # 큰수를 작은수로 나눈 나머지를 계산한다.\n",
    "    r = big % small\n",
    "    # 큰수를 작은수로 나눠 떨어지면 최대공약수가 계산된 것이므로 무한 루프를 탈출한다.\n",
    "    if r == 0:\n",
    "        break\n",
    "    # ------ if\n",
    "    # 큰수를 작은수로 나눠 떨어지지 않았으면 다음 작업을 위해서 큰수를 기억하던 기억장소에 작은수를, 작은수를 기억하던\n",
    "    # 기억장소에 나머지를 넣어준다.\n",
    "    big = small\n",
    "    small = r\n",
    "# ------- while\n",
    "# 최대공약수가 계산되었으면 최소공배수를 계산하고 출력한다.\n",
    "print('최대공약수: {}, 최소공배수: {}'.format(small, a * b // small))\n",
    "print('최대공약수: %d, 최소공배수: %d' % (small, a * b // small))"
   ]
  },
  {
   "cell_type": "code",
   "execution_count": null,
   "id": "2a8d93f1",
   "metadata": {},
   "outputs": [],
   "source": []
  },
  {
   "cell_type": "code",
   "execution_count": null,
   "id": "5c449929",
   "metadata": {},
   "outputs": [],
   "source": []
  },
  {
   "cell_type": "code",
   "execution_count": null,
   "id": "fed3cdff",
   "metadata": {},
   "outputs": [],
   "source": []
  },
  {
   "cell_type": "code",
   "execution_count": null,
   "id": "1b7772e1",
   "metadata": {},
   "outputs": [],
   "source": []
  },
  {
   "cell_type": "code",
   "execution_count": null,
   "id": "a309bd8d",
   "metadata": {},
   "outputs": [],
   "source": []
  },
  {
   "cell_type": "code",
   "execution_count": null,
   "id": "564a8ffb",
   "metadata": {},
   "outputs": [],
   "source": []
  },
  {
   "cell_type": "code",
   "execution_count": null,
   "id": "d739c4f4",
   "metadata": {},
   "outputs": [],
   "source": []
  },
  {
   "cell_type": "code",
   "execution_count": null,
   "id": "760d973b",
   "metadata": {},
   "outputs": [],
   "source": []
  },
  {
   "cell_type": "code",
   "execution_count": null,
   "id": "c2621f76",
   "metadata": {},
   "outputs": [],
   "source": []
  },
  {
   "cell_type": "code",
   "execution_count": null,
   "id": "ef7d40f7",
   "metadata": {},
   "outputs": [],
   "source": []
  }
 ],
 "metadata": {
  "kernelspec": {
   "display_name": "Python 3",
   "language": "python",
   "name": "python3"
  },
  "language_info": {
   "codemirror_mode": {
    "name": "ipython",
    "version": 3
   },
   "file_extension": ".py",
   "mimetype": "text/x-python",
   "name": "python",
   "nbconvert_exporter": "python",
   "pygments_lexer": "ipython3",
   "version": "3.6.8"
  }
 },
 "nbformat": 4,
 "nbformat_minor": 5
}

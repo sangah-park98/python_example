{
 "cells": [
  {
   "cell_type": "code",
   "execution_count": 1,
   "id": "fc30458b",
   "metadata": {},
   "outputs": [],
   "source": [
    "import random\n",
    "from datetime import datetime as dt"
   ]
  },
  {
   "cell_type": "code",
   "execution_count": 3,
   "id": "d2269871",
   "metadata": {},
   "outputs": [
    {
     "name": "stdout",
     "output_type": "stream",
     "text": [
      "[1, 2, 3, 4, 5, 6, 7, 8, 9]\n",
      "[6, 9, 5, 4, 3, 2, 1, 7, 8]\n",
      "레벨을 입력하세요(1 ~ 9): 3\n",
      "2023-07-07 12:18:21.629229\n",
      "[6, 9, 5]\n",
      "맞춰봐: 695\n",
      "2023-07-07 12:18:24.754594\n",
      "1번 만에 0:00:03.125365초 걸려서 맞췄다.\n"
     ]
    }
   ],
   "source": [
    "### %%time\n",
    "\n",
    "# 1 ~ 9 사이의 숫자가 채워진 리스트를 만든다.\n",
    "baseball = [i for i in range(1, 10)]\n",
    "print(baseball)\n",
    "\n",
    "# 섞는다.\n",
    "random.shuffle(baseball)\n",
    "print(baseball)\n",
    "\n",
    "# 레벨을 입력받는다.\n",
    "level = int(input('레벨을 입력하세요(1 ~ 9): '))\n",
    "# 시작 시간을 저장한다.\n",
    "start = dt.now()\n",
    "print(start)\n",
    "cpu = baseball[:level] # level번째 인덱스 전까지.\n",
    "print(cpu)\n",
    "\n",
    "# 몇 번만에 맞췄나 기억할 변수를 선언하고 0으로 초기화 시킨다.\n",
    "count = 0\n",
    "\n",
    "# ===============================================================\n",
    "\n",
    "# 몇 번 만에 맞출지 모르기 때문에 무한 루프를 돌려서 처리한다.\n",
    "while True:\n",
    "    s = 0 # 스트라이크 개수\n",
    "    b = 0 # 볼의 개수\n",
    "    # 컴퓨터가 랜덤하게 발생시킨 숨겨놓은 숫자를 맞추기 위해 유저에게 입력을 요구한다.\n",
    "    user = input('맞춰봐: ')\n",
    "    # 입력받을 때마다 몇 번만에 맞췄나 기억하는 변수를 1증가 시킨다.\n",
    "    count += 1\n",
    "    \n",
    "    \n",
    "    # 레벨만큼 반복하며 스트라이크의 개수와 볼의 개수를 센다.\n",
    "    for i in range(level): # level 변수에 저장된 값만큼 반복\n",
    "     \n",
    "        # 스트라이크 => cpu와 user의 같은 인덱스에 위치한 데이터가 같다.\n",
    "        # cpu와 user의 데이터 타입이 일치하지 않기때문에 str() 또는 int() 함수로 데이터 타입을 일치시킨다.\n",
    "        if cpu[i] == int(user[i]):\n",
    "            s += 1\n",
    "        elif int(user[i]) in cpu: # 볼 \n",
    "            b += 1\n",
    "        # ===== if\n",
    "    # ===== for\n",
    "    \n",
    "    # 스트라이크의 개수와 레벨이 같으면 맞춘것이므로 무한 루프를 탈출한다.\n",
    "    if s == level:\n",
    "        break\n",
    "    # ===== if\n",
    "    # 맞추지 못했으므로 힌트를 출력한다.\n",
    "    print('{} 스트라이크 {} 볼'.format(s, b))\n",
    "# ===== while\n",
    "# 종료 시간을 지정한다.\n",
    "end = dt.now()\n",
    "print(end)\n",
    "# 맞추는데 걸린 시간을 계산한다.\n",
    "time = end - start\n",
    "print(f'{count}번 만에 {time}초 걸려서 맞췄다.')"
   ]
  },
  {
   "cell_type": "code",
   "execution_count": 4,
   "id": "007f2220",
   "metadata": {},
   "outputs": [
    {
     "name": "stdout",
     "output_type": "stream",
     "text": [
      "B 65 <class 'str'>\n"
     ]
    }
   ],
   "source": [
    "print(chr(66), str(65), type(str(65)))"
   ]
  },
  {
   "cell_type": "code",
   "execution_count": 5,
   "id": "9a8c44f9",
   "metadata": {},
   "outputs": [
    {
     "name": "stdout",
     "output_type": "stream",
     "text": [
      "[1, 2, 3, 4, 5, 6, 7, 8, 9]\n",
      "[6, 9, 5, 1, 3, 7, 2, 8, 4]\n",
      "레벨을 입력하세요(1 ~ 9): 3\n",
      "[6, 9, 5]\n",
      "맞춰봐: 6 9 5\n",
      "<class 'list'> [6, 9, 5]\n",
      "2023-07-07 13:23:44.033545\n",
      "1번 만에 0:00:02.209155초 걸려서 맞췄다.\n"
     ]
    }
   ],
   "source": [
    "\n",
    "baseball = [i for i in range(1, 10)]\n",
    "print(baseball)\n",
    "\n",
    "random.shuffle(baseball)\n",
    "print(baseball)\n",
    "\n",
    "level = int(input('레벨을 입력하세요(1 ~ 9): '))\n",
    "\n",
    "start = dt.now()\n",
    "cpu = baseball[:level] # level번째 인덱스 전까지.\n",
    "print(cpu)\n",
    "\n",
    "count = 0\n",
    "\n",
    "while True:\n",
    "    s = 0; b = 0\n",
    "    # user = input('맞춰봐: ')\n",
    "    # user = map(int, input('맞춰봐: ').split() # 정수로 형변환이 필요하다.\n",
    "    user = list(map(int, input('맞춰봐: ').split()))\n",
    "    print(type(user), user)\n",
    "    count += 1\n",
    "    \n",
    "    for i in range(level): # level 변수에 저장된 값만큼 반복\n",
    "     \n",
    "        # if cpu[i] == int(user[i]):\n",
    "        if cpu[i] == user[i]:\n",
    "            s += 1\n",
    "        elif int(user[i]) in cpu: # 볼 \n",
    "            b += 1\n",
    "        # ===== if\n",
    "    # ===== for\n",
    "    \n",
    "    if s == level:\n",
    "        break\n",
    "    # ===== if\n",
    "\n",
    "    print('{} 스트라이크 {} 볼'.format(s, b))\n",
    "# ===== while\n",
    "\n",
    "end = dt.now()\n",
    "print(end)\n",
    "time = end - start\n",
    "print(f'{count}번 만에 {time}초 걸려서 맞췄다.')"
   ]
  },
  {
   "cell_type": "code",
   "execution_count": null,
   "id": "fc607d07",
   "metadata": {},
   "outputs": [],
   "source": []
  },
  {
   "cell_type": "code",
   "execution_count": null,
   "id": "db862a90",
   "metadata": {},
   "outputs": [],
   "source": []
  },
  {
   "cell_type": "code",
   "execution_count": null,
   "id": "bc632b8a",
   "metadata": {},
   "outputs": [],
   "source": []
  },
  {
   "cell_type": "code",
   "execution_count": null,
   "id": "4fd35b74",
   "metadata": {},
   "outputs": [],
   "source": []
  },
  {
   "cell_type": "code",
   "execution_count": null,
   "id": "ae37b604",
   "metadata": {},
   "outputs": [],
   "source": []
  },
  {
   "cell_type": "code",
   "execution_count": null,
   "id": "92459203",
   "metadata": {},
   "outputs": [],
   "source": []
  },
  {
   "cell_type": "code",
   "execution_count": null,
   "id": "4e45ba44",
   "metadata": {},
   "outputs": [],
   "source": []
  },
  {
   "cell_type": "code",
   "execution_count": null,
   "id": "72424da3",
   "metadata": {},
   "outputs": [],
   "source": []
  },
  {
   "cell_type": "code",
   "execution_count": null,
   "id": "4df960aa",
   "metadata": {},
   "outputs": [],
   "source": []
  },
  {
   "cell_type": "code",
   "execution_count": null,
   "id": "d90a3827",
   "metadata": {},
   "outputs": [],
   "source": []
  },
  {
   "cell_type": "code",
   "execution_count": null,
   "id": "96a012de",
   "metadata": {},
   "outputs": [],
   "source": []
  },
  {
   "cell_type": "code",
   "execution_count": null,
   "id": "4514d5b1",
   "metadata": {},
   "outputs": [],
   "source": []
  },
  {
   "cell_type": "code",
   "execution_count": null,
   "id": "626e290d",
   "metadata": {},
   "outputs": [],
   "source": []
  }
 ],
 "metadata": {
  "kernelspec": {
   "display_name": "Python 3",
   "language": "python",
   "name": "python3"
  },
  "language_info": {
   "codemirror_mode": {
    "name": "ipython",
    "version": 3
   },
   "file_extension": ".py",
   "mimetype": "text/x-python",
   "name": "python",
   "nbconvert_exporter": "python",
   "pygments_lexer": "ipython3",
   "version": "3.6.8"
  }
 },
 "nbformat": 4,
 "nbformat_minor": 5
}

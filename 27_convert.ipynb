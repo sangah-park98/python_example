{
 "cells": [
  {
   "cell_type": "markdown",
   "id": "b09f99c3",
   "metadata": {},
   "source": [
    "진법 변환\n",
    "\n",
    "<img src=\"./images/convert.png\" align=\"left\" width=\"600\"/>"
   ]
  },
  {
   "cell_type": "markdown",
   "id": "87d58537",
   "metadata": {},
   "source": [
    "10진수를 2진수로: 26 => 11010<sub>2</sub>"
   ]
  },
  {
   "cell_type": "code",
   "execution_count": null,
   "id": "5ece0530",
   "metadata": {},
   "outputs": [],
   "source": [
    "0.5 => 0.1\n",
    "0.25 => 0.01\n",
    "0.125 => 0.001\n",
    "0.0625 => 0.0001"
   ]
  },
  {
   "cell_type": "code",
   "execution_count": 9,
   "id": "4598650b",
   "metadata": {},
   "outputs": [
    {
     "name": "stdout",
     "output_type": "stream",
     "text": [
      "10진수를 입력하세요: 26\n",
      "[0, 1, 0, 1, 1]\n",
      "11010"
     ]
    }
   ],
   "source": [
    "d = int(input('10진수를 입력하세요: '))\n",
    "b = [] # 10진수가 2진수로 변환된 결과를 기억할 빈 리스트를 선언한다.\n",
    "# 입력되는 10진수의 크기에 따라 반복 횟수가 달라지므로 무한 루프를 돌려서 처리한다.\n",
    "while True: \n",
    "    m = d // 2 # 10진수를 2로 나눈 몫을 계산한다.\n",
    "    r = d % 2 # 10진수를 2로 나눈 나머지를 계산한다.\n",
    "    b.append(r) # 나머지를 2진수로 변환된 결과를 기억할 리스트에 저장한다.\n",
    "    # 몫이 0이 되면 진법 변환이 완료된 것이므로 무한 루프를 탈출한다.\n",
    "    if m == 0:\n",
    "        break\n",
    "    # ------ if\n",
    "    # 다음 계산을 위해서 d를 몫으로 수정한다.\n",
    "    d = m \n",
    "# ------- while\n",
    "print(b)\n",
    "# print(b[::-1])\n",
    "# b.reverse()\n",
    "# print(b)\n",
    "for i in range(len(b)-1, -1, -1):\n",
    "    print(b[i], end='')"
   ]
  },
  {
   "cell_type": "markdown",
   "id": "95ca5d69",
   "metadata": {},
   "source": [
    "10진수를 8진수로: 26 => 32<sub>8</sub>"
   ]
  },
  {
   "cell_type": "code",
   "execution_count": 11,
   "id": "6e67bc3e",
   "metadata": {},
   "outputs": [
    {
     "name": "stdout",
     "output_type": "stream",
     "text": [
      "10진수를 입력하세요: 26\n",
      "[2, 3]\n",
      "32"
     ]
    }
   ],
   "source": [
    "d = int(input('10진수를 입력하세요: '))\n",
    "o = [] \n",
    "while True: \n",
    "    m = d // 8 \n",
    "    r = d % 8\n",
    "    o.append(r) \n",
    "    if m == 0:\n",
    "        break\n",
    "    # ------ if\n",
    "    d = m \n",
    "# ------- while\n",
    "print(o)\n",
    "for i in range(len(o)-1, -1, -1):\n",
    "    print(o[i], end='')"
   ]
  },
  {
   "cell_type": "markdown",
   "id": "ddd585b6",
   "metadata": {},
   "source": [
    "10진수를 16진수로: 26 => 1A<sub>16</sub>"
   ]
  },
  {
   "cell_type": "code",
   "execution_count": 14,
   "id": "902897d9",
   "metadata": {},
   "outputs": [
    {
     "name": "stdout",
     "output_type": "stream",
     "text": [
      "10진수를 입력하세요: 26\n",
      "['A', '1']\n",
      "1A"
     ]
    }
   ],
   "source": [
    "d = int(input('10진수를 입력하세요: '))\n",
    "h = [] \n",
    "hex16 = ['0', '1', '2', '3', '4', '5', '6', '7', '8', '9', 'A', 'B', 'C', 'D', 'E', 'F']\n",
    "while True: \n",
    "    m = d // 16\n",
    "    r = d % 16\n",
    "    h.append(hex16[r]) \n",
    "    if m == 0:\n",
    "        break\n",
    "    # ------ if\n",
    "    d = m \n",
    "# ------- while\n",
    "print(h)\n",
    "for i in range(len(h)-1, -1, -1):\n",
    "    print(h[i], end='')"
   ]
  },
  {
   "cell_type": "markdown",
   "id": "f1be23a5",
   "metadata": {},
   "source": [
    "10진수를 n진수로 "
   ]
  },
  {
   "cell_type": "code",
   "execution_count": 18,
   "id": "97c9fd1f",
   "metadata": {},
   "outputs": [
    {
     "name": "stdout",
     "output_type": "stream",
     "text": [
      "10진수와 변환할 진법을 입력하세요: 26 16\n",
      "[10, 1]\n",
      "1A"
     ]
    }
   ],
   "source": [
    "d, n = map(int, input('10진수와 변환할 진법을 입력하세요: ').split())\n",
    "c = [] \n",
    "while True: \n",
    "    m = d // n\n",
    "    r = d % n\n",
    "    c.append(r) \n",
    "    if m == 0:\n",
    "        break\n",
    "    # ------ if\n",
    "    d = m \n",
    "# ------- while\n",
    "print(c)\n",
    "for i in range(len(c)-1, -1, -1):\n",
    "    print(c[i] if c[i] < 10 else chr(c[i] + 55), end='')"
   ]
  },
  {
   "cell_type": "code",
   "execution_count": null,
   "id": "45cb0aa2",
   "metadata": {},
   "outputs": [],
   "source": []
  },
  {
   "cell_type": "code",
   "execution_count": null,
   "id": "170c9588",
   "metadata": {},
   "outputs": [],
   "source": []
  },
  {
   "cell_type": "code",
   "execution_count": null,
   "id": "a53da0ac",
   "metadata": {},
   "outputs": [],
   "source": []
  },
  {
   "cell_type": "code",
   "execution_count": null,
   "id": "41211819",
   "metadata": {},
   "outputs": [],
   "source": []
  },
  {
   "cell_type": "code",
   "execution_count": null,
   "id": "0d5a9cfd",
   "metadata": {},
   "outputs": [],
   "source": []
  },
  {
   "cell_type": "code",
   "execution_count": null,
   "id": "5a4974f9",
   "metadata": {},
   "outputs": [],
   "source": []
  },
  {
   "cell_type": "code",
   "execution_count": null,
   "id": "6c6a3db0",
   "metadata": {},
   "outputs": [],
   "source": []
  },
  {
   "cell_type": "code",
   "execution_count": null,
   "id": "8c2cab0f",
   "metadata": {},
   "outputs": [],
   "source": []
  },
  {
   "cell_type": "code",
   "execution_count": null,
   "id": "d995ee2f",
   "metadata": {},
   "outputs": [],
   "source": []
  },
  {
   "cell_type": "code",
   "execution_count": null,
   "id": "1351062e",
   "metadata": {},
   "outputs": [],
   "source": []
  },
  {
   "cell_type": "code",
   "execution_count": null,
   "id": "8736b48e",
   "metadata": {},
   "outputs": [],
   "source": []
  },
  {
   "cell_type": "code",
   "execution_count": null,
   "id": "7ebbbb9b",
   "metadata": {},
   "outputs": [],
   "source": []
  },
  {
   "cell_type": "code",
   "execution_count": null,
   "id": "c4edd74c",
   "metadata": {},
   "outputs": [],
   "source": []
  }
 ],
 "metadata": {
  "kernelspec": {
   "display_name": "Python 3",
   "language": "python",
   "name": "python3"
  },
  "language_info": {
   "codemirror_mode": {
    "name": "ipython",
    "version": 3
   },
   "file_extension": ".py",
   "mimetype": "text/x-python",
   "name": "python",
   "nbconvert_exporter": "python",
   "pygments_lexer": "ipython3",
   "version": "3.6.8"
  }
 },
 "nbformat": 4,
 "nbformat_minor": 5
}

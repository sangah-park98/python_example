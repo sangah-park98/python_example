{
 "cells": [
  {
   "cell_type": "code",
   "execution_count": 16,
   "id": "8017a85e",
   "metadata": {},
   "outputs": [],
   "source": [
    "import warnings\n",
    "warnings.filterwarnings(action='ignore')\n",
    "%config Computer.use_jedi = False\n",
    "import requests\n",
    "from bs4 import BeautifulSoup\n",
    "import time # sleep() 메소드를 사용하기 위해 import 한다."
   ]
  },
  {
   "cell_type": "code",
   "execution_count": 17,
   "id": "71f815ff",
   "metadata": {},
   "outputs": [],
   "source": [
    "# 1건의 대화 내용을 저장하는 클래스 => 질문과 답변이 한 쌍으로 저장되는 클래스\n",
    "class Conversation:\n",
    "    def __init__(self, question, answer):\n",
    "        self.question = question\n",
    "        self.answer = answer\n",
    "    def __str__(self):\n",
    "        return f'질문: {self.question}\\n답변: {self.answer}'"
   ]
  },
  {
   "cell_type": "code",
   "execution_count": 11,
   "id": "5ecfe597",
   "metadata": {},
   "outputs": [
    {
     "name": "stdout",
     "output_type": "stream",
     "text": [
      "질문: 너 누구야?\n",
      "답변: 나야\n"
     ]
    }
   ],
   "source": [
    "c = Conversation('너 누구야?', '나야')\n",
    "print(c)"
   ]
  },
  {
   "cell_type": "code",
   "execution_count": 12,
   "id": "639664af",
   "metadata": {},
   "outputs": [],
   "source": [
    "# 75개의 대화 주제와 세부 대화 내용의 url을 크롤링해서 리턴하는 함수\n",
    "def getSubject():\n",
    "    targetSite = 'https://basicenglishspeaking.com/daily-english-conversation-topics/'\n",
    "    request = requests.get(targetSite)\n",
    "    html = request.text\n",
    "    soup = BeautifulSoup(html, 'html.parser')\n",
    "    \n",
    "    subjects = [] # 대화 주제\n",
    "    contentLinks = [] # 대화 주제에 따른 세부 대화 내용의 url을 저장할 빈 리스트를 선언한다.\n",
    "    \n",
    "    divs = soup.findAll('div',{'class': 'tcb-flex-col'})\n",
    "    for div in divs:\n",
    "        chapter = div.findAll('a')\n",
    "        for a in chapter:\n",
    "            subjects.append(a.text)\n",
    "            # 세부 대화 내용의 url을 contentLinks에 추가한다.\n",
    "            contentLinks.append(a.get('href'))\n",
    "            \n",
    "    # 대화 주제와 대화 주제에 따른 세부 대화 내용의 url을 리턴시킨다.\n",
    "    # 리턴되는 데이터가 2개가 아니라 subjects, contentLinks를 1개의 튜플로 묶어서 리턴시킨다.\n",
    "    return subjects, contentLinks"
   ]
  },
  {
   "cell_type": "code",
   "execution_count": 26,
   "id": "0dd860c5",
   "metadata": {},
   "outputs": [
    {
     "name": "stdout",
     "output_type": "stream",
     "text": [
      "20\n"
     ]
    }
   ],
   "source": [
    "subjects, contentLinks = getSubject()\n",
    "# for i in range(len(subjects)):\n",
    "#    print('{:2d}. {}: {}'.format(i + 1, subjects[i], contentLinks[i]))\n",
    "\n",
    "# 대화 주제에 따른 전체 대화 내용을 저장할 빈 리스트를 선언한다.\n",
    "conversation = [] # Conversation 클래스의 객체를 저장한다.\n",
    "\n",
    "i = 0 # 대화 주제의 개수를 세는 변수\n",
    "# 대화 주제의 개수만큼 반복하며 각각의 대화 주제에 따른 대화 내용을 읽어서 저장한다.\n",
    "for subject in subjects[:1]:\n",
    "    conversation.append('{:2d}. {}: {}'.format(i + 1, subjects[i], contentLinks[i]))\n",
    "    \n",
    "    # 대화 주제별 대화 내용을 크롤링할 페이지를 요청한다.\n",
    "    request = requests.get(contentLinks[i])\n",
    "    # time 모듈을 import 하면 sleep() 메소드를 사용할 수 있다.\n",
    "    # sleep() 메소드는 인수로 지정한 시간만큼 프로그램을 멈춘다. => 시간은 초 단위로 지정한다.\n",
    "    # 대형 포털 사이트는 짧은 간격으로 많은 요청이 들어오면 자기네 사이트가 공격당하는 것으로 판단할 수도 있고,\n",
    "    # 자동화된 크롤링을 할 경우 페이지가 로딩되는 시간만큼 기다리기 위해서 \n",
    "    # 일정한 간격을 두고 정보를 요청하는 것이 좋다.\n",
    "    time.sleep(1)\n",
    "    \n",
    "    html = request.text\n",
    "    soup = BeautifulSoup(html, 'html.parser')\n",
    "    \n",
    "    # 대화 주제에 따른 대화 내용은 플레이 버튼이 포함된 class 속성의 속성값이 'sc_player_container1'인 <div> 태그의\n",
    "    # 다음 형제이다.\n",
    "    buttons = soup.findAll('div', {'class': 'sc_player_container1'})\n",
    "    print(len(buttons)) # 플레이 버튼의 개수 => 크롤링할 문장의 개수\n",
    "    \n",
    "    # 각각의 대화 주제에 따른 문장의 개수만큼 반복한다.\n",
    "    for button in buttons:\n",
    "        # index() 메소드는 전체 중에서 인수로 지정한 객체의 index를 얻어올 수 있다.\n",
    "        # buttons.index(button)) => 전체 플레이 버튼(buttons)에서 특정 버튼(button)의 index를 얻어온다.\n",
    "        # index() 메소드의 실행 결과가 짝수면 질문이고 홀수면 답변이다.\n",
    "        # print(buttons.index(button))\n",
    "        \n",
    "        # 크롤링할 문장은 플레이 버튼이 포함된 <div> 태그 내부에 작성된 것이 아니고 다음 형제로 작성되어 있다.\n",
    "        # next_sibling: 다음 형제\n",
    "        # previous_sibling: 이전 형제\n",
    "        if buttons.index(button) % 2 == 0: # index가 짝수인가? (질문인가?)\n",
    "            # print('질문: {}'.format(button.next_sibling))\n",
    "            question = button.next_sibling\n",
    "        else:\n",
    "            # print('답변: {}'.format(button.next_sibling))\n",
    "            answer = button.next_sibling\n",
    "            # 대화 1건이 완성된다.\n",
    "            # Conversation 클래스 객체를 만드는 작업은 질문과 답변이 한 쌍이 되는 순간 실행한다.\n",
    "            # 질문과 답변이 한 쌍이 되었으므로 Conversation 클래스 객체를 생성하고 질문과 답변을 저장한다.\n",
    "            c = Conversation(question, answer)\n",
    "            # 질문과 답변이 한 쌍으로 저장된 Conversation 클래스 객체를 대화 내용을 기억할 conversation \n",
    "            # 리스트에 추가한다.\n",
    "            conversation.append(c)\n",
    "            \n",
    "    # 대화 주제 1건이 처리 완료되면 다음 대화를 처리하기 위해서 i를 1증가시킨다.\n",
    "    i += 1"
   ]
  },
  {
   "cell_type": "code",
   "execution_count": 27,
   "id": "991e087c",
   "metadata": {},
   "outputs": [
    {
     "name": "stdout",
     "output_type": "stream",
     "text": [
      " 1. Family: https://basicenglishspeaking.com/family/\n",
      "질문: How many people are there in your family?\n",
      "답변: There are 5 people in my family: my father, mother, brother, sister, and me.\n",
      "질문: Does your family live in a house or an apartment?\n",
      "답변: We live in a house in the countryside.\n",
      "질문: What does your father do?\n",
      "답변: My father is a doctor. He works at the local hospital.\n",
      "질문: How old is your mother?\n",
      "답변: She is 40 years old, 1 year younger than my father.\n",
      "질문: Do you have any siblings? What’s his/her name?\n",
      "답변: Yes, I do. I have 1 elder brother, David, and 1 younger sister, Mary.\n",
      "질문: Are you the oldest amongst your brothers and sisters?\n",
      "답변: No, I’m not. I’m the second child in my family.\n",
      "질문: What does your mother/father like?\n",
      "답변: My father likes playing football and my mother likes cooking.\n",
      "질문: Do your parents let you stay out late?\n",
      "답변: Of course not. They always ask me to get home before 10 pm each night.\n",
      "질문: Do you stay with your parents?\n",
      "답변: Right now, no, but I used to.\n",
      "질문: Does your family usually have dinner together?\n",
      "답변: Yes, we do. My mom always prepares delicious meals for us.\n"
     ]
    }
   ],
   "source": [
    "for c in conversation:\n",
    "    print(c)"
   ]
  },
  {
   "cell_type": "code",
   "execution_count": null,
   "id": "57dea277",
   "metadata": {},
   "outputs": [],
   "source": []
  },
  {
   "cell_type": "code",
   "execution_count": null,
   "id": "2783492d",
   "metadata": {},
   "outputs": [],
   "source": []
  },
  {
   "cell_type": "code",
   "execution_count": null,
   "id": "cfded624",
   "metadata": {},
   "outputs": [],
   "source": []
  },
  {
   "cell_type": "code",
   "execution_count": null,
   "id": "58e7f0dd",
   "metadata": {},
   "outputs": [],
   "source": []
  },
  {
   "cell_type": "code",
   "execution_count": null,
   "id": "9a949635",
   "metadata": {},
   "outputs": [],
   "source": []
  },
  {
   "cell_type": "code",
   "execution_count": null,
   "id": "96951856",
   "metadata": {},
   "outputs": [],
   "source": []
  },
  {
   "cell_type": "code",
   "execution_count": null,
   "id": "bcde1dfe",
   "metadata": {},
   "outputs": [],
   "source": []
  },
  {
   "cell_type": "code",
   "execution_count": null,
   "id": "ae9458c8",
   "metadata": {},
   "outputs": [],
   "source": []
  },
  {
   "cell_type": "code",
   "execution_count": null,
   "id": "659ebe5c",
   "metadata": {},
   "outputs": [],
   "source": []
  },
  {
   "cell_type": "code",
   "execution_count": null,
   "id": "ace62267",
   "metadata": {},
   "outputs": [],
   "source": []
  }
 ],
 "metadata": {
  "kernelspec": {
   "display_name": "Python 3",
   "language": "python",
   "name": "python3"
  },
  "language_info": {
   "codemirror_mode": {
    "name": "ipython",
    "version": 3
   },
   "file_extension": ".py",
   "mimetype": "text/x-python",
   "name": "python",
   "nbconvert_exporter": "python",
   "pygments_lexer": "ipython3",
   "version": "3.6.8"
  }
 },
 "nbformat": 4,
 "nbformat_minor": 5
}

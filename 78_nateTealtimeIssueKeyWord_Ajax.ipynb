{
 "cells": [
  {
   "cell_type": "code",
   "execution_count": 1,
   "id": "13b088d3",
   "metadata": {},
   "outputs": [],
   "source": [
    "import warnings\n",
    "warnings.filterwarnings(action='ignore')\n",
    "%config Computer.use_jedi = False\n",
    "import requests\n",
    "# BeautifulSoup은 html 문서를 파싱할 때 사용하므로 json 형태로 넘어오는 데이터에는 사용하지 않는다.\n",
    "# from bs4 import BeautifulSoup\n",
    "import json # json 형태의 문자열을 파이썬에서 처리하기 위해 import 한다."
   ]
  },
  {
   "cell_type": "markdown",
   "id": "8202ea1f",
   "metadata": {},
   "source": [
    "<img src=\"./images/keywordAjax1.png\" align=\"left\" width=\"600\"/>"
   ]
  },
  {
   "cell_type": "code",
   "execution_count": 2,
   "id": "bd2519ac",
   "metadata": {},
   "outputs": [
    {
     "name": "stdout",
     "output_type": "stream",
     "text": [
      "<Response [200]>\n"
     ]
    }
   ],
   "source": [
    "#  실시간 검색어가 웹 페이지에 전부 혹은 일부가 포함되어 있지 않고 Ajax를 이용해서 실시간으로 받아오는 방식이 사용된다.\n",
    "# Request Method가 GET이므로 request 모듈의 get() 메소드를 사용해서 실시간 검색어를 서버에 요청해서 받아온다.\n",
    "targetSite = 'https://www.nate.com/js/data/jsonLiveKeywordDataV1.js?v=202308241155'\n",
    "request = requests.get(targetSite)\n",
    "print(request)\n",
    "# 파이썬은 한글 encoding이 유니코드(utf-8)로 되어있기 때문에 'euc-kr'로 encoding된 사이트를 크롤링할 때 한글이 깨지면 \n",
    "# 아래와 같이 한글 encoding을 바꿔주면 된다."
   ]
  },
  {
   "cell_type": "code",
   "execution_count": 3,
   "id": "e08b2f7c",
   "metadata": {},
   "outputs": [
    {
     "name": "stdout",
     "output_type": "stream",
     "text": [
      "[[\"1\",  \"기준금리 3.5%로 동결\",  \"+\",  \"3\",  \"기준금리 3.5%로 동결\"], [\"2\",  \"대학수학능력시험 응시원서\",  \"+\",  \"1\",  \"대학수학능력시험 응시원서 접수\"], [\"3\",  \"인도 달남극 우주\",  \"n\",  \"0\",  \"인도 달남극 우주\"], [\"4\",  \"후쿠시마 오염수 오늘\",  \"+\",  \"7\",  \"후쿠시마 오염수 오늘\"], [\"5\",  \"이름 공모\",  \"s\",  \"0\",  \"이름 공모\"], [\"6\",  \"사는 난자 200만원\",  \"n\",  \"0\",  \"사는 난자 200만원\"], [\"7\",  \"철도노조 준법투쟁\",  \"n\",  \"0\",  \"철도노조 준법투쟁\"], [\"8\",  \"홈플러스 송도점 지하주차장\",  \"+\",  \"1\",  \"홈플러스 송도점 지하주차장\"], [\"9\",  \"프리고진 두번째 비행기\",  \"n\",  \"0\",  \"프리고진 두번째 비행기\"], [\"10\",  \"트리튬 無 도쿄전력\",  \"n\",  \"0\",  \"트리튬 無 도쿄전력 오염수\"]]\n",
      "<class 'str'>\n"
     ]
    }
   ],
   "source": [
    "issues = request.text\n",
    "print(issues)\n",
    "print(type(issues))"
   ]
  },
  {
   "cell_type": "code",
   "execution_count": 4,
   "id": "264eb4ea",
   "metadata": {},
   "outputs": [],
   "source": [
    "# json 형태의 문자열로 얻어온 실시간 이슈는 파이썬에서 처리할 수 있는 데이터 타입으로 변환해서 처리한다."
   ]
  },
  {
   "cell_type": "code",
   "execution_count": 5,
   "id": "6c1c0338",
   "metadata": {},
   "outputs": [
    {
     "name": "stdout",
     "output_type": "stream",
     "text": [
      "[['1', '기준금리 3.5%로 동결', '+', '3', '기준금리 3.5%로 동결'], ['2', '대학수학능력시험 응시원서', '+', '1', '대학수학능력시험 응시원서 접수'], ['3', '인도 달남극 우주', 'n', '0', '인도 달남극 우주'], ['4', '후쿠시마 오염수 오늘', '+', '7', '후쿠시마 오염수 오늘'], ['5', '이름 공모', 's', '0', '이름 공모'], ['6', '사는 난자 200만원', 'n', '0', '사는 난자 200만원'], ['7', '철도노조 준법투쟁', 'n', '0', '철도노조 준법투쟁'], ['8', '홈플러스 송도점 지하주차장', '+', '1', '홈플러스 송도점 지하주차장'], ['9', '프리고진 두번째 비행기', 'n', '0', '프리고진 두번째 비행기'], ['10', '트리튬 無 도쿄전력', 'n', '0', '트리튬 無 도쿄전력 오염수']]\n",
      "<class 'list'>\n"
     ]
    }
   ],
   "source": [
    "# 1. json 모듈의 loads() 메소드는 json 형태의 문자열이 {}를 포함하면 딕셔너리로 []를 포함하면 리스트 형태로 변환한다.\n",
    "ranks = json.loads(issues)\n",
    "print(ranks)\n",
    "print(type(ranks))"
   ]
  },
  {
   "cell_type": "code",
   "execution_count": 6,
   "id": "45349997",
   "metadata": {},
   "outputs": [
    {
     "name": "stdout",
     "output_type": "stream",
     "text": [
      "[['1', '기준금리 3.5%로 동결', '+', '3', '기준금리 3.5%로 동결'], ['2', '대학수학능력시험 응시원서', '+', '1', '대학수학능력시험 응시원서 접수'], ['3', '인도 달남극 우주', 'n', '0', '인도 달남극 우주'], ['4', '후쿠시마 오염수 오늘', '+', '7', '후쿠시마 오염수 오늘'], ['5', '이름 공모', 's', '0', '이름 공모'], ['6', '사는 난자 200만원', 'n', '0', '사는 난자 200만원'], ['7', '철도노조 준법투쟁', 'n', '0', '철도노조 준법투쟁'], ['8', '홈플러스 송도점 지하주차장', '+', '1', '홈플러스 송도점 지하주차장'], ['9', '프리고진 두번째 비행기', 'n', '0', '프리고진 두번째 비행기'], ['10', '트리튬 無 도쿄전력', 'n', '0', '트리튬 無 도쿄전력 오염수']]\n",
      "<class 'list'>\n"
     ]
    }
   ],
   "source": [
    "# 2. requests 모듈의 json() 메소드는 json 형태의 문자열이 {}를 포함하면 딕셔너리로 []를 포함하면 리스트 형태로 변환한다.\n",
    "ranks = request.json()\n",
    "print(ranks)\n",
    "print(type(ranks))"
   ]
  },
  {
   "cell_type": "code",
   "execution_count": 8,
   "id": "7ab39061",
   "metadata": {},
   "outputs": [
    {
     "name": "stdout",
     "output_type": "stream",
     "text": [
      " 1위: 기준금리 3.5%로 동결 [↑3]\n",
      " 2위: 대학수학능력시험 응시원서 [↑1]\n",
      " 3위: 인도 달남극 우주 [new]\n",
      " 4위: 후쿠시마 오염수 오늘 [↑7]\n",
      " 5위: 이름 공모 [-]\n",
      " 6위: 사는 난자 200만원 [new]\n",
      " 7위: 철도노조 준법투쟁 [new]\n",
      " 8위: 홈플러스 송도점 지하주차장 [↑1]\n",
      " 9위: 프리고진 두번째 비행기 [new]\n",
      "10위: 트리튬 無 도쿄전력 [new]\n"
     ]
    }
   ],
   "source": [
    "for rank in ranks:\n",
    "    print('{:>2s}위: {}'.format(rank[0], rank[1]), end=' ')\n",
    "    if rank[2] == '+':\n",
    "        print('[{}{}]'.format('↑', rank[3]))\n",
    "    elif rank[2] == '-':\n",
    "        print('[{}{}]'.format('↓', rank[3]))\n",
    "    elif rank[2] == 'n':\n",
    "        print('[new]')\n",
    "    else:\n",
    "        print('[-]')"
   ]
  },
  {
   "cell_type": "code",
   "execution_count": null,
   "id": "6f4cbd05",
   "metadata": {},
   "outputs": [],
   "source": []
  },
  {
   "cell_type": "code",
   "execution_count": null,
   "id": "334218ca",
   "metadata": {},
   "outputs": [],
   "source": []
  },
  {
   "cell_type": "code",
   "execution_count": null,
   "id": "3bcd5c0c",
   "metadata": {},
   "outputs": [],
   "source": []
  },
  {
   "cell_type": "code",
   "execution_count": null,
   "id": "e44197d7",
   "metadata": {},
   "outputs": [],
   "source": []
  }
 ],
 "metadata": {
  "kernelspec": {
   "display_name": "Python 3",
   "language": "python",
   "name": "python3"
  },
  "language_info": {
   "codemirror_mode": {
    "name": "ipython",
    "version": 3
   },
   "file_extension": ".py",
   "mimetype": "text/x-python",
   "name": "python",
   "nbconvert_exporter": "python",
   "pygments_lexer": "ipython3",
   "version": "3.6.8"
  }
 },
 "nbformat": 4,
 "nbformat_minor": 5
}

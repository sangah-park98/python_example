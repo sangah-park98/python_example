{
 "cells": [
  {
   "cell_type": "markdown",
   "id": "1239fd35",
   "metadata": {},
   "source": [
    "넘겨받은 인수를 딕셔너리 형태로 변환하는 함수 => 딕셔너리 변환 인자는 '**변수이름' 형태로 표현한다.\n"
   ]
  },
  {
   "cell_type": "code",
   "execution_count": 6,
   "id": "01dcd727",
   "metadata": {},
   "outputs": [],
   "source": [
    " def func8(**args):\n",
    "    print(type(args))\n",
    "    print(args)"
   ]
  },
  {
   "cell_type": "code",
   "execution_count": 7,
   "id": "78c4c5da",
   "metadata": {},
   "outputs": [
    {
     "name": "stdout",
     "output_type": "stream",
     "text": [
      "<class 'dict'>\n",
      "{}\n"
     ]
    }
   ],
   "source": [
    "func8()"
   ]
  },
  {
   "cell_type": "code",
   "execution_count": 12,
   "id": "99031c49",
   "metadata": {
    "scrolled": true
   },
   "outputs": [
    {
     "name": "stdout",
     "output_type": "stream",
     "text": [
      "<class 'dict'>\n",
      "{'apple': 1000}\n"
     ]
    }
   ],
   "source": [
    "# '**변수이름' 형태로 인수를 사용하는 함수에는 key와 key에 할당할 value를 'key=value' 형태로 전달한다.\n",
    "# func8(1000) # 'key=value' 형태로 전달하지 않아서 에러가 발생된다.\n",
    "func8(apple=1000)"
   ]
  },
  {
   "cell_type": "code",
   "execution_count": 13,
   "id": "faaa7227",
   "metadata": {},
   "outputs": [
    {
     "name": "stdout",
     "output_type": "stream",
     "text": [
      "<class 'dict'>\n",
      "{'apple': 1000, 'watermelon': 20000}\n"
     ]
    }
   ],
   "source": [
    "func8(apple=1000, watermelon=20000)"
   ]
  },
  {
   "cell_type": "code",
   "execution_count": null,
   "id": "8843ae77",
   "metadata": {},
   "outputs": [],
   "source": []
  },
  {
   "cell_type": "code",
   "execution_count": null,
   "id": "1405ece0",
   "metadata": {},
   "outputs": [],
   "source": []
  }
 ],
 "metadata": {
  "kernelspec": {
   "display_name": "Python 3",
   "language": "python",
   "name": "python3"
  },
  "language_info": {
   "codemirror_mode": {
    "name": "ipython",
    "version": 3
   },
   "file_extension": ".py",
   "mimetype": "text/x-python",
   "name": "python",
   "nbconvert_exporter": "python",
   "pygments_lexer": "ipython3",
   "version": "3.6.8"
  }
 },
 "nbformat": 4,
 "nbformat_minor": 5
}

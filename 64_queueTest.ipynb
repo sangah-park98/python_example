{
 "cells": [
  {
   "cell_type": "code",
   "execution_count": 2,
   "id": "3d28645c",
   "metadata": {},
   "outputs": [
    {
     "name": "stdout",
     "output_type": "stream",
     "text": [
      "큐에 저장된 데이터 => 없음\n"
     ]
    }
   ],
   "source": [
    "from queueModule import Queue\n",
    "queue = Queue()\n",
    "queue.view()"
   ]
  },
  {
   "cell_type": "code",
   "execution_count": 3,
   "id": "8154237f",
   "metadata": {},
   "outputs": [
    {
     "name": "stdout",
     "output_type": "stream",
     "text": [
      "------------------------------\n",
      "1. add 2. remove 3. view 4. 종료\n",
      "------------------------------\n",
      "원하는 메뉴를 입력하고 Enter 키를 누르세요: 3\n",
      "큐에 저장된 데이터 => 없음\n",
      "------------------------------\n",
      "1. add 2. remove 3. view 4. 종료\n",
      "------------------------------\n",
      "원하는 메뉴를 입력하고 Enter 키를 누르세요: 1\n",
      "큐에 저장할 데이터를 입력하세요: 111\n",
      "큐에 111을(를) 저장합니다. rear = 1, front = 0\n",
      "큐에 저장된 데이터 => 111 \n",
      "------------------------------\n",
      "1. add 2. remove 3. view 4. 종료\n",
      "------------------------------\n",
      "원하는 메뉴를 입력하고 Enter 키를 누르세요: 1\n",
      "큐에 저장할 데이터를 입력하세요: 999\n",
      "큐에 999을(를) 저장합니다. rear = 2, front = 0\n",
      "큐에 저장된 데이터 => 111 999 \n",
      "------------------------------\n",
      "1. add 2. remove 3. view 4. 종료\n",
      "------------------------------\n",
      "원하는 메뉴를 입력하고 Enter 키를 누르세요: 3\n",
      "큐에 저장된 데이터 => 111 999 \n",
      "------------------------------\n",
      "1. add 2. remove 3. view 4. 종료\n",
      "------------------------------\n",
      "원하는 메뉴를 입력하고 Enter 키를 누르세요: 4\n",
      "프로그램을 종료합니다.\n"
     ]
    }
   ],
   "source": [
    "menu = 0\n",
    "while menu != 4:\n",
    "    while True:\n",
    "        print('-' * 30)\n",
    "        print('1. add 2. remove 3. view 4. 종료')\n",
    "        print('-' * 30)\n",
    "        menu = int(input('원하는 메뉴를 입력하고 Enter 키를 누르세요: '))\n",
    "        if menu in [1, 2, 3, 4]:\n",
    "            break\n",
    "        else:\n",
    "            print('메뉴는 1 ~ 4 사이의 정수만 입력해야 합니다.')\n",
    "        # ----- if\n",
    "    # ------- while\n",
    "    \n",
    "    if menu == 1:\n",
    "        data = input('큐에 저장할 데이터를 입력하세요: ')\n",
    "        queue.add(data)\n",
    "    elif menu == 2:\n",
    "        queue.remove()\n",
    "    elif menu == 3:\n",
    "        queue.view()\n",
    "    # ------ if\n",
    "# -------- while\n",
    "print('프로그램을 종료합니다.')"
   ]
  },
  {
   "cell_type": "code",
   "execution_count": null,
   "id": "63c083d9",
   "metadata": {},
   "outputs": [],
   "source": []
  },
  {
   "cell_type": "code",
   "execution_count": null,
   "id": "b6c2ff02",
   "metadata": {},
   "outputs": [],
   "source": []
  },
  {
   "cell_type": "code",
   "execution_count": null,
   "id": "379801aa",
   "metadata": {},
   "outputs": [],
   "source": []
  },
  {
   "cell_type": "code",
   "execution_count": null,
   "id": "6888a58c",
   "metadata": {},
   "outputs": [],
   "source": []
  },
  {
   "cell_type": "code",
   "execution_count": null,
   "id": "99ab823d",
   "metadata": {},
   "outputs": [],
   "source": []
  },
  {
   "cell_type": "code",
   "execution_count": null,
   "id": "bb19e2a9",
   "metadata": {},
   "outputs": [],
   "source": []
  },
  {
   "cell_type": "code",
   "execution_count": null,
   "id": "74584111",
   "metadata": {},
   "outputs": [],
   "source": []
  },
  {
   "cell_type": "code",
   "execution_count": null,
   "id": "347a3f8f",
   "metadata": {},
   "outputs": [],
   "source": []
  },
  {
   "cell_type": "code",
   "execution_count": null,
   "id": "452e7429",
   "metadata": {},
   "outputs": [],
   "source": []
  }
 ],
 "metadata": {
  "kernelspec": {
   "display_name": "Python 3",
   "language": "python",
   "name": "python3"
  },
  "language_info": {
   "codemirror_mode": {
    "name": "ipython",
    "version": 3
   },
   "file_extension": ".py",
   "mimetype": "text/x-python",
   "name": "python",
   "nbconvert_exporter": "python",
   "pygments_lexer": "ipython3",
   "version": "3.6.8"
  }
 },
 "nbformat": 4,
 "nbformat_minor": 5
}

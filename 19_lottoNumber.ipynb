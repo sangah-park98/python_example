{
 "cells": [
  {
   "cell_type": "code",
   "execution_count": 3,
   "id": "26a7ba4c",
   "metadata": {},
   "outputs": [],
   "source": [
    "import random\n",
    "lotto = [i for i in range(1, 46)]"
   ]
  },
  {
   "cell_type": "code",
   "execution_count": 6,
   "id": "c6cf1873",
   "metadata": {},
   "outputs": [
    {
     "name": "stdout",
     "output_type": "stream",
     "text": [
      "로또 복권 구매 금액을 입력하세요: 5000\n",
      "  1 game: 05 15 22 24 33 42 \n",
      "  2 game: 14 16 25 28 41 45 \n",
      "  3 game: 05 08 19 26 30 44 \n",
      "  4 game: 11 15 17 21 25 42 \n",
      "  5 game: 03 11 13 23 26 28 \n"
     ]
    }
   ],
   "source": [
    "# 로또 복권 구매 금액을 입력받아 입력받은 금액만큼 로또 번호를 생성하는 프로그램\n",
    "# 로또 복권 구매 금액을 입력받는다.\n",
    "money = int(input('로또 복권 구매 금액을 입력하세요: '))\n",
    "# 로또 복권 구매 금액만큼 반복하며 로또 번호를 생성한다.\n",
    "for i in range(money // 1000):\n",
    "    random.shuffle(lotto)\n",
    "    print('{:3d} game: '.format(i + 1), end='')\n",
    "    result = lotto[:6]\n",
    "    result.sort()\n",
    "    for j in range(6):\n",
    "        print('{:02d} '.format(result[j]), end='')\n",
    "    print()"
   ]
  },
  {
   "cell_type": "code",
   "execution_count": 7,
   "id": "bfdd9b47",
   "metadata": {},
   "outputs": [
    {
     "name": "stdout",
     "output_type": "stream",
     "text": [
      "로또 복권 구매 금액을 입력하세요: 5000\n",
      "  1 game: 08 10 21 23 24 28 \n",
      "  2 game: 02 04 32 34 41 43 \n",
      "  3 game: 06 07 18 30 35 41 \n",
      "  4 game: 02 11 27 28 39 42 \n",
      "  5 game: 19 25 27 28 42 45 \n"
     ]
    }
   ],
   "source": [
    "money = int(input('로또 복권 구매 금액을 입력하세요: '))\n",
    "# 로또 복권 구매 금액만큼 반복하며 로또 번호를 생성한다.\n",
    "for i in range(money // 1000):\n",
    "    # random.shuffle(lotto)\n",
    "    print('{:3d} game: '.format(i + 1), end='')\n",
    "    # result = lotto[:6]\n",
    "    result = random.sample(lotto, 6)\n",
    "    result.sort()\n",
    "    for j in range(6):\n",
    "        print('{:02d} '.format(result[j]), end='')\n",
    "    print()"
   ]
  },
  {
   "cell_type": "code",
   "execution_count": null,
   "id": "9925f9e7",
   "metadata": {},
   "outputs": [],
   "source": []
  },
  {
   "cell_type": "code",
   "execution_count": null,
   "id": "21341a77",
   "metadata": {},
   "outputs": [],
   "source": []
  },
  {
   "cell_type": "code",
   "execution_count": null,
   "id": "b926e8dd",
   "metadata": {},
   "outputs": [],
   "source": []
  },
  {
   "cell_type": "code",
   "execution_count": null,
   "id": "96edf0fd",
   "metadata": {},
   "outputs": [],
   "source": []
  },
  {
   "cell_type": "code",
   "execution_count": null,
   "id": "d3821f02",
   "metadata": {},
   "outputs": [],
   "source": []
  },
  {
   "cell_type": "code",
   "execution_count": null,
   "id": "27aaa196",
   "metadata": {},
   "outputs": [],
   "source": []
  },
  {
   "cell_type": "code",
   "execution_count": null,
   "id": "a96c10ee",
   "metadata": {},
   "outputs": [],
   "source": []
  },
  {
   "cell_type": "code",
   "execution_count": null,
   "id": "0915972a",
   "metadata": {},
   "outputs": [],
   "source": []
  },
  {
   "cell_type": "code",
   "execution_count": null,
   "id": "2626702f",
   "metadata": {},
   "outputs": [],
   "source": []
  },
  {
   "cell_type": "code",
   "execution_count": null,
   "id": "1f1acff3",
   "metadata": {},
   "outputs": [],
   "source": []
  },
  {
   "cell_type": "code",
   "execution_count": null,
   "id": "f45c6e94",
   "metadata": {},
   "outputs": [],
   "source": []
  },
  {
   "cell_type": "code",
   "execution_count": null,
   "id": "da0109bc",
   "metadata": {},
   "outputs": [],
   "source": []
  },
  {
   "cell_type": "code",
   "execution_count": null,
   "id": "e1b2090e",
   "metadata": {},
   "outputs": [],
   "source": []
  },
  {
   "cell_type": "code",
   "execution_count": null,
   "id": "4bf6469a",
   "metadata": {},
   "outputs": [],
   "source": []
  }
 ],
 "metadata": {
  "kernelspec": {
   "display_name": "Python 3",
   "language": "python",
   "name": "python3"
  },
  "language_info": {
   "codemirror_mode": {
    "name": "ipython",
    "version": 3
   },
   "file_extension": ".py",
   "mimetype": "text/x-python",
   "name": "python",
   "nbconvert_exporter": "python",
   "pygments_lexer": "ipython3",
   "version": "3.6.8"
  }
 },
 "nbformat": 4,
 "nbformat_minor": 5
}

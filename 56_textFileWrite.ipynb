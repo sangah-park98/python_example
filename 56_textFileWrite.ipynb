{
 "cells": [
  {
   "cell_type": "markdown",
   "id": "398c6b04",
   "metadata": {},
   "source": [
    "파이썬을 이용해서 텍스트 파일을 처리할 경우 파일 탐색기에서 아래의 설정이 되어 있나 확인한다.  \n",
    "window 10, 11: 파일 탐색기 => 보기 메뉴 => 파일 확장명 체크  \n",
    "window 7, 8: 파일 탐색기 => 보기 메뉴 => 폴더 검색 및 옵션 변경 => 보기 탭 => 알려진 파일 형식의 ~~ 체크 해제하기!  \n",
    "    "
   ]
  },
  {
   "cell_type": "markdown",
   "id": "76ba7aa7",
   "metadata": {},
   "source": [
    "파일로 출력하거나 파일에서 읽어오는 경우 반드시 파일을 open 시켜야 한다."
   ]
  },
  {
   "cell_type": "markdown",
   "id": "8e9953ef",
   "metadata": {},
   "source": [
    "파일 열기  \n",
    "변수 = open('텍스트 파일 이름', '파일 열기 모드')  \n",
    "파일 열기 모드 => w(write, 쓰기(새로 만들기), a(append, 쓰기(추가)), r(read, 읽기)  \n",
    "w는 지정한 파일이 없으면 파일을 만든 후 저장하고 파일이 있으면 내용을 지우고 저장한다. => 덮어쓰기  \n",
    "a는 지정한 파일이 없으면 파일을 만든 후 저장하고 파일이 있으면 기존 내용 뒤에 추가해서 저장한다. => 추가  \n",
    "r은 지정한 파일이 없으면 에러가 발생된다.  \n",
    "w, a 모드로 파일을 열어서 작업했으면 반드시 파일을 close() 메소드를 사용해서 닫아야 파일에 데이터가 저장된다. r 모드로 파일을 열어서 작업했으면 파일을 닫지 않아도 상관없다.  "
   ]
  },
  {
   "cell_type": "code",
   "execution_count": 6,
   "id": "21d94d28",
   "metadata": {},
   "outputs": [],
   "source": [
    "# open() 함수에 파일 이름만 쓰면 현재 화면에 작업중인 프로그램이 위치한 경로에 위치한 파일이라는 의미이다.\n",
    "# open('data.txt', 'w')을 사용해서 파일을 open 할 때 'cp949'라는 메시지가 보이며 한글 인코딩 문제로 에러가 발생되면\n",
    "# open('data.txt', 'w' -1, 'utf-8') 형식으로 파일을 열면 된다.\n",
    "file = open('data.txt', 'w') # data.txt 파일을 출력(덮어쓰기 용으로 open한다.)\n",
    "for i in range(10):\n",
    "    # 화면에 출력할 때는 print()를 사용하고 파일로 출력할 때는 write()를 사용한다.\n",
    "    # 출력할 때 끝에 개행 문자('\\n')를 붙여야 텍스트 파일에 데이터가 저장될 때 줄이 바뀐다.\n",
    "    file.write('꺄~~~~' + '\\n')\n",
    "file.close()"
   ]
  },
  {
   "cell_type": "markdown",
   "id": "6d2a6ed3",
   "metadata": {},
   "source": [
    "경로 지정 방법  \n",
    "\n",
    "절대 경로 지정 방식 : 디스크 드라이브의 최상위(root) 폴더(디렉토리)부터 파일이 저장된 폴더까지의 경로를 의미한다.  \n",
    "상대 경로 지정 방식 : 현재 화면에 표시되는 소스 프로그램 파일이 위치한 폴더부터 텍스트 파일이 위치한 폴더까지의 경로를 의미한다.  "
   ]
  },
  {
   "cell_type": "code",
   "execution_count": 10,
   "id": "55ec56b0",
   "metadata": {},
   "outputs": [],
   "source": [
    "# 현재 작업중인 소스 프로그램이 위치한 경로가 아닌 다른 경로에 파일을 저장하려면 반드시 파일이 저장될 경로를 지정해야 한다.\n",
    "# C:\\DevData\\python\\basic\\workspace\\data\\data2.txt => 절대 경로, 에러\n",
    "# 위와 같이 경로를 지정하면 이스케이프 시퀀스로 잘못 인식해서 오류가 발생되므로 '\\'를 '\\\\' 또는 '/'로 수정한다.\n",
    "# '.' => 현재 화면에 표시되는 소스 프로그램이 저장된 폴더\n",
    "# '..' => 현재 화면에 표시되는 소스 프로그램이 저장된 폴더의 한 단계 상위 폴더\n",
    "\n",
    "\n",
    "file = open('./data/data2.txt', 'w') # data.txt 파일을 출력(덮어쓰기 용으로 open한다.)\n",
    "for i in range(10):\n",
    "    file.write('꺄~~~~' + '\\n')\n",
    "file.close()"
   ]
  },
  {
   "cell_type": "code",
   "execution_count": 12,
   "id": "e34fc5b2",
   "metadata": {},
   "outputs": [
    {
     "name": "stdout",
     "output_type": "stream",
     "text": [
      ">>> asdjfhafa\n",
      ">>> asdjfhsdakjshad'\n",
      ">>> ahfskdfhsdakf\n",
      ">>> asdgfasdkuhsf\n",
      ">>> quit\n"
     ]
    }
   ],
   "source": [
    "# 키보드로 입력한 문자열을 텍스트 파일에 저장한다.  \n",
    "# 'quit'가 입력되면 저장을 종료한다. => 'quit'가 대문자로 입력되던 소문자로 입력되던 섞여서 입력되던 종료한다.  \n",
    "file = open('./data/data3.txt', 'w') # data.txt 파일을 출력(덮어쓰기 용으로 open한다.)\n",
    "while True:\n",
    "    string = input('>>> ')\n",
    "    if string == 'quit':\n",
    "        break\n",
    "    # ---- if\n",
    "    file.write(string + '\\n')\n",
    "file.close()"
   ]
  },
  {
   "cell_type": "code",
   "execution_count": 14,
   "id": "7f421b15",
   "metadata": {},
   "outputs": [
    {
     "name": "stdout",
     "output_type": "stream",
     "text": [
      ">>> 배가 너무 고파요!\n",
      ">>> 오늘 점심은 등촌!\n",
      ">>> 샤브샤브!\n",
      ">>> 갹!\n",
      ">>> quit\n"
     ]
    }
   ],
   "source": [
    "# with 구문을 사용해서 파일을 open하면 with 블록의 모든 내용이 실행되고 난 후 파일을 자동으로 닫아준다.\n",
    "with open('./data/data4.txt', 'w') as file:\n",
    "    while True:\n",
    "        string = input('>>> ')\n",
    "        if string == 'quit':\n",
    "            break\n",
    "        # ---- if\n",
    "        file.write(string + '\\n')\n",
    "# file.close() # with 구문을 사용해 파일을 open하면 close() 메소드를 사용하지 않아도 된다."
   ]
  },
  {
   "cell_type": "code",
   "execution_count": 16,
   "id": "62b44682",
   "metadata": {},
   "outputs": [
    {
     "name": "stdout",
     "output_type": "stream",
     "text": [
      ">>> 다시 한 번\n",
      ">>> 실행을\n",
      ">>> 해서~~~~\n",
      ">>> quit\n"
     ]
    }
   ],
   "source": [
    "# with 구문을 사용해서 파일을 open하면 with 블록의 모든 내용이 실행되고 난 후 파일을 자동으로 닫아준다.\n",
    "with open('./data/data5.txt', 'a') as file:\n",
    "    while True:\n",
    "        string = input('>>> ')\n",
    "        if string == 'quit':\n",
    "            break\n",
    "        # ---- if\n",
    "        file.write(string + '\\n')\n",
    "# file.close() # with 구문을 사용해 파일을 open하면 close() 메소드를 사용하지 않아도 된다."
   ]
  },
  {
   "cell_type": "code",
   "execution_count": null,
   "id": "3f13e5b5",
   "metadata": {},
   "outputs": [],
   "source": []
  },
  {
   "cell_type": "code",
   "execution_count": null,
   "id": "e7206972",
   "metadata": {},
   "outputs": [],
   "source": []
  },
  {
   "cell_type": "code",
   "execution_count": null,
   "id": "3cbf26aa",
   "metadata": {},
   "outputs": [],
   "source": []
  },
  {
   "cell_type": "code",
   "execution_count": null,
   "id": "7c949d76",
   "metadata": {},
   "outputs": [],
   "source": []
  },
  {
   "cell_type": "code",
   "execution_count": null,
   "id": "e37fd0d1",
   "metadata": {},
   "outputs": [],
   "source": []
  },
  {
   "cell_type": "code",
   "execution_count": null,
   "id": "af9d0154",
   "metadata": {},
   "outputs": [],
   "source": []
  },
  {
   "cell_type": "code",
   "execution_count": null,
   "id": "01d32407",
   "metadata": {},
   "outputs": [],
   "source": []
  },
  {
   "cell_type": "code",
   "execution_count": null,
   "id": "135dbcc8",
   "metadata": {},
   "outputs": [],
   "source": []
  }
 ],
 "metadata": {
  "kernelspec": {
   "display_name": "Python 3",
   "language": "python",
   "name": "python3"
  },
  "language_info": {
   "codemirror_mode": {
    "name": "ipython",
    "version": 3
   },
   "file_extension": ".py",
   "mimetype": "text/x-python",
   "name": "python",
   "nbconvert_exporter": "python",
   "pygments_lexer": "ipython3",
   "version": "3.6.8"
  }
 },
 "nbformat": 4,
 "nbformat_minor": 5
}

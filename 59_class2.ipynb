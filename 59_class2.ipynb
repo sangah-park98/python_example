{
 "cells": [
  {
   "cell_type": "code",
   "execution_count": 1,
   "id": "21097148",
   "metadata": {},
   "outputs": [],
   "source": [
    "import math"
   ]
  },
  {
   "cell_type": "code",
   "execution_count": 2,
   "id": "cf729512",
   "metadata": {},
   "outputs": [
    {
     "name": "stdout",
     "output_type": "stream",
     "text": [
      "3.141592653589793\n"
     ]
    }
   ],
   "source": [
    "print(math.pi)"
   ]
  },
  {
   "cell_type": "code",
   "execution_count": 5,
   "id": "6bb15bdc",
   "metadata": {},
   "outputs": [],
   "source": [
    "# 원의 반지름을 인수로 넘겨받아 초기화하고 원의 너비와 둘레를 계산하는 메소드를 포함하는 클래스  \n",
    "class Circle:\n",
    "    def __init__(self, radius=1):\n",
    "        self.radius = radius\n",
    "    def __str__(self):\n",
    "        return '반지름: {}'.format(self.radius)\n",
    "    \n",
    "    # 원의 둘레를 계산해서 출력하는 메소드\n",
    "    def roundCircle(self):\n",
    "        print('반지름이 {}인 원의 둘레는 {} 입니다.'.format(self.radius, 2 * math.pi * self.radius))\n",
    "    \n",
    "    # 원의 너비를 계산해서 출력하는 메소드\n",
    "    def areaCirce(self):\n",
    "        print('반지름이 {}인 원의 넓이는 {} 입니다.'.format(self.radius, math.pi * self.radius **2))"
   ]
  },
  {
   "cell_type": "code",
   "execution_count": 6,
   "id": "fd6b1720",
   "metadata": {},
   "outputs": [
    {
     "name": "stdout",
     "output_type": "stream",
     "text": [
      "반지름: 5\n",
      "반지름이 5인 원의 넓이는 78.53981633974483 입니다.\n",
      "반지름이 5인 원의 둘레는 31.41592653589793 입니다.\n"
     ]
    }
   ],
   "source": [
    "circle = Circle(5)\n",
    "print(circle)\n",
    "circle.areaCirce()\n",
    "circle.roundCircle()\n"
   ]
  },
  {
   "cell_type": "code",
   "execution_count": null,
   "id": "75d6809b",
   "metadata": {},
   "outputs": [],
   "source": []
  },
  {
   "cell_type": "code",
   "execution_count": null,
   "id": "fd567a0c",
   "metadata": {},
   "outputs": [],
   "source": []
  },
  {
   "cell_type": "code",
   "execution_count": null,
   "id": "6906ac2f",
   "metadata": {},
   "outputs": [],
   "source": []
  },
  {
   "cell_type": "code",
   "execution_count": null,
   "id": "7ceab370",
   "metadata": {},
   "outputs": [],
   "source": []
  },
  {
   "cell_type": "code",
   "execution_count": null,
   "id": "501080e6",
   "metadata": {},
   "outputs": [],
   "source": []
  },
  {
   "cell_type": "code",
   "execution_count": null,
   "id": "b37d0133",
   "metadata": {},
   "outputs": [],
   "source": []
  },
  {
   "cell_type": "code",
   "execution_count": null,
   "id": "f7f3876f",
   "metadata": {},
   "outputs": [],
   "source": []
  },
  {
   "cell_type": "code",
   "execution_count": null,
   "id": "419cfc97",
   "metadata": {},
   "outputs": [],
   "source": []
  }
 ],
 "metadata": {
  "kernelspec": {
   "display_name": "Python 3",
   "language": "python",
   "name": "python3"
  },
  "language_info": {
   "codemirror_mode": {
    "name": "ipython",
    "version": 3
   },
   "file_extension": ".py",
   "mimetype": "text/x-python",
   "name": "python",
   "nbconvert_exporter": "python",
   "pygments_lexer": "ipython3",
   "version": "3.6.8"
  }
 },
 "nbformat": 4,
 "nbformat_minor": 5
}

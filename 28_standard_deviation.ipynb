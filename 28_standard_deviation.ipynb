{
 "cells": [
  {
   "cell_type": "markdown",
   "id": "eed99bea",
   "metadata": {},
   "source": [
    "분산, 표준편차\n",
    "\n",
    "n개의 데이터(999가 입력되기 전까지)를 입력받아 최대값과 최소값을 제외한 나머지 데이터의 표준편차를 계산하는 프로그램\n",
    "***\n",
    "표준편차 공식  \n",
    "$$\\sqrt{\\frac{\\sum_{i=1}^{n-2}(x_i - \\bar{x})^2}{N-2}}$$\n"
   ]
  },
  {
   "cell_type": "markdown",
   "id": "a3fd044a",
   "metadata": {},
   "source": [
    "<img src=\"./images/standard_deviation.png\" align=\"left\"/>"
   ]
  },
  {
   "cell_type": "markdown",
   "id": "20a08dd0",
   "metadata": {},
   "source": [
    "999가 입력되기 전까지 데이터 입력받기"
   ]
  },
  {
   "cell_type": "code",
   "execution_count": null,
   "id": "5de90076",
   "metadata": {},
   "outputs": [],
   "source": [
    "data = []\n",
    "while True:\n",
    "    n = int(input('n: '))\n",
    "    if n == 999:\n",
    "        break\n",
    "    data.append(n)"
   ]
  },
  {
   "cell_type": "markdown",
   "id": "ddcde41c",
   "metadata": {},
   "source": [
    "데이터를 입력받을 때 최대값, 최소값 판단하기"
   ]
  },
  {
   "cell_type": "code",
   "execution_count": 8,
   "id": "d4b5bc1c",
   "metadata": {},
   "outputs": [
    {
     "name": "stdout",
     "output_type": "stream",
     "text": [
      "최대값: 91, 최소값: 35\n"
     ]
    }
   ],
   "source": [
    "# data = [35, 91, 75, 62, 84]\n",
    "data = [35, 62, 75, 84, 91]\n",
    "# 최대값을 기억할 변수는 아주 작은 값을, 최소값을 기억할 변수는 아주 큰 값을 초기치로 넣어주고 비교한다.\n",
    "big = 0\n",
    "small = 100\n",
    "for score in data:\n",
    "    if score > big:\n",
    "        big = score\n",
    "    if score < small:\n",
    "        small = score\n",
    "print(f'최대값: {big}, 최소값: {small}')"
   ]
  },
  {
   "cell_type": "markdown",
   "id": "39899e1f",
   "metadata": {},
   "source": [
    "데이터를 입력받은 후 최대값, 최소값 판단하기"
   ]
  },
  {
   "cell_type": "code",
   "execution_count": 10,
   "id": "6d00c966",
   "metadata": {},
   "outputs": [
    {
     "name": "stdout",
     "output_type": "stream",
     "text": [
      "최대값: 91, 최소값: 35\n"
     ]
    }
   ],
   "source": [
    "data = [35, 91, 75, 62, 84]\n",
    "# data = [35, 62, 75, 84, 91]\n",
    "# 최대값을 기억할 변수는 아주 작은 값을, 최소값을 기억할 변수는 아주 큰 값을 초기치로 넣어주고 비교한다.\n",
    "big = data[0]\n",
    "small = data[0]\n",
    "for score in data[1:]:\n",
    "    if score > big:\n",
    "        big = score\n",
    "    elif score < small:\n",
    "        small = score\n",
    "print(f'최대값: {big}, 최소값: {small}')"
   ]
  },
  {
   "cell_type": "markdown",
   "id": "646fd9a8",
   "metadata": {},
   "source": [
    "max(), min() 함수로 최대값, 최소값 판단하기"
   ]
  },
  {
   "cell_type": "code",
   "execution_count": 11,
   "id": "b11a2608",
   "metadata": {},
   "outputs": [
    {
     "name": "stdout",
     "output_type": "stream",
     "text": [
      "최대값: 91, 최소값: 35\n"
     ]
    }
   ],
   "source": [
    "data = [35, 91, 75, 62, 84]\n",
    "# data = [35, 62, 75, 84, 91]\n",
    "print(f'최대값: {max(data)}, 최소값: {min(data)}')"
   ]
  },
  {
   "cell_type": "code",
   "execution_count": null,
   "id": "30b52fb7",
   "metadata": {},
   "outputs": [],
   "source": [
    "데이터를 정렬시켜서 최대값, 최소값 판단하기"
   ]
  },
  {
   "cell_type": "code",
   "execution_count": 14,
   "id": "7264928e",
   "metadata": {},
   "outputs": [
    {
     "name": "stdout",
     "output_type": "stream",
     "text": [
      "[35, 62, 75, 84, 91]\n",
      "최대값: 91, 최소값: 35\n",
      "[91, 84, 75, 62, 35]\n",
      "최대값: 91, 최소값: 35\n"
     ]
    }
   ],
   "source": [
    "data = [35, 91, 75, 62, 84]\n",
    "data.sort()\n",
    "print(data)\n",
    "print(f'최대값: {data[-1]}, 최소값: {data[0]}')\n",
    "data.sort(reverse=True)\n",
    "print(data)\n",
    "print(f'최대값: {data[0]}, 최소값: {data[-1]}')"
   ]
  },
  {
   "cell_type": "code",
   "execution_count": 17,
   "id": "11bd4406",
   "metadata": {},
   "outputs": [
    {
     "name": "stdout",
     "output_type": "stream",
     "text": [
      "1번째 표준편차를 계산할 데이터를 입력하세요: 5\n",
      "2번째 표준편차를 계산할 데이터를 입력하세요: 3\n",
      "3번째 표준편차를 계산할 데이터를 입력하세요: 2\n",
      "4번째 표준편차를 계산할 데이터를 입력하세요: 4\n",
      "5번째 표준편차를 계산할 데이터를 입력하세요: 999\n",
      "입력받은 데이터는 4개 이고 데이터는 [5, 3, 2, 4]입니다.\n"
     ]
    }
   ],
   "source": [
    "# 표준편차를 계산할 데이터를 999가 입력될 때까지 입력받는다.\n",
    "score = []\n",
    "# 999가 몇번째 데이터로 입력될지 모르기 때문에 무한 루프를 돌린다.\n",
    "while True:\n",
    "    data = int(input('{}번째 표준편차를 계산할 데이터를 입력하세요: '.format(len(score) + 1)))\n",
    "    # 입력받은 데이터가 999면 더 이상 데이터를 입력받을 필요 없으므로 무한 루프를 탈출한다.\n",
    "    if data == 999:\n",
    "        break\n",
    "    # ----- if\n",
    "    # 999가 입력되지 않았으므로 리스트에 입력받은 데이터를 추가한다.\n",
    "    score.append(data)\n",
    "# ------ while\n",
    "print(f'입력받은 데이터는 {len(score)}개 이고 데이터는 {score}입니다.')"
   ]
  },
  {
   "cell_type": "markdown",
   "id": "54153f97",
   "metadata": {},
   "source": [
    "최대값과 최소값을 제외한 나머지 데이터의 평균을 계산한다."
   ]
  },
  {
   "cell_type": "code",
   "execution_count": 26,
   "id": "2c985fa3",
   "metadata": {},
   "outputs": [
    {
     "name": "stdout",
     "output_type": "stream",
     "text": [
      "최대값과 최소값을 제외한 나머지 데이터의 합계: 7\n",
      "최대값과 최소값을 제외한 나머지 데이터의 평균: 3.5\n"
     ]
    }
   ],
   "source": [
    "big = max(score)\n",
    "small = min(score)\n",
    "'''\n",
    "total = 0\n",
    "for s in score:\n",
    "    total += s\n",
    "# total= total - big - small\n",
    "total -= big + small\n",
    "'''\n",
    "\n",
    "total = sum(score) - big - small\n",
    "print(f'최대값과 최소값을 제외한 나머지 데이터의 합계: {total}')\n",
    "\n",
    "mean = total / (len(score) - 2)\n",
    "print(f'최대값과 최소값을 제외한 나머지 데이터의 평균: {mean}')"
   ]
  },
  {
   "cell_type": "code",
   "execution_count": 30,
   "id": "57721ec9",
   "metadata": {},
   "outputs": [
    {
     "name": "stdout",
     "output_type": "stream",
     "text": [
      "최대값과 최소값을 제외한 나머지 데이터의 합계: 7\n",
      "최대값과 최소값을 제외한 나머지 데이터의 평균: 3.5\n"
     ]
    }
   ],
   "source": [
    "score.sort()\n",
    "total = 0\n",
    "'''\n",
    "# for s in score[1:len(score)-1]:\n",
    "for s in score[1:-1]:\n",
    "    total += s\n",
    "'''\n",
    "total = sum(score[1:-1])\n",
    "print(f'최대값과 최소값을 제외한 나머지 데이터의 합계: {total}')   \n",
    "mean = total / (len(score) - 2)\n",
    "print(f'최대값과 최소값을 제외한 나머지 데이터의 평균: {mean}')"
   ]
  },
  {
   "cell_type": "code",
   "execution_count": 31,
   "id": "08780fca",
   "metadata": {},
   "outputs": [
    {
     "name": "stdout",
     "output_type": "stream",
     "text": [
      "최대값과 최소값을 제외한 나머지 데이터의 분산: 3.5\n"
     ]
    }
   ],
   "source": [
    "# 최대값과 최소값을 제외한 나머지 데이터와 산술평균의 편차의 제곱의 평균을 계산한다.\n",
    "var = total / (len(score)-2)\n",
    "print(f'최대값과 최소값을 제외한 나머지 데이터의 분산: {var}')"
   ]
  },
  {
   "cell_type": "code",
   "execution_count": 33,
   "id": "bb3e0b48",
   "metadata": {},
   "outputs": [
    {
     "ename": "NameError",
     "evalue": "name 'math' is not defined",
     "output_type": "error",
     "traceback": [
      "\u001b[1;31m---------------------------------------------------------------------------\u001b[0m",
      "\u001b[1;31mNameError\u001b[0m                                 Traceback (most recent call last)",
      "\u001b[1;32m<ipython-input-33-f9c633cecdde>\u001b[0m in \u001b[0;36m<module>\u001b[1;34m\u001b[0m\n\u001b[0;32m      1\u001b[0m \u001b[1;31m# std = var ** 0.5\u001b[0m\u001b[1;33m\u001b[0m\u001b[1;33m\u001b[0m\u001b[1;33m\u001b[0m\u001b[0m\n\u001b[1;32m----> 2\u001b[1;33m \u001b[0mstd\u001b[0m \u001b[1;33m=\u001b[0m \u001b[0mmath\u001b[0m\u001b[1;33m.\u001b[0m\u001b[0msqrt\u001b[0m\u001b[1;33m(\u001b[0m\u001b[0mvar\u001b[0m\u001b[1;33m)\u001b[0m\u001b[1;33m\u001b[0m\u001b[1;33m\u001b[0m\u001b[0m\n\u001b[0m\u001b[0;32m      3\u001b[0m \u001b[0mprint\u001b[0m\u001b[1;33m(\u001b[0m\u001b[1;34mf'최대값과 최소값을 제외한 나머지 데이터의 표준편차: {std}'\u001b[0m\u001b[1;33m)\u001b[0m\u001b[1;33m\u001b[0m\u001b[1;33m\u001b[0m\u001b[0m\n",
      "\u001b[1;31mNameError\u001b[0m: name 'math' is not defined"
     ]
    }
   ],
   "source": [
    "# std = var ** 0.5\n",
    "std = math.sqrt(var)\n",
    "print(f'최대값과 최소값을 제외한 나머지 데이터의 표준편차: {std}')"
   ]
  },
  {
   "cell_type": "markdown",
   "id": "a4e62272",
   "metadata": {},
   "source": [
    "numpy 라이브러리를 이용해서 분산과 표준편차 계산하기  \n",
    "\n",
    "numpy는 파이썬을 설치할 때 자동으로 설치되는 라이브러리가 아니기 때문에 별도로 설치하는 과정이 필요하다.  \n",
    "콘솔창에서 pip install numpy와 같이 입력해서 설치하면 되고 쥬피터 노트북에서 바로 라이브러리를 설치하려면 !ipip install numpy와 같이 pip앞에 '!'를 붙여서 실행하면 된다."
   ]
  },
  {
   "cell_type": "code",
   "execution_count": null,
   "id": "278259a5",
   "metadata": {},
   "outputs": [],
   "source": [
    "# !pip install numpy"
   ]
  },
  {
   "cell_type": "code",
   "execution_count": 34,
   "id": "04480dd5",
   "metadata": {},
   "outputs": [],
   "source": [
    "import numpy as np"
   ]
  },
  {
   "cell_type": "code",
   "execution_count": 35,
   "id": "95ada080",
   "metadata": {},
   "outputs": [
    {
     "name": "stdout",
     "output_type": "stream",
     "text": [
      "최대값과 최소값을 제외한 나머지 데이터의 분산: 0.25\n",
      "최대값과 최소값을 제외한 나머지 데이터의 표준편차: 0.5\n"
     ]
    }
   ],
   "source": [
    "print(f'최대값과 최소값을 제외한 나머지 데이터의 분산: {np.var(score[1:-1])}')\n",
    "print(f'최대값과 최소값을 제외한 나머지 데이터의 표준편차: {np.std(score[1:-1])}')"
   ]
  },
  {
   "cell_type": "code",
   "execution_count": null,
   "id": "45e171a3",
   "metadata": {},
   "outputs": [],
   "source": []
  },
  {
   "cell_type": "code",
   "execution_count": null,
   "id": "37159d6b",
   "metadata": {},
   "outputs": [],
   "source": []
  },
  {
   "cell_type": "code",
   "execution_count": null,
   "id": "e8c2c1df",
   "metadata": {},
   "outputs": [],
   "source": []
  },
  {
   "cell_type": "code",
   "execution_count": null,
   "id": "efedd9af",
   "metadata": {},
   "outputs": [],
   "source": []
  },
  {
   "cell_type": "code",
   "execution_count": null,
   "id": "d6997bf3",
   "metadata": {},
   "outputs": [],
   "source": []
  }
 ],
 "metadata": {
  "kernelspec": {
   "display_name": "Python 3",
   "language": "python",
   "name": "python3"
  },
  "language_info": {
   "codemirror_mode": {
    "name": "ipython",
    "version": 3
   },
   "file_extension": ".py",
   "mimetype": "text/x-python",
   "name": "python",
   "nbconvert_exporter": "python",
   "pygments_lexer": "ipython3",
   "version": "3.6.8"
  }
 },
 "nbformat": 4,
 "nbformat_minor": 5
}

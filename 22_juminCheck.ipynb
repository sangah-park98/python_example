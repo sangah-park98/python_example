{
 "cells": [
  {
   "cell_type": "markdown",
   "id": "a5d5d403",
   "metadata": {},
   "source": [
    "주민등록번호 유효성 검사  \n",
    "\n",
    "주민등록번호의 각 자리 숫자와 가중치(234567892345)를 곱한 합계를 계산한다.   \n",
    "위의 결과를 11로 나눈 나머지를 계산해서 11에서 뺀다.  \n",
    "11에서 나머지를 뺀 결과가 2자리 숫자가 나오면 10의 자리는 버리고 1의 자리만 취한다.  \n",
    "1의 자리가 주민등록번호의 마지막 자리와 같으면 정상적인 주민등록번호이고 다르면 오류가 있는 주민등록번호이다.  \n"
   ]
  },
  {
   "cell_type": "code",
   "execution_count": 1,
   "id": "addf0f3b",
   "metadata": {},
   "outputs": [
    {
     "name": "stdout",
     "output_type": "stream",
     "text": [
      "유효성 검사를 실시할 주민등록번호를 입력하세요: 9804102222222\n",
      "130\n",
      "2\n",
      "정상\n",
      "정상\n"
     ]
    }
   ],
   "source": [
    "\n",
    "\n",
    "jumin = input('유효성 검사를 실시할 주민등록번호를 입력하세요: ')\n",
    "\n",
    "# 주민등록번호의 각 자리 숫자와 가중치(234567892345)의 각 자리 숫자와 곱한 합계를 계산한다.\n",
    "check = '234567892345'\n",
    "total = 0\n",
    "for i in range(12):\n",
    "    total += int(jumin[i]) * int(check[i])\n",
    "print(total)\n",
    "\n",
    "# 주민등록번호와 가중치를 곱한 결과를 11로 나눈 나머지를 11에서 뺀다. => 결과가 2자리면 10의 자리는 버린다.\n",
    "result = (11 - total % 11) % 10\n",
    "print(result)\n",
    "\n",
    "# 위 연산 결과와 주민등록번호의 마지막 자리와 비교한다.\n",
    "if str(result) == jumin[-1]:\n",
    "    print('정상')\n",
    "else:\n",
    "    print('오류')\n",
    "print('정상' if str(result) == jumin[-1] else '오류')"
   ]
  },
  {
   "cell_type": "code",
   "execution_count": 3,
   "id": "5bbdd1b7",
   "metadata": {},
   "outputs": [
    {
     "name": "stdout",
     "output_type": "stream",
     "text": [
      "유효성 검사를 실시할 주민등록번호를 입력하세요: 8304221185601\n",
      "143\n",
      "1\n",
      "정상\n",
      "정상\n"
     ]
    }
   ],
   "source": [
    "\n",
    "jumin = input('유효성 검사를 실시할 주민등록번호를 입력하세요: ')\n",
    "# check = '234567892345'\n",
    "total = 0\n",
    "for i in range(12):\n",
    "    # total += int(jumin[i]) * int(check[i])\n",
    "    total += int(jumin[i]) * (i + 2 if i < 8 else i - 6)\n",
    "print(total)\n",
    "\n",
    "# 주민등록번호와 가중치를 곱한 결과를 11로 나눈 나머지를 11에서 뺀다. => 결과가 2자리면 10의 자리는 버린다.\n",
    "result = (11 - total % 11) % 10\n",
    "print(result)\n",
    "\n",
    "# 위 연산 결과와 주민등록번호의 마지막 자리와 비교한다.\n",
    "if str(result) == jumin[-1]:\n",
    "    print('정상')\n",
    "else:\n",
    "    print('오류')\n",
    "print('정상' if str(result) == jumin[-1] else '오류')"
   ]
  },
  {
   "cell_type": "code",
   "execution_count": null,
   "id": "d0d6ea32",
   "metadata": {},
   "outputs": [],
   "source": [
    "\n",
    "jumin = input('유효성 검사를 실시할 주민등록번호를 입력하세요: ')\n",
    "total = 0\n",
    "for i in range(12):\n",
    "    # total += int(jumin[i]) * (i + 2 if i < 8 else i - 6)\n",
    "    total += int(jumin[i]) * (i % 8 + 2)\n",
    "result = (11 - total % 11) % 10\n",
    "print('정상' if str(result) == jumin[-1] else '오류')"
   ]
  },
  {
   "cell_type": "code",
   "execution_count": null,
   "id": "2618380a",
   "metadata": {},
   "outputs": [],
   "source": []
  },
  {
   "cell_type": "code",
   "execution_count": null,
   "id": "02cc3cfb",
   "metadata": {},
   "outputs": [],
   "source": []
  },
  {
   "cell_type": "code",
   "execution_count": null,
   "id": "5d17f9ab",
   "metadata": {},
   "outputs": [],
   "source": []
  },
  {
   "cell_type": "code",
   "execution_count": null,
   "id": "2516f1a5",
   "metadata": {},
   "outputs": [],
   "source": []
  },
  {
   "cell_type": "code",
   "execution_count": null,
   "id": "ba039755",
   "metadata": {},
   "outputs": [],
   "source": []
  },
  {
   "cell_type": "code",
   "execution_count": null,
   "id": "41a4508b",
   "metadata": {},
   "outputs": [],
   "source": []
  }
 ],
 "metadata": {
  "kernelspec": {
   "display_name": "Python 3",
   "language": "python",
   "name": "python3"
  },
  "language_info": {
   "codemirror_mode": {
    "name": "ipython",
    "version": 3
   },
   "file_extension": ".py",
   "mimetype": "text/x-python",
   "name": "python",
   "nbconvert_exporter": "python",
   "pygments_lexer": "ipython3",
   "version": "3.6.8"
  }
 },
 "nbformat": 4,
 "nbformat_minor": 5
}

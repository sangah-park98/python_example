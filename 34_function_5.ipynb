{
 "cells": [
  {
   "cell_type": "markdown",
   "id": "ae110002",
   "metadata": {},
   "source": [
    "디폴트 인수를 사용하는 함수로 가변 인자를 가지는 함수를 흉내낼 수 있지만 인수의 개수가 많아지면 비효율적이다."
   ]
  },
  {
   "cell_type": "code",
   "execution_count": 12,
   "id": "006d13da",
   "metadata": {},
   "outputs": [],
   "source": [
    "def func6(a=0, b=0, c=0, d=0, e=0, f=0, g=0):\n",
    "    print('{}'.format(a + b + c + d + e + f + g))"
   ]
  },
  {
   "cell_type": "code",
   "execution_count": 13,
   "id": "cb39135f",
   "metadata": {},
   "outputs": [
    {
     "name": "stdout",
     "output_type": "stream",
     "text": [
      "0\n",
      "1\n",
      "3\n",
      "6\n",
      "10\n",
      "15\n",
      "21\n"
     ]
    }
   ],
   "source": [
    "func6()\n",
    "func6(1)\n",
    "func6(1,2)\n",
    "func6(1,2,3)\n",
    "func6(1,2,3,4)\n",
    "func6(1,2,3,4,5)\n",
    "func6(1,2,3,4,5,6)"
   ]
  },
  {
   "cell_type": "markdown",
   "id": "600ff065",
   "metadata": {},
   "source": [
    "가변 인자를 사용하는 함수"
   ]
  },
  {
   "cell_type": "code",
   "execution_count": 42,
   "id": "ee2260f2",
   "metadata": {},
   "outputs": [],
   "source": [
    "# 가변 인자는 '*변수이름' 형태로 표현한다. => 가변 인자는 넘어오는 데이터를 튜플로 받는다.\n",
    "# 가변 인자를 사용하면 가변 인자에 할당해야 할 메모리 크기를 모르기 때문에 인수 목록의 맨 마지막에 딱 1번만 사용한다.\n",
    "def func7(*args, a=0):\n",
    "    # print(type(args))\n",
    "    # print(args)\n",
    "    total = 0\n",
    "    for arg in args:\n",
    "        total += arg\n",
    "    print(total)"
   ]
  },
  {
   "cell_type": "code",
   "execution_count": 43,
   "id": "7d98b141",
   "metadata": {},
   "outputs": [
    {
     "name": "stdout",
     "output_type": "stream",
     "text": [
      "1\n",
      "4\n",
      "9\n",
      "16\n",
      "121\n"
     ]
    }
   ],
   "source": [
    "# func7()\n",
    "func7(1)\n",
    "func7(1, 3)\n",
    "func7(1, 3, 5)\n",
    "func7(1, 3, 5, 7)\n",
    "func7(1, 3, 5, 7, 9, 11, 13, 15, 17, 19, 21)"
   ]
  },
  {
   "cell_type": "code",
   "execution_count": null,
   "id": "c6d430a8",
   "metadata": {},
   "outputs": [],
   "source": [
    "# def func7(*args1, *args2) => 함수 선언 시 가변인자가 2번 이상 사용되었으므로 선언 시 에러가 발생된다.  \n",
    "# def func7(*args1, a) => 함수를 호출할 때 func7(a = 100)형태로 a에 전달될 값을 지정하지 않으면 에러가 발생된다.  \n",
    "# def func7(a, *args1) => 함수를 호출할 때 첫번째 인수가 a에 전달되고 나머지 데이터가 가변 인자로 전달된다.\n"
   ]
  },
  {
   "cell_type": "code",
   "execution_count": null,
   "id": "3c923c78",
   "metadata": {},
   "outputs": [],
   "source": []
  },
  {
   "cell_type": "code",
   "execution_count": null,
   "id": "cbb5f390",
   "metadata": {},
   "outputs": [],
   "source": []
  },
  {
   "cell_type": "code",
   "execution_count": null,
   "id": "573c5b56",
   "metadata": {},
   "outputs": [],
   "source": []
  },
  {
   "cell_type": "code",
   "execution_count": null,
   "id": "5c41b915",
   "metadata": {},
   "outputs": [],
   "source": []
  },
  {
   "cell_type": "code",
   "execution_count": null,
   "id": "ec76bb36",
   "metadata": {},
   "outputs": [],
   "source": []
  },
  {
   "cell_type": "code",
   "execution_count": null,
   "id": "cfcf1a4c",
   "metadata": {},
   "outputs": [],
   "source": []
  },
  {
   "cell_type": "code",
   "execution_count": null,
   "id": "010acd6b",
   "metadata": {},
   "outputs": [],
   "source": []
  },
  {
   "cell_type": "code",
   "execution_count": null,
   "id": "281797f6",
   "metadata": {},
   "outputs": [],
   "source": []
  },
  {
   "cell_type": "code",
   "execution_count": null,
   "id": "21b3d972",
   "metadata": {},
   "outputs": [],
   "source": []
  },
  {
   "cell_type": "code",
   "execution_count": null,
   "id": "257b7d7e",
   "metadata": {},
   "outputs": [],
   "source": []
  },
  {
   "cell_type": "code",
   "execution_count": null,
   "id": "a3348217",
   "metadata": {},
   "outputs": [],
   "source": []
  },
  {
   "cell_type": "code",
   "execution_count": null,
   "id": "59bfdc9c",
   "metadata": {},
   "outputs": [],
   "source": []
  },
  {
   "cell_type": "code",
   "execution_count": null,
   "id": "f3ce3835",
   "metadata": {},
   "outputs": [],
   "source": []
  }
 ],
 "metadata": {
  "kernelspec": {
   "display_name": "Python 3",
   "language": "python",
   "name": "python3"
  },
  "language_info": {
   "codemirror_mode": {
    "name": "ipython",
    "version": 3
   },
   "file_extension": ".py",
   "mimetype": "text/x-python",
   "name": "python",
   "nbconvert_exporter": "python",
   "pygments_lexer": "ipython3",
   "version": "3.6.8"
  }
 },
 "nbformat": 4,
 "nbformat_minor": 5
}

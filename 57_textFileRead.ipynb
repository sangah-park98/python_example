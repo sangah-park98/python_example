{
 "cells": [
  {
   "cell_type": "code",
   "execution_count": 12,
   "id": "a670953e",
   "metadata": {},
   "outputs": [
    {
     "name": "stdout",
     "output_type": "stream",
     "text": [
      "['dkdkdkdkd', 'data5', '%!!!', '다시 한 번', '실행을', '해서~~~~']\n"
     ]
    }
   ],
   "source": [
    "try:\n",
    "    file = open('./data/data5.txt', 'r')\n",
    "    lines = []\n",
    "    # 텍스트 파일에 저장된 데이터가 몇 줄인지 알 수 없으므로 무한 루프를 돌려서 읽는다.\n",
    "    while True:\n",
    "        # char = file.read() # 텍스트 파일의 데이터를 문자 단위로 읽어온다.\n",
    "        line = file.readline()\n",
    "        if not line: # 텍스트 파일에서 읽어들인 데이터가 없으면 \n",
    "            break\n",
    "        # print(line, end='')\n",
    "        # print(line.strip())\n",
    "        # readline() 메소드로 데이터를 읽어들인 후 strip() 메소드로 문자열 앞, 뒤의 불필요한 공백을 제거하는 것이 좋다.\n",
    "        line = line.strip()\n",
    "        # readline() 메소드로 읽어들인 데이터가 모두 공백이면 저장할 필요가 없다.\n",
    "        if len(line) != 0:\n",
    "            lines.append(line)\n",
    "    file.close()\n",
    "except FileNotFoundError:\n",
    "    print('디스크에 파일이 없습니다.')\n",
    "print(lines)\n"
   ]
  },
  {
   "cell_type": "code",
   "execution_count": 13,
   "id": "ba3acf39",
   "metadata": {},
   "outputs": [
    {
     "name": "stdout",
     "output_type": "stream",
     "text": [
      "<class 'list'>\n",
      "['dkdkdkdkd\\n', 'data5\\n', '%!!!\\n', '다시 한 번\\n', '실행을\\n', '해서~~~~\\n']\n"
     ]
    }
   ],
   "source": [
    "try:\n",
    "    file = open('./data/data5.txt', 'r')\n",
    "    # readlines() 메소드는 텍스트 파일 전체 데이터를 한꺼번에 읽어서 리스트로 리턴한다.\n",
    "    lines = file.readlines()\n",
    "    print(type(lines))\n",
    "    file.close()\n",
    "except FileNotFoundError:\n",
    "    print('디스크에 파일이 없습니다.')\n",
    "print(lines)\n"
   ]
  },
  {
   "cell_type": "code",
   "execution_count": null,
   "id": "864bf23c",
   "metadata": {},
   "outputs": [],
   "source": []
  },
  {
   "cell_type": "code",
   "execution_count": null,
   "id": "e46e4cc5",
   "metadata": {},
   "outputs": [],
   "source": []
  },
  {
   "cell_type": "code",
   "execution_count": null,
   "id": "c52d4af3",
   "metadata": {},
   "outputs": [],
   "source": []
  },
  {
   "cell_type": "code",
   "execution_count": null,
   "id": "e52790fd",
   "metadata": {},
   "outputs": [],
   "source": []
  },
  {
   "cell_type": "code",
   "execution_count": null,
   "id": "aa38d476",
   "metadata": {},
   "outputs": [],
   "source": []
  },
  {
   "cell_type": "code",
   "execution_count": null,
   "id": "598876a2",
   "metadata": {},
   "outputs": [],
   "source": []
  },
  {
   "cell_type": "code",
   "execution_count": null,
   "id": "76ca8f6e",
   "metadata": {},
   "outputs": [],
   "source": []
  },
  {
   "cell_type": "code",
   "execution_count": null,
   "id": "40f7405e",
   "metadata": {},
   "outputs": [],
   "source": []
  },
  {
   "cell_type": "code",
   "execution_count": null,
   "id": "ed754576",
   "metadata": {},
   "outputs": [],
   "source": []
  },
  {
   "cell_type": "code",
   "execution_count": null,
   "id": "d755f4e1",
   "metadata": {},
   "outputs": [],
   "source": []
  },
  {
   "cell_type": "code",
   "execution_count": null,
   "id": "68117384",
   "metadata": {},
   "outputs": [],
   "source": []
  }
 ],
 "metadata": {
  "kernelspec": {
   "display_name": "Python 3",
   "language": "python",
   "name": "python3"
  },
  "language_info": {
   "codemirror_mode": {
    "name": "ipython",
    "version": 3
   },
   "file_extension": ".py",
   "mimetype": "text/x-python",
   "name": "python",
   "nbconvert_exporter": "python",
   "pygments_lexer": "ipython3",
   "version": "3.6.8"
  }
 },
 "nbformat": 4,
 "nbformat_minor": 5
}

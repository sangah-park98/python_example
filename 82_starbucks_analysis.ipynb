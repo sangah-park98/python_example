{
 "cells": [
  {
   "cell_type": "code",
   "execution_count": null,
   "id": "4f3e196c",
   "metadata": {},
   "outputs": [],
   "source": [
    "import warnings\n",
    "warnings.filterwarnings(action='ignore')\n",
    "%config Computer.use_jedi = False\n",
    "import requests\n",
    "import json\n",
    "import folium\n",
    "# !pip install pandas # 파이썬 데이터 처리 라이브러리\n",
    "import pandas as pd\n",
    "from pandas.io.json import json_normalize # 파이썬 딕셔너리 타입의 데이터를 판다스 데이터프레임으로 변환한다.\n"
   ]
  },
  {
   "cell_type": "markdown",
   "id": "1d400a54",
   "metadata": {},
   "source": [
    "전국 또는 특정 지역의 스타벅스 매장 위치 정보를 가져와서 지도 위에 표시하기\n",
    "\n",
    "requests 모듈로 스타벅스 매장의 위치 정보를 가져와서 딕셔너리 타입으로 변환한다.  \n",
    "json_normalize() 함수로 json 타입의 데이터가 변환된 딕셔너리를 판다스 데이터프레임으로 변환한다.  \n",
    "folium 모듈을 사용해서 지도를 표시하고 지도 위에 스타벅스 매장 위치를 마커로 표시한다.  "
   ]
  },
  {
   "cell_type": "code",
   "execution_count": null,
   "id": "724d4b7e",
   "metadata": {},
   "outputs": [],
   "source": [
    "# 서울 스타벅스 전 지점\n",
    "targetSite = 'https://www.starbucks.co.kr/store/getStore.do?r=78VV3P3AL5'\n",
    "request = requests.post(targetSite, data={\n",
    "    'ins_lat': 37.5717888, # 위도\n",
    "    'ins_lng': 126.9661696, # 경도\n",
    "    'p_sido_cd': '01', # 시도코드\n",
    "    'p_gugun_cd': '', # 구군코드\n",
    "    'in_biz_cd': '', # ? \n",
    "    'iend': 2000, # 서버가 응답하는 최대 매장의 개수\n",
    "    'set_date':  '' # ?\n",
    "})\n",
    "starbucks = request.json()\n",
    "print(type(starbucks))\n",
    "print(starbucks)"
   ]
  },
  {
   "cell_type": "code",
   "execution_count": null,
   "id": "9e66de57",
   "metadata": {},
   "outputs": [],
   "source": [
    "# pandas.io.json 모듈의 json_normalize() 함수로 json 타입의 데이터가 변환된 딕셔너리를 판다스 데이터프레임으로 변환한다.\n",
    "# json_normalize(딕셔너리, '데이터프레임으로 변환할 데이터가 할당된 딕셔너리의 key')\n",
    "starbucks_df = json_normalize(starbucks, 'list')\n",
    "print(type(starbucks_df)) # <class 'pandas.core.frame.DataFrame'>\n",
    "print(len(starbucks_df))\n",
    "print(starbucks_df.columns)"
   ]
  },
  {
   "cell_type": "code",
   "execution_count": null,
   "id": "bb255005",
   "metadata": {
    "scrolled": true
   },
   "outputs": [],
   "source": [
    "starbucks_df"
   ]
  },
  {
   "cell_type": "code",
   "execution_count": null,
   "id": "e871a91d",
   "metadata": {},
   "outputs": [],
   "source": [
    "# 데이터프레임으로 변환하니 서울에 있는 스타벅스 지점은 601개고 각 지점을 131개의 컬럼으로 표시하고 있다.\n",
    "# 작업에 필요한 칼럼 몇 가지를 선택해서 지도에 마커를 표시할 때 사용할 데이터가 저장된 데이터프레임을 만든다.\n",
    "# s_name => 지점이름\n",
    "# sido_code => 시도코드\n",
    "# sido_name => 시도이름\n",
    "# gugun_code => 구군코드\n",
    "# gugun_name => 구군이름\n",
    "# doro_address => 도로명주소\n",
    "# lat => 위도\n",
    "# lot => 경도"
   ]
  },
  {
   "cell_type": "code",
   "execution_count": null,
   "id": "89bd2a66",
   "metadata": {},
   "outputs": [],
   "source": [
    "# 판다스 데이터프레임에서 특정 컬럼의 데이터를 얻어올 때 얻어올 컬럼이 1개라면 컬럼 이름만 적어도 되지만 얻어올\n",
    "# 컬럼이 2개 이상일 경우 얻어올 컬럼들을 반드시 리스트로 만들어서 얻어와야 한다.\n",
    "starbucks_df_map = starbucks_df[['s_name', 'sido_code', 'sido_name', 'gugun_code', 'gugun_name', 'doro_address',\n",
    "                                'lat', 'lot']]\n",
    "starbucks_df_map"
   ]
  },
  {
   "cell_type": "code",
   "execution_count": null,
   "id": "966a2002",
   "metadata": {},
   "outputs": [],
   "source": [
    "# dtype 속성으로 데이터프레임을 구성하는 컬럼들의 자료형을 확인할 수 있다.\n",
    "# 판다스는 문자열 데이터 타입을 object라 부른다.\n",
    "starbucks_df_map.dtypes"
   ]
  },
  {
   "cell_type": "code",
   "execution_count": null,
   "id": "e5e01de6",
   "metadata": {},
   "outputs": [],
   "source": [
    "# info() 메소드를 사용해도 데이터프레임을 구성하는 컬럼들의 자료형을 확인할 수 있다.\n",
    "starbucks_df_map.info()"
   ]
  },
  {
   "cell_type": "code",
   "execution_count": null,
   "id": "3304c13e",
   "metadata": {
    "scrolled": true
   },
   "outputs": [],
   "source": [
    "# astype() 메소드로 위도, 경도 데이터 타입을 object에서 float로 변환한다.\n",
    "starbucks_df_map['lat'] = starbucks_df_map['lat'].astype(float)\n",
    "starbucks_df_map['lot'] = starbucks_df_map['lot'].astype(float)\n",
    "starbucks_df_map.info()"
   ]
  },
  {
   "cell_type": "code",
   "execution_count": null,
   "id": "d39d20ea",
   "metadata": {},
   "outputs": [],
   "source": [
    "# 종각점\n",
    "starbucks_df_map[starbucks_df_map['s_name'] == '종각']"
   ]
  },
  {
   "cell_type": "code",
   "execution_count": null,
   "id": "8300a41a",
   "metadata": {},
   "outputs": [],
   "source": [
    "# 종로관찰점\n",
    "starbucks_df_map[starbucks_df_map['s_name'] == '종로관철']"
   ]
  },
  {
   "cell_type": "code",
   "execution_count": null,
   "id": "ec9a6ac6",
   "metadata": {},
   "outputs": [],
   "source": [
    "# 종로구청점\n",
    "starbucks_df_map[starbucks_df_map['s_name'] == '종로구청']"
   ]
  },
  {
   "cell_type": "code",
   "execution_count": null,
   "id": "858d8c45",
   "metadata": {
    "scrolled": true
   },
   "outputs": [],
   "source": [
    "starbucksMap = folium.Map(location=[37.5697987, 126.9837167], zoom_start=16.9)\n",
    "popup = folium.Popup('JongGak', max_width=300)\n",
    "folium.Marker(location=[37.569918, 126.984528], popup=popup).add_to(starbucksMap)\n",
    "popup = folium.Popup('Jongno GwanCheol', max_width=300)\n",
    "folium.Marker(location=[37.569058,126.986013], popup=popup).add_to(starbucksMap)\n",
    "popup = folium.Popup('JongnoGu Office', max_width=300)\n",
    "folium.Marker(location=[37.572662, 126.981138], popup=popup).add_to(starbucksMap)\n",
    "starbucksMap.save('./starMap1.html')\n",
    "starbucksMap"
   ]
  },
  {
   "cell_type": "code",
   "execution_count": null,
   "id": "bf5b0414",
   "metadata": {
    "scrolled": true
   },
   "outputs": [],
   "source": [
    "# 서울특별시에 위치한 스타벅스 전 지점의 위치를 지도위에 표시한다.\n",
    "# 모든 스타벅스 지점의 위도 경도 평균을 중심으로 하자.\n",
    "# mean() 메소드 : 판다스 데이터프레임에 저장된 데이터의 평균\n",
    "starbucksMap = folium.Map(location=[starbucks_df_map['lat'].mean(), starbucks_df_map['lot'].mean()], zoom_start=17)\n",
    "# iterrows() 메소드 : 판다스 데이터프레임에 저장된 인덱스와 데이터를 리턴한다.\n",
    "for index, data in starbucks_df_map.iterrows():\n",
    "     # print(index, data) >> 이해 잘못함\n",
    "    popup = folium.Popup('{}. {}: {}'.format(index + 1, data['s_name'], data['doro_address']), max_width=300)\n",
    "    folium.Marker(location=[data['lat'], data['lot']], popup=popup).add_to(starbucksMap) # 마커\n",
    "\n",
    "\n",
    "\n",
    "starbucksMap.save('./starMap2.html')\n",
    "starbucksMap"
   ]
  },
  {
   "cell_type": "code",
   "execution_count": null,
   "id": "21add38b",
   "metadata": {
    "scrolled": true
   },
   "outputs": [],
   "source": [
    "# 서울특별시 종로구 스타벅스 전 지점\n",
    "targetSite = 'https://www.starbucks.co.kr/store/getStore.do?r=0B2S7YFEO8'\n",
    "req = requests.post(targetSite, data={\n",
    "    'ins_lat': 37.5717888,\n",
    "    'ins_lng': 126.9661696,\n",
    "    'p_sido_cd': '',\n",
    "    'p_gugun_cd': '0118',\n",
    "    'in_biz_cd': '',\n",
    "    'iend': 2000,\n",
    "    'set_date':  ''\n",
    "})\n",
    "starbucks = req.json()\n",
    "starbucks_df = json_normalize(starbucks, 'list')\n",
    "starbucks_df_map = starbucks_df[['s_name', 'sido_code', 'sido_name', 'gugun_code', 'gugun_name', 'doro_address', 'lat', 'lot']]\n",
    "starbucks_df_map['lat'] = starbucks_df_map['lat'].astype(float)\n",
    "starbucks_df_map['lot'] = starbucks_df_map['lot'].astype(float)\n",
    "\n",
    "starbucksMap = folium.Map(location=[starbucks_df_map['lat'].mean(), starbucks_df_map['lot'].mean()], zoom_start=14)\n",
    "for index, data in starbucks_df_map.iterrows():\n",
    "    popup = folium.Popup('{}. {}: {}'.format(index + 1, data['s_name'], data['doro_address']), max_width=300)\n",
    "    folium.Marker(location=[data['lat'], data['lot']], popup=popup).add_to(starbucksMap)\n",
    "starbucksMap.save('./starMap3.html')\n",
    "starbucksMap"
   ]
  },
  {
   "cell_type": "code",
   "execution_count": null,
   "id": "f7b1daa9",
   "metadata": {
    "scrolled": true
   },
   "outputs": [],
   "source": [
    "# 경기도 스타벅스 전 지점\n",
    "targetSite = 'https://www.starbucks.co.kr/store/getStore.do?r=0B2S7YFEO8'\n",
    "req = requests.post(targetSite, data={\n",
    "    'ins_lat': 37.5717888,\n",
    "    'ins_lng': 126.9661696,\n",
    "    'p_sido_cd': '08',\n",
    "    'p_gugun_cd': '',\n",
    "    'in_biz_cd': '',\n",
    "    'iend': 2000,\n",
    "    'set_date':  ''\n",
    "})\n",
    "starbucks = req.json()\n",
    "starbucks_df = json_normalize(starbucks, 'list')\n",
    "starbucks_df_map = starbucks_df[['s_name', 'sido_code', 'sido_name', 'gugun_code', 'gugun_name', 'doro_address', 'lat', 'lot']]\n",
    "starbucks_df_map['lat'] = starbucks_df_map['lat'].astype(float)\n",
    "starbucks_df_map['lot'] = starbucks_df_map['lot'].astype(float)\n",
    "\n",
    "starbucksMap = folium.Map(location=[starbucks_df_map['lat'].mean(), starbucks_df_map['lot'].mean()], zoom_start=10)\n",
    "for index, data in starbucks_df_map.iterrows():\n",
    "    popup = folium.Popup('{}. {}: {}'.format(index + 1, data['s_name'], data['doro_address']), max_width=300)\n",
    "    folium.Marker(location=[data['lat'], data['lot']], popup=popup).add_to(starbucksMap)\n",
    "starbucksMap.save('./starMap3.html')\n",
    "starbucksMap"
   ]
  },
  {
   "cell_type": "code",
   "execution_count": null,
   "id": "1fee8e34",
   "metadata": {},
   "outputs": [],
   "source": []
  },
  {
   "cell_type": "code",
   "execution_count": null,
   "id": "1c9d56cb",
   "metadata": {},
   "outputs": [],
   "source": []
  },
  {
   "cell_type": "code",
   "execution_count": null,
   "id": "6cdd5de1",
   "metadata": {},
   "outputs": [],
   "source": []
  },
  {
   "cell_type": "code",
   "execution_count": null,
   "id": "59764d6b",
   "metadata": {},
   "outputs": [],
   "source": []
  },
  {
   "cell_type": "code",
   "execution_count": null,
   "id": "cf6dc95c",
   "metadata": {},
   "outputs": [],
   "source": []
  },
  {
   "cell_type": "code",
   "execution_count": null,
   "id": "52763ee0",
   "metadata": {},
   "outputs": [],
   "source": []
  },
  {
   "cell_type": "code",
   "execution_count": null,
   "id": "f1162c5e",
   "metadata": {},
   "outputs": [],
   "source": []
  },
  {
   "cell_type": "code",
   "execution_count": null,
   "id": "de974b44",
   "metadata": {},
   "outputs": [],
   "source": []
  },
  {
   "cell_type": "code",
   "execution_count": null,
   "id": "d9a3b1b9",
   "metadata": {},
   "outputs": [],
   "source": []
  },
  {
   "cell_type": "code",
   "execution_count": null,
   "id": "26f0a839",
   "metadata": {},
   "outputs": [],
   "source": []
  },
  {
   "cell_type": "code",
   "execution_count": null,
   "id": "ac44d2ae",
   "metadata": {},
   "outputs": [],
   "source": []
  },
  {
   "cell_type": "code",
   "execution_count": null,
   "id": "fc443e0c",
   "metadata": {},
   "outputs": [],
   "source": []
  },
  {
   "cell_type": "code",
   "execution_count": null,
   "id": "50d627c2",
   "metadata": {},
   "outputs": [],
   "source": []
  },
  {
   "cell_type": "code",
   "execution_count": null,
   "id": "4294ef79",
   "metadata": {},
   "outputs": [],
   "source": []
  },
  {
   "cell_type": "code",
   "execution_count": null,
   "id": "e9d97b5b",
   "metadata": {},
   "outputs": [],
   "source": []
  },
  {
   "cell_type": "code",
   "execution_count": null,
   "id": "71cadf45",
   "metadata": {},
   "outputs": [],
   "source": []
  },
  {
   "cell_type": "code",
   "execution_count": null,
   "id": "a0eb8b12",
   "metadata": {},
   "outputs": [],
   "source": []
  },
  {
   "cell_type": "code",
   "execution_count": null,
   "id": "b2d34c9a",
   "metadata": {},
   "outputs": [],
   "source": []
  }
 ],
 "metadata": {
  "kernelspec": {
   "display_name": "Python 3",
   "language": "python",
   "name": "python3"
  },
  "language_info": {
   "codemirror_mode": {
    "name": "ipython",
    "version": 3
   },
   "file_extension": ".py",
   "mimetype": "text/x-python",
   "name": "python",
   "nbconvert_exporter": "python",
   "pygments_lexer": "ipython3",
   "version": "3.6.8"
  }
 },
 "nbformat": 4,
 "nbformat_minor": 5
}

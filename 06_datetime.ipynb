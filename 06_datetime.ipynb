{
 "cells": [
  {
   "cell_type": "markdown",
   "id": "1a90f7cd",
   "metadata": {},
   "source": [
    "datetime 모듈  \n",
    "\n",
    "컴퓨터 시스템의 날짜와 시간을 얻어온다.  \n"
   ]
  },
  {
   "cell_type": "code",
   "execution_count": null,
   "id": "7d904696",
   "metadata": {},
   "outputs": [],
   "source": [
    "import datetime # datetime 모듈 전체를 import 한다.  \n",
    "now = datetime.datetime.now()\n",
    "print(now)"
   ]
  },
  {
   "cell_type": "code",
   "execution_count": null,
   "id": "8589236e",
   "metadata": {},
   "outputs": [],
   "source": [
    "from datetime import datetime # datetime 모듈에서 datetime 클래스만 import 한다.\n",
    "now2 = datetime.now()\n",
    "print(now)"
   ]
  },
  {
   "cell_type": "code",
   "execution_count": 2,
   "id": "c73931d1",
   "metadata": {
    "scrolled": true
   },
   "outputs": [
    {
     "name": "stdout",
     "output_type": "stream",
     "text": [
      "2023-07-03 11:11:33.161893\n"
     ]
    }
   ],
   "source": [
    "from datetime import datetime as dt # import한 datetime 클래스에 dt라는 별명을 지정한다.\n",
    "# import하는 모듈에 별명을 지정할 경우 원래 모듈 이름은 사용할 수 없고 as 뒤의 별명을 사용해야 한다.\n",
    "# now3 = datetime.now() # 에러\n",
    "now3 = dt.now()\n",
    "print(now3)"
   ]
  },
  {
   "cell_type": "markdown",
   "id": "ca49c101",
   "metadata": {},
   "source": [
    "날짜, 시간 데이터에서 데이터에서 년, 월, 일, 시, 분, 초 밀리초, 마이크로초, 요일 추출하기"
   ]
  },
  {
   "cell_type": "code",
   "execution_count": 1,
   "id": "ac013d15",
   "metadata": {
    "scrolled": false
   },
   "outputs": [
    {
     "name": "stdout",
     "output_type": "stream",
     "text": [
      "2023-07-04 09:39:20.166824\n",
      "년: 2023\n",
      "월: 7\n",
      "일: 4\n",
      "시: 9\n",
      "분: 39\n",
      "일: 20\n",
      "요일: 1\n",
      "요일: 화\n"
     ]
    }
   ],
   "source": [
    "from datetime import datetime as dt\n",
    "today = dt.now()\n",
    "print(today)\n",
    "\n",
    "print('년: {}'.format(today.year))\n",
    "print('월: {}'.format(today.month))\n",
    "print('일: {}'.format(today.day))\n",
    "print('시: {}'.format(today.hour))\n",
    "print('분: {}'.format(today.minute))\n",
    "print('일: {}'.format(today.second))\n",
    "# weekday() 메소드로 요일을 숫자로 얻어올 수 있다. => 월(0), 화(1), 수(2), 목(3), 금(4), 토(5), 일(6)\n",
    "print('요일: {}'.format(today.weekday()))\n",
    "week = ['월', '화', '수', '목', '금', '토', '일']\n",
    "print('요일: {}'.format(week[today.weekday()]))"
   ]
  },
  {
   "cell_type": "code",
   "execution_count": 4,
   "id": "62c17cf8",
   "metadata": {},
   "outputs": [
    {
     "name": "stdout",
     "output_type": "stream",
     "text": [
      "2023-07-04 09:44:25.712904\n",
      "2024-07-04 09:44:25.712904\n",
      "2023-11-04 09:44:25.712904\n",
      "2023-07-22 09:44:25.712904\n",
      "2023-07-04 13:44:25.712904\n",
      "2023-07-04 09:22:25.712904\n",
      "2023-07-04 09:44:00.712904\n"
     ]
    }
   ],
   "source": [
    "from datetime import datetime as dt\n",
    "today = dt.now()\n",
    "print(today)\n",
    "\n",
    "print(today.replace(year=2024))\n",
    "print(today.replace(month=11))\n",
    "print(today.replace(day=22))\n",
    "print(today.replace(hour=13))\n",
    "print(today.replace(minute=22))\n",
    "print(today.replace(second=0))"
   ]
  },
  {
   "cell_type": "markdown",
   "id": "35e94c50",
   "metadata": {},
   "source": [
    "날짜, 시간 데이터 만들기"
   ]
  },
  {
   "cell_type": "code",
   "execution_count": 14,
   "id": "44ccc9bc",
   "metadata": {},
   "outputs": [
    {
     "name": "stdout",
     "output_type": "stream",
     "text": [
      "<class 'str'>\n",
      "2023-11-22 00:00:00 <class 'datetime.datetime'>\n",
      "<class 'str'>\n",
      "2023-07-04 13:20:01 <class 'datetime.datetime'>\n",
      "2023-11-22 13:20:01 <class 'datetime.datetime'>\n"
     ]
    }
   ],
   "source": [
    "from dateutil.parser import parse\n",
    "string = '2023-11-22'\n",
    "print(type(string))\n",
    "date = parse(string)\n",
    "print(date, type(date))\n",
    "\n",
    "string = '13:20:01'\n",
    "print(type(string))\n",
    "time = parse(string)\n",
    "print(time, type(time))\n",
    "day = parse('2023-11-22 13:20:01')\n",
    "print(day, type(day))"
   ]
  },
  {
   "cell_type": "markdown",
   "id": "7b88a703",
   "metadata": {},
   "source": [
    " 두 날짜 데이터 사이의 차이 계산하기"
   ]
  },
  {
   "cell_type": "code",
   "execution_count": 23,
   "id": "9df6788c",
   "metadata": {},
   "outputs": [
    {
     "name": "stdout",
     "output_type": "stream",
     "text": [
      "2023-07-04 10:00:38.192795\n",
      "2023-11-22 13:20:01.123400\n",
      "141 days, 3:19:22.930605\n",
      "141\n",
      "11962\n",
      "930605\n",
      "12194362.930605\n"
     ]
    }
   ],
   "source": [
    "from datetime import datetime as dt\n",
    "from dateutil.parser import parse\n",
    "start = dt.now()\n",
    "print(start)\n",
    "end = parse('2023-11-22 13:20:01.1234')\n",
    "print(end)\n",
    "\n",
    "gap = end - start\n",
    "print(gap)\n",
    "print(gap.days) # 두 날짜 데이터 사이의 일 단위 차이를 얻어온다. => 날짜만\n",
    "print(gap.seconds) # 두 날짜 데이터 사이의 초 단위 차이를 얻어온다. => 시간만\n",
    "print(gap.microseconds) # 두 날짜 데이터 사이의 마이크로초 단위 차이를 얻어온다. => 밀리초만\n",
    "print(gap.total_seconds()) # 두 날짜 데이터 사이의 차이를 초 단위로 환산해서 얻어온다. => 전체 데이터"
   ]
  },
  {
   "cell_type": "markdown",
   "id": "c89febe0",
   "metadata": {},
   "source": [
    "날짜, 시간 서식 지정하기  \n",
    "날짜데이터.strftime('출력 서식')\n",
    "\n",
    "날짜 서식  \n",
    "%Y: 년도 4자리, %y: 년도 2자리    \n",
    "%m: 월(숫자), %B(영어 => 전체), %b: 월(영어 => 앞 3글자)  \n",
    "%d:  일, %A: 요일(영어 => 전체), %a: 요일(영어 => 앞 3글자) "
   ]
  },
  {
   "cell_type": "code",
   "execution_count": 34,
   "id": "cc6504c6",
   "metadata": {},
   "outputs": [
    {
     "name": "stdout",
     "output_type": "stream",
     "text": [
      "2023-07-04 10:18:13.919661\n",
      "2023-07-04\n",
      "<class 'str'>\n",
      "23-07-04\n",
      "23-July-04\n",
      "23-Jul-04\n",
      "2023-07-04 Tue\n",
      "2023년 07월 04일\n"
     ]
    }
   ],
   "source": [
    "from datetime import datetime as dt\n",
    "today = dt.now()\n",
    "print(today)\n",
    "\n",
    "print(today.strftime('%Y-%m-%d'))\n",
    "print(type(today.strftime('%Y-%m-%d')))\n",
    "print(today.strftime('%y-%m-%d'))\n",
    "print(today.strftime('%y-%B-%d'))\n",
    "print(today.strftime('%y-%b-%d'))\n",
    "print(today.strftime('%Y-%m-%d %a'))\n",
    "\n",
    "# 날짜 시간 서식에 한글을 넣었을 때 유니코드 인코딩 문제로 UnicodeEncodeError가 발생된다.\n",
    "# print(today.strftime('%Y년 %m월 %d일'))\n",
    "# 날짜, 시간 서식 지정시 UnicodeEncodeError가 발생되면 아래와 같이 코딩한다.\n",
    "\n",
    "print(today.strftime('%Y년 %m월 %d일'.encode('unicode-escape').decode()).encode().decode('unicode-escape'))"
   ]
  },
  {
   "cell_type": "markdown",
   "id": "ba68ee0d",
   "metadata": {},
   "source": [
    "시간 서식  \n",
    "%H: 시간(24시), %I: 시간(12시), %M: 분, %s: 초, %f: 마이크로초, %p: AM/PM"
   ]
  },
  {
   "cell_type": "code",
   "execution_count": 37,
   "id": "5361048d",
   "metadata": {},
   "outputs": [
    {
     "name": "stdout",
     "output_type": "stream",
     "text": [
      "2023-07-04 10:37:09.462400\n",
      "10:37:09\n",
      "AM 10:37:09\n",
      "10시 37분 09초\n"
     ]
    }
   ],
   "source": [
    "from datetime import datetime as dt\n",
    "today = dt.now()\n",
    "print(today)\n",
    "\n",
    "print(today.strftime('%H:%M:%S'))\n",
    "print(today.strftime('%p %H:%M:%S'))\n",
    "\n",
    "print(today.strftime('%H시 %M분 %S초'.encode('unicode-escape').decode()).encode().decode('unicode-escape'))"
   ]
  },
  {
   "cell_type": "code",
   "execution_count": null,
   "id": "13bac803",
   "metadata": {},
   "outputs": [],
   "source": []
  },
  {
   "cell_type": "code",
   "execution_count": null,
   "id": "918cbcb8",
   "metadata": {},
   "outputs": [],
   "source": []
  },
  {
   "cell_type": "code",
   "execution_count": null,
   "id": "ca40db84",
   "metadata": {},
   "outputs": [],
   "source": []
  },
  {
   "cell_type": "code",
   "execution_count": null,
   "id": "614ebd39",
   "metadata": {},
   "outputs": [],
   "source": []
  },
  {
   "cell_type": "code",
   "execution_count": null,
   "id": "21e3db3e",
   "metadata": {},
   "outputs": [],
   "source": []
  },
  {
   "cell_type": "code",
   "execution_count": null,
   "id": "b7ed816b",
   "metadata": {},
   "outputs": [],
   "source": []
  },
  {
   "cell_type": "code",
   "execution_count": null,
   "id": "a5f4faba",
   "metadata": {},
   "outputs": [],
   "source": []
  },
  {
   "cell_type": "code",
   "execution_count": null,
   "id": "610d150f",
   "metadata": {},
   "outputs": [],
   "source": []
  },
  {
   "cell_type": "code",
   "execution_count": null,
   "id": "c6512030",
   "metadata": {},
   "outputs": [],
   "source": []
  },
  {
   "cell_type": "code",
   "execution_count": null,
   "id": "72d9b8da",
   "metadata": {},
   "outputs": [],
   "source": []
  },
  {
   "cell_type": "code",
   "execution_count": null,
   "id": "0a15cd0e",
   "metadata": {},
   "outputs": [],
   "source": []
  },
  {
   "cell_type": "code",
   "execution_count": null,
   "id": "80ec1767",
   "metadata": {},
   "outputs": [],
   "source": []
  },
  {
   "cell_type": "code",
   "execution_count": null,
   "id": "ba416543",
   "metadata": {},
   "outputs": [],
   "source": []
  },
  {
   "cell_type": "code",
   "execution_count": null,
   "id": "3bc754dd",
   "metadata": {},
   "outputs": [],
   "source": []
  },
  {
   "cell_type": "code",
   "execution_count": null,
   "id": "04c96b69",
   "metadata": {},
   "outputs": [],
   "source": []
  },
  {
   "cell_type": "code",
   "execution_count": null,
   "id": "df5a304f",
   "metadata": {},
   "outputs": [],
   "source": []
  },
  {
   "cell_type": "code",
   "execution_count": null,
   "id": "1449512c",
   "metadata": {},
   "outputs": [],
   "source": []
  },
  {
   "cell_type": "code",
   "execution_count": null,
   "id": "2e14e010",
   "metadata": {},
   "outputs": [],
   "source": []
  },
  {
   "cell_type": "code",
   "execution_count": null,
   "id": "8f8f429c",
   "metadata": {},
   "outputs": [],
   "source": []
  }
 ],
 "metadata": {
  "kernelspec": {
   "display_name": "Python 3",
   "language": "python",
   "name": "python3"
  },
  "language_info": {
   "codemirror_mode": {
    "name": "ipython",
    "version": 3
   },
   "file_extension": ".py",
   "mimetype": "text/x-python",
   "name": "python",
   "nbconvert_exporter": "python",
   "pygments_lexer": "ipython3",
   "version": "3.6.8"
  }
 },
 "nbformat": 4,
 "nbformat_minor": 5
}

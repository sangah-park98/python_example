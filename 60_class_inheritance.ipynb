{
 "cells": [
  {
   "cell_type": "code",
   "execution_count": 13,
   "id": "bdb46b4f",
   "metadata": {},
   "outputs": [],
   "source": [
    "# 부모 클래스\n",
    "class Parent:\n",
    "    def __init__(self, name='남코천', gender=False):\n",
    "        print('부모 클래스의 생성자 실행')\n",
    "        self.name = name\n",
    "        self.gender = gender\n",
    "        \n",
    "    def __str__(self):\n",
    "        return '{}({})'.format(self.name, '남' if self.gender else '여')"
   ]
  },
  {
   "cell_type": "code",
   "execution_count": 14,
   "id": "ae88bb18",
   "metadata": {},
   "outputs": [
    {
     "name": "stdout",
     "output_type": "stream",
     "text": [
      "부모 클래스의 생성자 실행\n",
      "남코천(여)\n",
      "부모 클래스의 생성자 실행\n",
      "이코천(남)\n",
      "부모 클래스의 생성자 실행\n",
      "김코천(여)\n"
     ]
    }
   ],
   "source": [
    "# 부모 클래스가 잘 생성되었나 확인한다.\n",
    "parent1 = Parent()\n",
    "print(parent1)\n",
    "\n",
    "parent2 = Parent('이코천', True)\n",
    "print(parent2)\n",
    "\n",
    "parent3 = Parent('김코천', False)\n",
    "print(parent3)"
   ]
  },
  {
   "cell_type": "markdown",
   "id": "6629fb9c",
   "metadata": {},
   "source": [
    "클래스 상속\n",
    "\n",
    "상속이란 부모 클래스에서 정의한 멤버 변수와 메소드를 자식 클래스에서 별도로 정의하지 않고도 정의한 것처럼 사용할 수 있게 해주는 기능을 말한다.  \n",
    "***\n",
    "상속의 형식\n",
    "\n",
    "class 자식클래스이름(부모클래스이름)\n",
    "\n"
   ]
  },
  {
   "cell_type": "code",
   "execution_count": 22,
   "id": "5b391ff2",
   "metadata": {},
   "outputs": [],
   "source": [
    "# 자식 클래스\n",
    "# 부모 클래스를 상속받아 자식 클래스를 만든다.\n",
    "class Child(Parent):\n",
    "    # parent 클래스로부터 __init__(self, name='남코천', gender=False)\n",
    "    # __str__(self)\n",
    "    # self.name = name\n",
    "    # self.gender = gender \n",
    "    # 을 상속받았다.\n",
    "    # 부모 클래스로부터 상속받은 기능만으로는 자식 클래스에서 사용하기에 불충분하기 때문에 자식 클래스에서 다시 만들어 사용한다.\n",
    "    # => override\n",
    "    def __init__(self, name='무명씨', gender=False, age=0, nickname='무명씨앗'):\n",
    "        # 부모 클래스로부터 상속받은 멤버 변수는 부모 클래스의 생성자를 호출해서 초기화시킨다.\n",
    "        # super()는 부모 클래스를 의미한다.\n",
    "        super().__init__(name, gender)\n",
    "        print('자식 클래스의 생성자 실행')\n",
    "        # 자식 클래스에서 사용할 멤버 변수를 초기화시킨다.\n",
    "        self.age = age\n",
    "        self.nickname = nickname\n",
    "    def __str__(self):\n",
    "        return '{}({}) - {}, {}'.format(self.name, '남' if self.gender else '여', self.age, self.nickname)"
   ]
  },
  {
   "cell_type": "code",
   "execution_count": 24,
   "id": "eaa20699",
   "metadata": {},
   "outputs": [
    {
     "name": "stdout",
     "output_type": "stream",
     "text": [
      "부모 클래스의 생성자 실행\n",
      "자식 클래스의 생성자 실행\n",
      "홍길동(남) - 20, 홍길동그라미\n",
      "홍길동\n",
      "True\n"
     ]
    }
   ],
   "source": [
    "child1 = Child('홍길동', True, 20, '홍길동그라미')\n",
    "print(child1)\n",
    "print(child1.name)\n",
    "print(child1.gender)"
   ]
  },
  {
   "cell_type": "code",
   "execution_count": null,
   "id": "2308382b",
   "metadata": {},
   "outputs": [],
   "source": []
  },
  {
   "cell_type": "code",
   "execution_count": null,
   "id": "9f72c9ea",
   "metadata": {},
   "outputs": [],
   "source": []
  },
  {
   "cell_type": "code",
   "execution_count": null,
   "id": "3bcf71b0",
   "metadata": {},
   "outputs": [],
   "source": []
  },
  {
   "cell_type": "code",
   "execution_count": null,
   "id": "8b9775b6",
   "metadata": {},
   "outputs": [],
   "source": []
  },
  {
   "cell_type": "code",
   "execution_count": null,
   "id": "0fe84d79",
   "metadata": {},
   "outputs": [],
   "source": []
  },
  {
   "cell_type": "code",
   "execution_count": null,
   "id": "704c9fc2",
   "metadata": {},
   "outputs": [],
   "source": []
  },
  {
   "cell_type": "code",
   "execution_count": null,
   "id": "c322421c",
   "metadata": {},
   "outputs": [],
   "source": []
  },
  {
   "cell_type": "code",
   "execution_count": null,
   "id": "9058ef24",
   "metadata": {},
   "outputs": [],
   "source": []
  },
  {
   "cell_type": "code",
   "execution_count": null,
   "id": "8074564e",
   "metadata": {},
   "outputs": [],
   "source": []
  }
 ],
 "metadata": {
  "kernelspec": {
   "display_name": "Python 3",
   "language": "python",
   "name": "python3"
  },
  "language_info": {
   "codemirror_mode": {
    "name": "ipython",
    "version": 3
   },
   "file_extension": ".py",
   "mimetype": "text/x-python",
   "name": "python",
   "nbconvert_exporter": "python",
   "pygments_lexer": "ipython3",
   "version": "3.6.8"
  }
 },
 "nbformat": 4,
 "nbformat_minor": 5
}

{
 "cells": [
  {
   "cell_type": "markdown",
   "id": "fd3a6779",
   "metadata": {},
   "source": [
    "<img src=./images/zigzag.png align=\"left\" width=\"800\">"
   ]
  },
  {
   "cell_type": "code",
   "execution_count": 4,
   "id": "942180cb",
   "metadata": {},
   "outputs": [
    {
     "name": "stdout",
     "output_type": "stream",
     "text": [
      "[[1, 2, 3], [4, 5, 6]]\n"
     ]
    }
   ],
   "source": [
    "a = [[1, 2, 3], [4, 5, 6]]\n",
    "print(a)"
   ]
  },
  {
   "cell_type": "code",
   "execution_count": 5,
   "id": "4582d57e",
   "metadata": {},
   "outputs": [
    {
     "name": "stdout",
     "output_type": "stream",
     "text": [
      "[1, 2, 3]\n",
      "[4, 5, 6]\n"
     ]
    }
   ],
   "source": [
    "for i in range(len(a)):\n",
    "    print(a[i], end='\\n')"
   ]
  },
  {
   "cell_type": "code",
   "execution_count": 7,
   "id": "f22c4a28",
   "metadata": {},
   "outputs": [
    {
     "name": "stdout",
     "output_type": "stream",
     "text": [
      "1 2 3 \n",
      "4 5 6 \n"
     ]
    }
   ],
   "source": [
    "for i in range(len(a)):\n",
    "    for j in range(len(a[i])):\n",
    "        print(a[i][j], end=' ')\n",
    "    print()"
   ]
  },
  {
   "cell_type": "markdown",
   "id": "cfb02071",
   "metadata": {},
   "source": [
    "<img src=./images/zigzag2.png align=\"left\" width=\"500\">"
   ]
  },
  {
   "cell_type": "code",
   "execution_count": 9,
   "id": "ea183a1c",
   "metadata": {},
   "outputs": [],
   "source": [
    "def pprint(data):\n",
    "    for i in range(len(data)):\n",
    "        for j in range(len(data[i])):\n",
    "            print('{:3d}'.format(data[i][j]), end='  ')\n",
    "        print()   "
   ]
  },
  {
   "cell_type": "code",
   "execution_count": 12,
   "id": "8a18210e",
   "metadata": {},
   "outputs": [
    {
     "name": "stdout",
     "output_type": "stream",
     "text": [
      "2차원 리스트를 만드려는 행과 열의 개수: 4 5\n",
      " 1  2  3  4  5 \n",
      "10  9  8  7  6 \n",
      "11 12 13 14 15 \n",
      "20 19 18 17 16 \n"
     ]
    }
   ],
   "source": [
    "row, col = map(int, input('2차원 리스트를 만드려는 행과 열의 개수: ').split())\n",
    "data = [[0] * col for i in range(row)] \n",
    "n = 0 # 리스트에 1씩 증가하며 채워질 숫자가 기억되는 변수\n",
    "\n",
    "for i in range(len(data)): # 행\n",
    "    # 짝수행은 숫자가 왼쪽에서 오른쪽으로 채워지고 홀수행은 숫자가 오른쪽에서 왼쪽으로 채워진다.\n",
    "    # 짝수행인가 홀수행인가 판단한다.\n",
    "    if i % 2 == 0: # 짝수인가?\n",
    "        # 짝수행은 왼쪽에서 오른쪽으로 숫자를 채운다. => j = 0, 1, 2, 3, 4\n",
    "        for j in range(len(data[i])):\n",
    "            n += 1\n",
    "            data[i][j] = n\n",
    "    else: \n",
    "        # 홀수행은 오른쪽에서 왼쪽으로 숫자를 채운다. => j = 4, 3, 2, 1, 0\n",
    "        for j in range(len(data[i]) - 1, -1, -1):\n",
    "            n += 1\n",
    "            data[i][j] = n\n",
    "pprint(data)\n"
   ]
  },
  {
   "cell_type": "code",
   "execution_count": 19,
   "id": "07d8539b",
   "metadata": {},
   "outputs": [
    {
     "name": "stdout",
     "output_type": "stream",
     "text": [
      "2차원 리스트를 만드려는 행과 열의 개수: 4 5\n",
      "\n",
      "\n",
      "\n",
      "\n",
      " 1  2  3  4  5 \n",
      "10  9  8  7  6 \n",
      "11 12 13 14 15 \n",
      "20 19 18 17 16 \n"
     ]
    }
   ],
   "source": [
    "# i = 0, sw = 1,  j = 0, 1, 2, 3, 4 => range(0, 5, sw)\n",
    "# i = 1, sw = -1, j = 4, 3, 2, 1, 0 => range(4, -1, sw)\n",
    "# i = 2, sw = 1,  j = 0, 1, 2, 3, 4 => range(0, 5, sw)\n",
    "# i = 3, sw = -1, j = 4, 3, 2, 1, 0 => range(4, -1, sw)\n",
    "row, col = map(int, input('2차원 리스트를 만드려는 행과 열의 개수: ').split())\n",
    "data = [[0] * col for i in range(row)] \n",
    "n = 0 # 리스트에 1씩 증가하며 채워질 숫자가 기억되는 변수\n",
    "start = 0\n",
    "end = col - 1 # 2차원 리스트에 숫자가 채워지는 마지막 열 인덱스\n",
    "sw = 1 # 왼쪽에서 오른쪽으로, 오른쪽에서 왼쪽으로 숫자가 채워지는 방향을 제어하는 변수 => start부터 end까지 증가치로 사용할 변수\n",
    "\n",
    "for i in range(row): \n",
    "    for j in range(start, end + sw, sw):\n",
    "       # print(f'[i= {i}, j= {j}]', end='')\n",
    "        n += 1\n",
    "        data[i][j] = n\n",
    "    # ----- for j\n",
    "    start, end = end, start\n",
    "    sw *= -1\n",
    "    print()\n",
    "# -------- for i\n",
    "pprint(data)"
   ]
  },
  {
   "cell_type": "code",
   "execution_count": 5,
   "id": "780880e1",
   "metadata": {},
   "outputs": [
    {
     "name": "stdout",
     "output_type": "stream",
     "text": [
      "2차원 리스트를 만드려는 행과 열의 개수: 4 5\n",
      " 1   2   3   4   5  \n",
      "10   9   8   7   6  \n",
      "11  12  13  14  15  \n",
      "20  19  18  17  16  \n"
     ]
    }
   ],
   "source": [
    "row, col = map(int, input('2차원 리스트를 만드려는 행과 열의 개수: ').split())\n",
    "data = [[0] * col for i in range(row)] \n",
    "n = 0 \n",
    "start = [i for i in range(col)] # 왼쪽부터 오른쪽으로 진행하는 열 인덱스를 기억하는 리스트\n",
    "end = [i for i in range(col - 1, -1, -1)] # 오른쪽부터 왼쪽으로 진행하는 열 인덱스를 기억하는 리스트\n",
    "# print(start, end)\n",
    "\n",
    "for i in range(row):\n",
    "    for j in start:\n",
    "        n += 1\n",
    "        data[i][j] = n\n",
    "    # ----- for j\n",
    "    start, end = end, start\n",
    "# --------- for i   \n",
    "pprint(data)"
   ]
  },
  {
   "cell_type": "code",
   "execution_count": 10,
   "id": "983cdcc1",
   "metadata": {},
   "outputs": [
    {
     "name": "stdout",
     "output_type": "stream",
     "text": [
      "2차원 리스트를 만드려는 행과 열의 개수: 4 5\n",
      "  1    2    3    4    5  \n",
      " 10    9    8    7    6  \n",
      " 11   12   13   14   15  \n",
      " 20   19   18   17   16  \n"
     ]
    }
   ],
   "source": [
    "row, col = map(int, input('2차원 리스트를 만드려는 행과 열의 개수: ').split())\n",
    "data = [[0] * col for i in range(row)] \n",
    "n = 0 \n",
    "start = [i for i in range(col)] # 왼쪽부터 오른쪽으로 진행하는 열 인덱스를 기억하는 리스트\n",
    "end = [i for i in range(col - 1, -1, -1)] # 오른쪽부터 왼쪽으로 진행하는 열 인덱스를 기억하는 리스트\n",
    "# print(start, end)\n",
    "\n",
    "for i in range(row):\n",
    "    for j in start:\n",
    "        n += 1\n",
    "        data[i][j] = n\n",
    "    # ----- for j\n",
    "    start, end = end, start\n",
    "# --------- for i   \n",
    "pprint(data)"
   ]
  },
  {
   "cell_type": "code",
   "execution_count": null,
   "id": "228804fb",
   "metadata": {},
   "outputs": [],
   "source": []
  },
  {
   "cell_type": "code",
   "execution_count": null,
   "id": "7725a15b",
   "metadata": {},
   "outputs": [],
   "source": []
  },
  {
   "cell_type": "code",
   "execution_count": null,
   "id": "17b4cbbd",
   "metadata": {},
   "outputs": [],
   "source": []
  },
  {
   "cell_type": "code",
   "execution_count": null,
   "id": "2aa7af46",
   "metadata": {},
   "outputs": [],
   "source": []
  },
  {
   "cell_type": "code",
   "execution_count": null,
   "id": "31db2fdd",
   "metadata": {},
   "outputs": [],
   "source": []
  },
  {
   "cell_type": "code",
   "execution_count": null,
   "id": "5d7bbfdc",
   "metadata": {},
   "outputs": [],
   "source": []
  },
  {
   "cell_type": "code",
   "execution_count": null,
   "id": "0fc35586",
   "metadata": {},
   "outputs": [],
   "source": []
  },
  {
   "cell_type": "code",
   "execution_count": null,
   "id": "14d90948",
   "metadata": {},
   "outputs": [],
   "source": []
  },
  {
   "cell_type": "code",
   "execution_count": null,
   "id": "b2fa2e5d",
   "metadata": {},
   "outputs": [],
   "source": []
  }
 ],
 "metadata": {
  "kernelspec": {
   "display_name": "Python 3",
   "language": "python",
   "name": "python3"
  },
  "language_info": {
   "codemirror_mode": {
    "name": "ipython",
    "version": 3
   },
   "file_extension": ".py",
   "mimetype": "text/x-python",
   "name": "python",
   "nbconvert_exporter": "python",
   "pygments_lexer": "ipython3",
   "version": "3.6.8"
  }
 },
 "nbformat": 4,
 "nbformat_minor": 5
}

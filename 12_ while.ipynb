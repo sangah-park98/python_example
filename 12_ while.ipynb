{
 "cells": [
  {
   "cell_type": "markdown",
   "id": "8dd131bb",
   "metadata": {},
   "source": [
    "while  \n",
    "\n",
    "while은 조건이 참인동안 반복하고 조건이 거짓이 되는 순간 반복을 종료한다.\n",
    "while의 최초 진입 조건이 거짓이면 while 블록을 한 번도 실행하지 않는다.  \n",
    "for는 반복 횟수를 알고 있는 경우 사용하고 while은 반복을 하기는 해야겠는데 몇 번 반복해야 하는지 모를 때 사용한다.  \n",
    "***\n",
    "\n",
    "while 조건식:  \n",
    "&nbsp;&nbsp;&nbsp;&nbsp; 조건식이 참일 경우 실행할 문장  \n",
    "&nbsp;&nbsp;&nbsp;&nbsp; ..."
   ]
  },
  {
   "cell_type": "code",
   "execution_count": 2,
   "id": "0bfa4489",
   "metadata": {},
   "outputs": [
    {
     "name": "stdout",
     "output_type": "stream",
     "text": [
      "55\n"
     ]
    }
   ],
   "source": [
    "# 1 ~ 10의 합계\n",
    "i = 0 # 1 ~ 10 까지 1씩 증가시키는 변수\n",
    "total = 0 # 1 ~10까지 1씩 증가시키는 변수\n",
    "while i < 10:\n",
    "    i += 1\n",
    "    total += i\n",
    "# --------while\n",
    "print(total)\n"
   ]
  },
  {
   "cell_type": "code",
   "execution_count": null,
   "id": "fdf0774a",
   "metadata": {},
   "outputs": [],
   "source": [
    "i = 0 \n",
    "total = 0 \n",
    "while True:\n",
    "    i += 1\n",
    "    total += i\n",
    "# --------while\n",
    "print(total)\n"
   ]
  },
  {
   "cell_type": "code",
   "execution_count": null,
   "id": "c50e7e28",
   "metadata": {},
   "outputs": [],
   "source": [
    "i = 0 \n",
    "total = 0 \n",
    "\n",
    "# 의도적으로 무한 루프를 발생시키려면 조건을 항상 참이 되도록 하면 된다.\n",
    "while True:\n",
    "    i += 1\n",
    "    total += i\n",
    "# --------while\n",
    "print(total)\n"
   ]
  },
  {
   "cell_type": "code",
   "execution_count": null,
   "id": "1ec3d4a1",
   "metadata": {},
   "outputs": [],
   "source": [
    "i = 0 \n",
    "total = 0 \n",
    "\n",
    "# 의도적으로 무한 루프를 발생시키려면 조건을 항상 참이 되도록 하면 된다.\n",
    "while i < 10:\n",
    "    i += 1\n",
    "    if i == 10:\n",
    "        break\n",
    "    total += i\n",
    "# --------while\n",
    "print(total)\n"
   ]
  },
  {
   "cell_type": "code",
   "execution_count": 8,
   "id": "325a27fa",
   "metadata": {},
   "outputs": [
    {
     "name": "stdout",
     "output_type": "stream",
     "text": [
      "----------------------------------------\n",
      "1. 입력 2. 보기 3. 수정 4. 삭제 5. 종료\n",
      "----------------------------------------\n",
      "원하는 메뉴를 입력하고 Enter 키를 누르세요: 5\n",
      "프로그램을 종료합니다.\n"
     ]
    }
   ],
   "source": [
    "menu = 0\n",
    "while menu != 5:\n",
    "    while True:\n",
    "        print('-' * 40)\n",
    "        print('1. 입력 2. 보기 3. 수정 4. 삭제 5. 종료')\n",
    "        print('-' * 40)\n",
    "        menu = int(input('원하는 메뉴를 입력하고 Enter 키를 누르세요: '))\n",
    "\n",
    "        # 메뉴가 1 ~ 5 사이의 값이 입력되었다면 무한 루프를 탈출시킨다.\n",
    "        if 1 <= menu <= 5:\n",
    "            break\n",
    "        else:\n",
    "            print('메뉴는 1 ~ 5 사이의 값만 입력해야 합니다.')\n",
    "        #---------if\n",
    "    # ---------while\n",
    "\n",
    "    # 여기까지 넘어왔으면 menu에는 1 ~ 5 사이의 정수가 입력된 것이다.\n",
    "if menu == 1:\n",
    "    print('입력 작업')\n",
    "elif menu == 2:\n",
    "    print('보기 작업')\n",
    "elif menu == 3:\n",
    "    print('수정 작업')\n",
    "elif menu == 4:\n",
    "    print('삭제 작업')\n",
    "    # -----------------if\n",
    "# -----while menu != 5\n",
    "print('프로그램을 종료합니다.')"
   ]
  },
  {
   "cell_type": "code",
   "execution_count": null,
   "id": "2e633e67",
   "metadata": {},
   "outputs": [],
   "source": []
  },
  {
   "cell_type": "code",
   "execution_count": null,
   "id": "87e85c02",
   "metadata": {},
   "outputs": [],
   "source": []
  },
  {
   "cell_type": "code",
   "execution_count": null,
   "id": "eafe50cf",
   "metadata": {},
   "outputs": [],
   "source": []
  },
  {
   "cell_type": "code",
   "execution_count": null,
   "id": "ccbe6cf0",
   "metadata": {},
   "outputs": [],
   "source": []
  },
  {
   "cell_type": "code",
   "execution_count": null,
   "id": "168ddcbe",
   "metadata": {},
   "outputs": [],
   "source": []
  },
  {
   "cell_type": "code",
   "execution_count": null,
   "id": "c588463a",
   "metadata": {},
   "outputs": [],
   "source": []
  },
  {
   "cell_type": "code",
   "execution_count": null,
   "id": "43c43e33",
   "metadata": {},
   "outputs": [],
   "source": []
  },
  {
   "cell_type": "code",
   "execution_count": null,
   "id": "154aa520",
   "metadata": {},
   "outputs": [],
   "source": []
  },
  {
   "cell_type": "code",
   "execution_count": null,
   "id": "882b2026",
   "metadata": {},
   "outputs": [],
   "source": []
  },
  {
   "cell_type": "code",
   "execution_count": null,
   "id": "6e77bf74",
   "metadata": {},
   "outputs": [],
   "source": []
  },
  {
   "cell_type": "code",
   "execution_count": null,
   "id": "d6f03f13",
   "metadata": {},
   "outputs": [],
   "source": []
  },
  {
   "cell_type": "code",
   "execution_count": null,
   "id": "057f798b",
   "metadata": {},
   "outputs": [],
   "source": []
  },
  {
   "cell_type": "code",
   "execution_count": null,
   "id": "a17dce94",
   "metadata": {},
   "outputs": [],
   "source": []
  },
  {
   "cell_type": "code",
   "execution_count": null,
   "id": "e1e86f06",
   "metadata": {},
   "outputs": [],
   "source": []
  },
  {
   "cell_type": "code",
   "execution_count": null,
   "id": "be9ab9a0",
   "metadata": {},
   "outputs": [],
   "source": []
  }
 ],
 "metadata": {
  "kernelspec": {
   "display_name": "Python 3",
   "language": "python",
   "name": "python3"
  },
  "language_info": {
   "codemirror_mode": {
    "name": "ipython",
    "version": 3
   },
   "file_extension": ".py",
   "mimetype": "text/x-python",
   "name": "python",
   "nbconvert_exporter": "python",
   "pygments_lexer": "ipython3",
   "version": "3.6.8"
  }
 },
 "nbformat": 4,
 "nbformat_minor": 5
}

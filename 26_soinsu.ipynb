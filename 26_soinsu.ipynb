{
 "cells": [
  {
   "cell_type": "code",
   "execution_count": 2,
   "id": "5e119c10",
   "metadata": {},
   "outputs": [
    {
     "name": "stdout",
     "output_type": "stream",
     "text": [
      "소인수 분해할 숫자를 입력하세요: 132\n"
     ]
    },
    {
     "ename": "KeyboardInterrupt",
     "evalue": "",
     "output_type": "error",
     "traceback": [
      "\u001b[1;31m---------------------------------------------------------------------------\u001b[0m",
      "\u001b[1;31mKeyboardInterrupt\u001b[0m                         Traceback (most recent call last)",
      "\u001b[1;32m<ipython-input-2-5eaf32bf9e47>\u001b[0m in \u001b[0;36m<module>\u001b[1;34m\u001b[0m\n\u001b[0;32m     17\u001b[0m         \u001b[0mk\u001b[0m \u001b[1;33m=\u001b[0m \u001b[1;36m2\u001b[0m \u001b[1;31m# 소인수 분해를 시작할 수를 초기화 시킨다. 1은 모든 수를 나눠서 떨어뜨릴 수 있으므로 2부터 시작한다.\u001b[0m\u001b[1;33m\u001b[0m\u001b[1;33m\u001b[0m\u001b[0m\n\u001b[0;32m     18\u001b[0m         \u001b[1;32mwhile\u001b[0m \u001b[1;32mTrue\u001b[0m\u001b[1;33m:\u001b[0m\u001b[1;33m\u001b[0m\u001b[1;33m\u001b[0m\u001b[0m\n\u001b[1;32m---> 19\u001b[1;33m             \u001b[0mr\u001b[0m \u001b[1;33m=\u001b[0m \u001b[0mn\u001b[0m \u001b[1;33m%\u001b[0m \u001b[0mk\u001b[0m\u001b[1;33m\u001b[0m\u001b[1;33m\u001b[0m\u001b[0m\n\u001b[0m\u001b[0;32m     20\u001b[0m             \u001b[1;32mif\u001b[0m \u001b[0mr\u001b[0m \u001b[1;33m==\u001b[0m \u001b[1;36m0\u001b[0m\u001b[1;33m:\u001b[0m \u001b[1;31m# 소인수 분해가 되었는가?\u001b[0m\u001b[1;33m\u001b[0m\u001b[1;33m\u001b[0m\u001b[0m\n\u001b[0;32m     21\u001b[0m                 \u001b[1;32mbreak\u001b[0m\u001b[1;33m\u001b[0m\u001b[1;33m\u001b[0m\u001b[0m\n",
      "\u001b[1;31mKeyboardInterrupt\u001b[0m: "
     ]
    }
   ],
   "source": [
    "# 소인수 분해가 불가능한 숫자가 입력될 때까지 실행해야 하기 때문에 무한 루프를 돌린다.\n",
    "while True:\n",
    "    n = int(input('소인수 분해할 숫자를 입력하세요: '))\n",
    "    if n < 2:\n",
    "        print('2보다 작은 숫자가 입력돼서 프로그램을 종료합니다.')\n",
    "        break\n",
    "    # ----- if\n",
    "    # 2 이상인 숫자가 입력되었으므로 소인수 분해를 실행한다.\n",
    "    s = list() # 분해된 소인수를 기억할 빈 리스트를 선언한다.\n",
    "    c = 0 # 소인수의 개수를 기억할 변수를 선언하고 초기화한다.\n",
    "    number = n # 소인수 분해 결과를 출력하기 위해서 입력받은 숫자를 number라는 변수에 보관한다.\n",
    "    \n",
    "    \n",
    "    # 소인수 분해를 시작한다.\n",
    "    # 소인수 분해를 하기 위해서 입력한 숫자(n)의 크기에 따라서 반복 횟수가 달라지므로 무한 루프를 돌려서 처리한다.\n",
    "    while True:\n",
    "        k = 2 # 소인수 분해를 시작할 수를 초기화 시킨다. 1은 모든 수를 나눠서 떨어뜨릴 수 있으므로 2부터 시작한다.\n",
    "        while True:\n",
    "            r = n % k\n",
    "            if r == 0: # 소인수 분해가 되었는가?\n",
    "                break\n",
    "                \n",
    "            # ---- if\n",
    "            k += 1 # 소인수분해가 안되면 k값을 1증가 시킨다.\n",
    "        # ------ while True\n",
    "            c += 1 # 소인수분해가 되면 소인수의 개수를 1 증가 시킨다. => 소인수 개수가 1이면 n은 소수이다.\n",
    "            s.append(k) #  발생된 소인수를 리스트에 저장한다.\n",
    "         # 다음 소인수를 계산하기 위해서 소인수 분해되고 남은 숫자(몫)를 다시 n에 저장한다.\n",
    "            n //= k\n",
    "            if n == 1: # 소인수 분해가 끝났는가?\n",
    "                break\n",
    "    # ------ while True\n",
    "    # 소인수 분해를 하기 위해서 입력한 숫자가 소수인가 비교한다.\n",
    "    if c == 1: # 소수인가?\n",
    "        print(f'입력: {number} => 소수')\n",
    "    else: \n",
    "        print(f'입력: {number} => ', end='')\n",
    "        for i in range(c - 1):\n",
    "            print(s[i], end=' * ')\n",
    "            # ---- for\n",
    "        print(s[-1])\n",
    "    # ----- if\n",
    "# ---- while True\n",
    "print(f'입력: {n} => 프로그램 종료')"
   ]
  },
  {
   "cell_type": "code",
   "execution_count": null,
   "id": "676fbfe5",
   "metadata": {},
   "outputs": [],
   "source": []
  },
  {
   "cell_type": "code",
   "execution_count": null,
   "id": "33c82df0",
   "metadata": {},
   "outputs": [],
   "source": []
  },
  {
   "cell_type": "code",
   "execution_count": null,
   "id": "8f3b3235",
   "metadata": {},
   "outputs": [],
   "source": []
  },
  {
   "cell_type": "code",
   "execution_count": null,
   "id": "9b88d6dc",
   "metadata": {},
   "outputs": [],
   "source": []
  },
  {
   "cell_type": "code",
   "execution_count": null,
   "id": "d6490ea1",
   "metadata": {},
   "outputs": [],
   "source": []
  },
  {
   "cell_type": "code",
   "execution_count": null,
   "id": "d75c2380",
   "metadata": {},
   "outputs": [],
   "source": []
  },
  {
   "cell_type": "code",
   "execution_count": null,
   "id": "488a6134",
   "metadata": {},
   "outputs": [],
   "source": []
  },
  {
   "cell_type": "code",
   "execution_count": null,
   "id": "a6b27df8",
   "metadata": {},
   "outputs": [],
   "source": []
  },
  {
   "cell_type": "code",
   "execution_count": null,
   "id": "ba361130",
   "metadata": {},
   "outputs": [],
   "source": []
  },
  {
   "cell_type": "code",
   "execution_count": null,
   "id": "97b54560",
   "metadata": {},
   "outputs": [],
   "source": []
  },
  {
   "cell_type": "code",
   "execution_count": null,
   "id": "e9fca3f6",
   "metadata": {},
   "outputs": [],
   "source": []
  },
  {
   "cell_type": "code",
   "execution_count": null,
   "id": "77bfcea6",
   "metadata": {},
   "outputs": [],
   "source": []
  }
 ],
 "metadata": {
  "kernelspec": {
   "display_name": "Python 3",
   "language": "python",
   "name": "python3"
  },
  "language_info": {
   "codemirror_mode": {
    "name": "ipython",
    "version": 3
   },
   "file_extension": ".py",
   "mimetype": "text/x-python",
   "name": "python",
   "nbconvert_exporter": "python",
   "pygments_lexer": "ipython3",
   "version": "3.6.8"
  }
 },
 "nbformat": 4,
 "nbformat_minor": 5
}

{
 "cells": [
  {
   "cell_type": "code",
   "execution_count": null,
   "id": "d28f5ef7",
   "metadata": {},
   "outputs": [],
   "source": [
    "선택 정렬의 반복 알고리즘을 이용한 석차 계산"
   ]
  },
  {
   "cell_type": "code",
   "execution_count": 1,
   "id": "b4245592",
   "metadata": {},
   "outputs": [
    {
     "name": "stdout",
     "output_type": "stream",
     "text": [
      "[1, 1, 1, 1, 1]\n"
     ]
    }
   ],
   "source": [
    "score = [70, 100, 80, 100, 90]\n",
    "rank = [1 for i in range(len(score))]\n",
    "print(rank)"
   ]
  },
  {
   "cell_type": "code",
   "execution_count": 2,
   "id": "72c9a297",
   "metadata": {},
   "outputs": [
    {
     "name": "stdout",
     "output_type": "stream",
     "text": [
      " 70점은 5등입니다. \n",
      "100점은 1등입니다. \n",
      " 80점은 4등입니다. \n",
      "100점은 1등입니다. \n",
      " 90점은 3등입니다. \n"
     ]
    }
   ],
   "source": [
    "for i in range(len(score) - 1):\n",
    "    for j in range(i + 1, len(score)):\n",
    "        # i번째 점수가 크면 j번째 석차를 1 증가시키고 j번째 점수가 크면 i번째 석차를 1 증가시킨다.\n",
    "        # 부등호 방향을 모두 반대로 변경하면 오름차순 석차가 계산된다. (<, > -> 내림차순/ >,< -> 내림차순)\n",
    "        if score[i] < score[j]:\n",
    "            rank[i] += 1\n",
    "        elif score[i] > score[j]:\n",
    "            rank[j] += 1\n",
    "        # ------ if\n",
    "    # ------- for j\n",
    "# --------- for i\n",
    "for i in range(len(score)):\n",
    "    print('{:3d}점은 {}등입니다. '.format(score[i], rank[i]))"
   ]
  },
  {
   "cell_type": "code",
   "execution_count": null,
   "id": "47bc83c0",
   "metadata": {},
   "outputs": [],
   "source": []
  },
  {
   "cell_type": "code",
   "execution_count": null,
   "id": "e4f98f5d",
   "metadata": {},
   "outputs": [],
   "source": []
  },
  {
   "cell_type": "code",
   "execution_count": null,
   "id": "9bdbfd48",
   "metadata": {},
   "outputs": [],
   "source": []
  },
  {
   "cell_type": "code",
   "execution_count": null,
   "id": "1d3f76a2",
   "metadata": {},
   "outputs": [],
   "source": []
  },
  {
   "cell_type": "code",
   "execution_count": null,
   "id": "b1b31522",
   "metadata": {},
   "outputs": [],
   "source": []
  },
  {
   "cell_type": "code",
   "execution_count": null,
   "id": "1bc8f216",
   "metadata": {},
   "outputs": [],
   "source": []
  },
  {
   "cell_type": "code",
   "execution_count": null,
   "id": "984571f5",
   "metadata": {},
   "outputs": [],
   "source": []
  },
  {
   "cell_type": "code",
   "execution_count": null,
   "id": "749e9f8f",
   "metadata": {},
   "outputs": [],
   "source": []
  }
 ],
 "metadata": {
  "kernelspec": {
   "display_name": "Python 3",
   "language": "python",
   "name": "python3"
  },
  "language_info": {
   "codemirror_mode": {
    "name": "ipython",
    "version": 3
   },
   "file_extension": ".py",
   "mimetype": "text/x-python",
   "name": "python",
   "nbconvert_exporter": "python",
   "pygments_lexer": "ipython3",
   "version": "3.6.8"
  }
 },
 "nbformat": 4,
 "nbformat_minor": 5
}

{
 "cells": [
  {
   "cell_type": "markdown",
   "id": "7b0f1cc5",
   "metadata": {},
   "source": [
    "변수(variable)  \n",
    "변수는 처리할 데이터(상수, constant)를 기억하는 기억장소를 말한다.\n",
    "\n",
    "변수명 작성방법  \n",
    "영문자(대소문자를 구분한다), 숫자, 특수문자('_'만 가능)를 사용할 수 있으며 반드시 문자로 시작해야 한다.  \n",
    "파이썬 예약어(파이썬과 약속된 단어 => 명령어, 함수이름 등)은 사용할 수 없다."
   ]
  },
  {
   "cell_type": "markdown",
   "id": "45f2c0a0",
   "metadata": {},
   "source": [
    "파이썬은 C/C++이나 JAVA와 같이 변수 선언 시 자료형을 지정하지 않고 JavaScript처럼 변수 선언 시 var, let, const를 붙이지 않고  \n",
    "변수를 선언하고 변수에 저장되는 데이터의 타입에 따라서 자동으로 변수의 자료형이 결정된다.  \n",
    "'='는 같다라는 의미로 사용되지 않고 '=' 오른쪽의 데이터를 '=' 왼쪽의 기억장소에 저장하라는 의미이다. => 대입문, 할당문, 배정문  \n",
    "'=='와 같이 2개를 연속해서 사용해야 같다로 인식한다."
   ]
  },
  {
   "cell_type": "code",
   "execution_count": 6,
   "id": "bcf268b8",
   "metadata": {},
   "outputs": [
    {
     "name": "stdout",
     "output_type": "stream",
     "text": [
      "홍길동\n",
      "<class 'str'>\n",
      "100\n",
      "<class 'int'>\n"
     ]
    }
   ],
   "source": [
    "a = '홍길동'\n",
    "print(a)\n",
    "# type() 함수는 인수로 지정된 기억장소의 자료형을 얻어온다.\n",
    "print(type(a)) # <class 'str'> => 정수\n",
    "\n",
    "a = 100\n",
    "print(a)\n",
    "print(type(a))\n",
    "\n"
   ]
  },
  {
   "cell_type": "code",
   "execution_count": 8,
   "id": "198279c3",
   "metadata": {},
   "outputs": [
    {
     "name": "stdout",
     "output_type": "stream",
     "text": [
      "100\n"
     ]
    },
    {
     "ename": "NameError",
     "evalue": "name 'a' is not defined",
     "output_type": "error",
     "traceback": [
      "\u001b[1;31m---------------------------------------------------------------------------\u001b[0m",
      "\u001b[1;31mNameError\u001b[0m                                 Traceback (most recent call last)",
      "\u001b[1;32m<ipython-input-8-1a1a2271eced>\u001b[0m in \u001b[0;36m<module>\u001b[1;34m\u001b[0m\n\u001b[0;32m      3\u001b[0m \u001b[1;33m\u001b[0m\u001b[0m\n\u001b[0;32m      4\u001b[0m \u001b[1;32mdel\u001b[0m \u001b[0ma\u001b[0m\u001b[1;33m\u001b[0m\u001b[1;33m\u001b[0m\u001b[0m\n\u001b[1;32m----> 5\u001b[1;33m \u001b[0mprint\u001b[0m\u001b[1;33m(\u001b[0m\u001b[0ma\u001b[0m\u001b[1;33m)\u001b[0m\u001b[1;33m\u001b[0m\u001b[1;33m\u001b[0m\u001b[0m\n\u001b[0m",
      "\u001b[1;31mNameError\u001b[0m: name 'a' is not defined"
     ]
    }
   ],
   "source": [
    "print(a)\n",
    "# 파이썬은 프로그램이 종료돼야 기억장소가 메모리에서 소멸된다.\n",
    "\n",
    "del a \n",
    "print(a)"
   ]
  },
  {
   "cell_type": "markdown",
   "id": "a30aa93e",
   "metadata": {},
   "source": [
    "input 함수  \n",
    "\n",
    "키보드로 입력하는 데이터를 무조건 문자열 형태로 입력받는다.  \n",
    "변수 = input(['메시지'])"
   ]
  },
  {
   "cell_type": "code",
   "execution_count": 18,
   "id": "fd0aaa9b",
   "metadata": {},
   "outputs": [
    {
     "name": "stdout",
     "output_type": "stream",
     "text": [
      "이름을 입력하세요: 흰둥이\n",
      "<class 'str'>\n",
      "흰둥이\n"
     ]
    }
   ],
   "source": [
    "name = input('이름을 입력하세요: ')\n",
    "print(type(name))\n",
    "print(name)\n"
   ]
  },
  {
   "cell_type": "markdown",
   "id": "209a2d6c",
   "metadata": {},
   "source": [
    "input() 함수는 무조건 문자열 형태로 데이터를 입력받기 때문에 정수나 실수 형태의 데이터를 입력 받으려면 입력받은 데이터를 int() 함수나 float() 함수를 사용해서  \n",
    "숫자로 변환하면 된다."
   ]
  },
  {
   "cell_type": "code",
   "execution_count": 23,
   "id": "4055e0e6",
   "metadata": {},
   "outputs": [
    {
     "name": "stdout",
     "output_type": "stream",
     "text": [
      "나이를 입력하세요: 11\n",
      "<class 'int'>\n",
      "흰둥이님은 내년에 12살 입니다.\n"
     ]
    }
   ],
   "source": [
    "age = int(input('나이를 입력하세요: '))\n",
    "print(type(age))\n",
    "print('%s님은 %s살 입니다.' % (name, age))\n",
    "# '+' 연산자는 문자열과 문자열(연결), 숫자와 숫자(덧셈)의 연산만 가능하다.\n",
    "print('{}님은 내년에 {}살 입니다.' .format(name, age + 1))"
   ]
  },
  {
   "cell_type": "code",
   "execution_count": 24,
   "id": "241271d7",
   "metadata": {},
   "outputs": [
    {
     "name": "stdout",
     "output_type": "stream",
     "text": [
      "나이를 입력하세요: 10\n",
      "<class 'str'>\n",
      "흰둥이님은 내년에 11살 입니다.\n"
     ]
    }
   ],
   "source": [
    "age = input('나이를 입력하세요: ')\n",
    "print(type(age))\n",
    "print('{}님은 내년에 {}살 입니다.' .format(name, int(age) + 1))"
   ]
  },
  {
   "cell_type": "code",
   "execution_count": null,
   "id": "eb703258",
   "metadata": {},
   "outputs": [],
   "source": []
  },
  {
   "cell_type": "code",
   "execution_count": 1,
   "id": "4b535162",
   "metadata": {},
   "outputs": [
    {
     "name": "stdout",
     "output_type": "stream",
     "text": [
      "이름과 나이를 입력하세요: 흰둥이 10\n",
      "흰둥이님은 10살 입니다.\n",
      "흰둥이님은 내년에 11살 입니다.\n"
     ]
    }
   ],
   "source": [
    "name, age = input('이름과 나이를 입력하세요: ').split()\n",
    "print('{}님은 {}살 입니다.'.format(name, age))\n",
    "print('{}님은 내년에 {}살 입니다.' .format(name, int(age) + 1))"
   ]
  },
  {
   "cell_type": "code",
   "execution_count": 2,
   "id": "7ab28731",
   "metadata": {},
   "outputs": [
    {
     "name": "stdout",
     "output_type": "stream",
     "text": [
      "세 과목 점수를 입력하세요: 100 20 27\n",
      "총점: 147, 평균: 49.00\n"
     ]
    }
   ],
   "source": [
    "java, jsp, python = input('세 과목 점수를 입력하세요: ').split()\n",
    "total = int(java) + int(jsp) + int(python)\n",
    "print('총점: {}, 평균: {:.2f}'.format(total, total / 3))"
   ]
  },
  {
   "cell_type": "markdown",
   "id": "2150a943",
   "metadata": {},
   "source": [
    "map() 함수를 사용하면 입력받은 데이터를 split() 메소드로 구분한 후 일괄적으로 형변환 시킬 수 있다.  \n",
    "map(자료형, intput('메시지').split())"
   ]
  },
  {
   "cell_type": "code",
   "execution_count": 4,
   "id": "cecfa9d1",
   "metadata": {},
   "outputs": [
    {
     "name": "stdout",
     "output_type": "stream",
     "text": [
      "세 과목 점수를 입력하세요: 100 25 50\n",
      "총점: 175, 평균: 58.33\n"
     ]
    }
   ],
   "source": [
    "java, jsp, python = map(int, input('세 과목 점수를 입력하세요: ').split())\n",
    "total = java + jsp+ python\n",
    "print('총점: {}, 평균: {:.2f}'.format(total, total / 3))"
   ]
  },
  {
   "cell_type": "code",
   "execution_count": null,
   "id": "7ead4a23",
   "metadata": {},
   "outputs": [],
   "source": []
  },
  {
   "cell_type": "code",
   "execution_count": null,
   "id": "1636f9e5",
   "metadata": {},
   "outputs": [],
   "source": []
  },
  {
   "cell_type": "code",
   "execution_count": null,
   "id": "5bc68d98",
   "metadata": {},
   "outputs": [],
   "source": []
  },
  {
   "cell_type": "code",
   "execution_count": null,
   "id": "36e509a6",
   "metadata": {},
   "outputs": [],
   "source": []
  },
  {
   "cell_type": "code",
   "execution_count": null,
   "id": "997bd70b",
   "metadata": {},
   "outputs": [],
   "source": []
  },
  {
   "cell_type": "code",
   "execution_count": null,
   "id": "788e120b",
   "metadata": {},
   "outputs": [],
   "source": []
  },
  {
   "cell_type": "code",
   "execution_count": null,
   "id": "1ebadc3b",
   "metadata": {},
   "outputs": [],
   "source": []
  },
  {
   "cell_type": "code",
   "execution_count": null,
   "id": "90247767",
   "metadata": {},
   "outputs": [],
   "source": []
  },
  {
   "cell_type": "code",
   "execution_count": null,
   "id": "62224840",
   "metadata": {},
   "outputs": [],
   "source": []
  },
  {
   "cell_type": "code",
   "execution_count": null,
   "id": "6cda1271",
   "metadata": {},
   "outputs": [],
   "source": []
  },
  {
   "cell_type": "code",
   "execution_count": null,
   "id": "6a3efe03",
   "metadata": {},
   "outputs": [],
   "source": []
  },
  {
   "cell_type": "code",
   "execution_count": null,
   "id": "b5032bea",
   "metadata": {},
   "outputs": [],
   "source": []
  },
  {
   "cell_type": "code",
   "execution_count": null,
   "id": "c8812862",
   "metadata": {},
   "outputs": [],
   "source": []
  },
  {
   "cell_type": "code",
   "execution_count": null,
   "id": "53f46648",
   "metadata": {},
   "outputs": [],
   "source": []
  },
  {
   "cell_type": "code",
   "execution_count": null,
   "id": "0d87bc42",
   "metadata": {},
   "outputs": [],
   "source": []
  },
  {
   "cell_type": "code",
   "execution_count": null,
   "id": "7097bb58",
   "metadata": {},
   "outputs": [],
   "source": []
  }
 ],
 "metadata": {
  "kernelspec": {
   "display_name": "Python 3",
   "language": "python",
   "name": "python3"
  },
  "language_info": {
   "codemirror_mode": {
    "name": "ipython",
    "version": 3
   },
   "file_extension": ".py",
   "mimetype": "text/x-python",
   "name": "python",
   "nbconvert_exporter": "python",
   "pygments_lexer": "ipython3",
   "version": "3.6.8"
  }
 },
 "nbformat": 4,
 "nbformat_minor": 5
}

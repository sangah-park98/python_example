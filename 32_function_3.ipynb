{
 "cells": [
  {
   "cell_type": "markdown",
   "id": "5224721c",
   "metadata": {},
   "source": [
    "함수로 데이터를 전달할 때 데이터가 전달될 인수를 지정할 수 있다."
   ]
  },
  {
   "cell_type": "code",
   "execution_count": 2,
   "id": "9c8ffff4",
   "metadata": {},
   "outputs": [],
   "source": [
    "def func3(a, b, c):\n",
    "    print(f'{a} + {b} + {c} = {a + b + c}')"
   ]
  },
  {
   "cell_type": "code",
   "execution_count": 3,
   "id": "e38c8113",
   "metadata": {},
   "outputs": [
    {
     "name": "stdout",
     "output_type": "stream",
     "text": [
      "100 + 200 + 300 = 600\n"
     ]
    }
   ],
   "source": [
    "# 데이터가 전달될 때 인수를 지정하지 않으면 처음부터 차례대로 데이터가 함수로 전달된다.\n",
    "func3(100, 200, 300)"
   ]
  },
  {
   "cell_type": "code",
   "execution_count": 4,
   "id": "a52ea032",
   "metadata": {},
   "outputs": [
    {
     "name": "stdout",
     "output_type": "stream",
     "text": [
      "100 + 200 + 300 = 600\n"
     ]
    }
   ],
   "source": [
    "# 함수를 호출할 때 데이터가 전달될 인수를 지정할 수 있다.\n",
    "func3(a=100, b=200, c=300)"
   ]
  },
  {
   "cell_type": "code",
   "execution_count": 6,
   "id": "febdc422",
   "metadata": {},
   "outputs": [
    {
     "name": "stdout",
     "output_type": "stream",
     "text": [
      "300 + 100 + 200 = 600\n"
     ]
    }
   ],
   "source": [
    "# 인수를 지정해서 함수를 호출하면 가인수의 순서와 관계없이 사용할 수 있다.\n",
    "func3(b=100, c=200, a=300)"
   ]
  },
  {
   "cell_type": "code",
   "execution_count": 8,
   "id": "1d95fd57",
   "metadata": {},
   "outputs": [
    {
     "ename": "SyntaxError",
     "evalue": "keyword argument repeated (<ipython-input-8-7c5046d71a2d>, line 2)",
     "output_type": "error",
     "traceback": [
      "\u001b[1;36m  File \u001b[1;32m\"<ipython-input-8-7c5046d71a2d>\"\u001b[1;36m, line \u001b[1;32m2\u001b[0m\n\u001b[1;33m    func3(b=100, c=200, c=300)\u001b[0m\n\u001b[1;37m                       ^\u001b[0m\n\u001b[1;31mSyntaxError\u001b[0m\u001b[1;31m:\u001b[0m keyword argument repeated\n"
     ]
    }
   ],
   "source": [
    "# 인수를 지정해서 함수를 호출할 때 가인수 목록에 있는 인수를 지정해야 하고 가인수 목록에 없으면 에러가 발생된다.\n",
    "func3(b=100, c=200, d=300)"
   ]
  },
  {
   "cell_type": "code",
   "execution_count": 9,
   "id": "cc20cc1b",
   "metadata": {},
   "outputs": [
    {
     "ename": "SyntaxError",
     "evalue": "positional argument follows keyword argument (<ipython-input-9-2c6f4e3f6638>, line 2)",
     "output_type": "error",
     "traceback": [
      "\u001b[1;36m  File \u001b[1;32m\"<ipython-input-9-2c6f4e3f6638>\"\u001b[1;36m, line \u001b[1;32m2\u001b[0m\n\u001b[1;33m    func3(b=100, c=200, 300)\u001b[0m\n\u001b[1;37m                       ^\u001b[0m\n\u001b[1;31mSyntaxError\u001b[0m\u001b[1;31m:\u001b[0m positional argument follows keyword argument\n"
     ]
    }
   ],
   "source": [
    "# 인수를 지정해서 함수를 호출할 때 인수를 부분적으로 지정하면 에러가 발생된다.\n",
    "func3(b=100, c=200, 300)"
   ]
  },
  {
   "cell_type": "code",
   "execution_count": 10,
   "id": "28b09bd5",
   "metadata": {},
   "outputs": [],
   "source": [
    "def func4(a= 8, b=6):\n",
    "    print(f'{a} + {b} = {a + b}')"
   ]
  },
  {
   "cell_type": "code",
   "execution_count": 11,
   "id": "6cd7946b",
   "metadata": {},
   "outputs": [
    {
     "name": "stdout",
     "output_type": "stream",
     "text": [
      "8 + 9 = 17\n"
     ]
    }
   ],
   "source": [
    "func4(b=9)"
   ]
  },
  {
   "cell_type": "code",
   "execution_count": 12,
   "id": "2a419fa2",
   "metadata": {},
   "outputs": [],
   "source": [
    "# 데이터가 넘어오면 1부터 넘어온 데이터까지 합계를 계산하고 데이터가 넘어오지 않으면 100까지 합계를 계산하는 함수\n",
    "def func5(n=100):\n",
    "    total = 0\n",
    "    for i in range(1, n + 1):\n",
    "        total += i\n",
    "    return total"
   ]
  },
  {
   "cell_type": "code",
   "execution_count": 13,
   "id": "e4013073",
   "metadata": {},
   "outputs": [
    {
     "name": "stdout",
     "output_type": "stream",
     "text": [
      "55\n"
     ]
    }
   ],
   "source": [
    "print(func5(10)) # 10이 n에 넘어가서 1 ~ 10의 합계가 계산된다."
   ]
  },
  {
   "cell_type": "code",
   "execution_count": 14,
   "id": "9c7c7550",
   "metadata": {},
   "outputs": [
    {
     "name": "stdout",
     "output_type": "stream",
     "text": [
      "5050\n"
     ]
    }
   ],
   "source": [
    "print(func5()) # n에 넘어가는 데이터가 없으므로 디폴트로 지정된 1 ~ 100의 합계가 계산된다."
   ]
  },
  {
   "cell_type": "code",
   "execution_count": null,
   "id": "23abc8e2",
   "metadata": {},
   "outputs": [],
   "source": []
  },
  {
   "cell_type": "code",
   "execution_count": null,
   "id": "1e9f664b",
   "metadata": {},
   "outputs": [],
   "source": []
  },
  {
   "cell_type": "code",
   "execution_count": null,
   "id": "b2c44234",
   "metadata": {},
   "outputs": [],
   "source": []
  }
 ],
 "metadata": {
  "kernelspec": {
   "display_name": "Python 3",
   "language": "python",
   "name": "python3"
  },
  "language_info": {
   "codemirror_mode": {
    "name": "ipython",
    "version": 3
   },
   "file_extension": ".py",
   "mimetype": "text/x-python",
   "name": "python",
   "nbconvert_exporter": "python",
   "pygments_lexer": "ipython3",
   "version": "3.6.8"
  }
 },
 "nbformat": 4,
 "nbformat_minor": 5
}

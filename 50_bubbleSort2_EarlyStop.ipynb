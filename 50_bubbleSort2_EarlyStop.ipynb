{
 "cells": [
  {
   "cell_type": "markdown",
   "id": "f003578e",
   "metadata": {},
   "source": [
    "bubble sort(교환법)  \n",
    "\n",
    "선택 정렬 => 특정 위치(i)의 데이터를 선택해서 나머지(j) 데이터와 비교하며 정렬한다.  \n",
    "버블 정렬 => 인접한 데이터(j, j+1)를 비교하며 정렬한다.  \n",
    "정렬할 데이터가 n개일 경우 회전수는 n-1번이 된다. => 데이터가 5개면 회전수는 4번이다.  "
   ]
  },
  {
   "cell_type": "code",
   "execution_count": 3,
   "id": "791fc818",
   "metadata": {},
   "outputs": [
    {
     "name": "stdout",
     "output_type": "stream",
     "text": [
      "[i=0, j=0] [i=0, j=1] [i=0, j=2] [i=0, j=3] \n",
      "[i=1, j=0] [i=1, j=1] [i=1, j=2] \n",
      "[i=2, j=0] [i=2, j=1] \n",
      "[i=3, j=0] \n"
     ]
    }
   ],
   "source": [
    "n = 5\n",
    "for i in range(n-1): # 회전수\n",
    "    for j in range(n - 1 - i): # 데이터를 비교하기 위해서 선택하는 위치\n",
    "        print(f'[i={i}, j={j}] ', end='')\n",
    "    print()"
   ]
  },
  {
   "cell_type": "code",
   "execution_count": 2,
   "id": "c15b1101",
   "metadata": {},
   "outputs": [
    {
     "ename": "IndentationError",
     "evalue": "unexpected indent (<ipython-input-2-e41a8bc16b54>, line 9)",
     "output_type": "error",
     "traceback": [
      "\u001b[1;36m  File \u001b[1;32m\"<ipython-input-2-e41a8bc16b54>\"\u001b[1;36m, line \u001b[1;32m9\u001b[0m\n\u001b[1;33m    flag = 1\u001b[0m\n\u001b[1;37m    ^\u001b[0m\n\u001b[1;31mIndentationError\u001b[0m\u001b[1;31m:\u001b[0m unexpected indent\n"
     ]
    }
   ],
   "source": [
    "data = [9, 1, 3, 4, 8]\n",
    "for i in range(len(data) - 1): \n",
    "    # 1. => 회전(정렬)작업이 시작되기 전에 flag 변수를 0으로 초기화 한다.\n",
    "    flag = 0\n",
    "    for j in range(len(data) - 1 - i):\n",
    "        if data[j] < data[j+1]:\n",
    "            data[j], data[j+1] = data[j+1], data[j]\n",
    "            # 2. => 데이터 교환 작업이 실행되면 flag 변수를 1로 수정한다.\n",
    "             flag = 1\n",
    "        # ---- if\n",
    "    # ----- for j => 회전 종료 \n",
    "    # 3. => 한 회전이 종료되었을 때 데이터 교환 작업이 1번도 실행되지 않았다면 현재 데이터는 모두 정렬되어있는\n",
    "    # 상태를 의미하므로 정렬을 중지시킨다. => i 반복을 탈출한다.\n",
    "    if flag == 0:\n",
    "         break\n",
    "    print(f'{i+1}회전 결과: {data}')\n",
    "# --------- for i => 정렬 종료\n",
    "print(f'정렬 결과: {data}')"
   ]
  },
  {
   "cell_type": "code",
   "execution_count": 8,
   "id": "4f21d277",
   "metadata": {},
   "outputs": [
    {
     "name": "stdout",
     "output_type": "stream",
     "text": [
      "1회전 결과: [1, 3, 4, 8, 9]\n",
      "4회전을 해야하지만 2회전 후 중간 종료됨\n",
      "정렬 결과: [1, 3, 4, 8, 9]\n"
     ]
    }
   ],
   "source": [
    "data = [9, 1, 3, 4, 8]\n",
    "for i in range(len(data) - 1): \n",
    "    flag = True\n",
    "    for j in range(len(data) - 1 - i):\n",
    "        if data[j] > data[j+1]:\n",
    "            data[j], data[j+1] = data[j+1], data[j]\n",
    "            flag = False\n",
    "    if flag:\n",
    "        print(f'{len(data)-1}회전을 해야하지만 {i+1}회전 후 중간 종료됨')\n",
    "        break\n",
    "    print(f'{i+1}회전 결과: {data}')\n",
    "# --------- for i => 정렬 종료\n",
    "print(f'정렬 결과: {data}')"
   ]
  },
  {
   "cell_type": "code",
   "execution_count": null,
   "id": "2cc37f6f",
   "metadata": {},
   "outputs": [],
   "source": []
  },
  {
   "cell_type": "code",
   "execution_count": null,
   "id": "e1202553",
   "metadata": {},
   "outputs": [],
   "source": []
  },
  {
   "cell_type": "code",
   "execution_count": null,
   "id": "f3c3064f",
   "metadata": {},
   "outputs": [],
   "source": []
  },
  {
   "cell_type": "code",
   "execution_count": null,
   "id": "a41bebff",
   "metadata": {},
   "outputs": [],
   "source": []
  },
  {
   "cell_type": "code",
   "execution_count": null,
   "id": "56c6c6c0",
   "metadata": {},
   "outputs": [],
   "source": []
  },
  {
   "cell_type": "code",
   "execution_count": null,
   "id": "97a951be",
   "metadata": {},
   "outputs": [],
   "source": []
  }
 ],
 "metadata": {
  "kernelspec": {
   "display_name": "Python 3",
   "language": "python",
   "name": "python3"
  },
  "language_info": {
   "codemirror_mode": {
    "name": "ipython",
    "version": 3
   },
   "file_extension": ".py",
   "mimetype": "text/x-python",
   "name": "python",
   "nbconvert_exporter": "python",
   "pygments_lexer": "ipython3",
   "version": "3.6.8"
  }
 },
 "nbformat": 4,
 "nbformat_minor": 5
}

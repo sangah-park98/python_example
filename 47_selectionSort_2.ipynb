{
 "cells": [
  {
   "cell_type": "code",
   "execution_count": 1,
   "id": "70eeb404",
   "metadata": {},
   "outputs": [],
   "source": [
    "from lib.selectionSort import *"
   ]
  },
  {
   "cell_type": "markdown",
   "id": "34f068a6",
   "metadata": {},
   "source": [
    "999가 입력될 때까지 데이터를 받아서 정렬한다."
   ]
  },
  {
   "cell_type": "code",
   "execution_count": 3,
   "id": "4ba9a5fc",
   "metadata": {},
   "outputs": [
    {
     "name": "stdout",
     "output_type": "stream",
     "text": [
      "정렬할 데이터 입력: 8\n",
      "정렬할 데이터 입력: 3\n",
      "정렬할 데이터 입력: 4\n",
      "정렬할 데이터 입력: 9\n",
      "정렬할 데이터 입력: 1\n",
      "정렬할 데이터 입력: 999\n",
      "입력한 데이터: [8, 3, 4, 9, 1]\n",
      "오름차순 정렬 결과: [1, 3, 4, 8, 9]\n"
     ]
    }
   ],
   "source": [
    "data = []\n",
    "while True:\n",
    "    n = int(input('정렬할 데이터 입력: '))\n",
    "    # 999가 입력되면 무한 루프를 탈출하고 데이터를 정렬한다.\n",
    "    if n == 999:\n",
    "        break\n",
    "    # ---- if\n",
    "    data.append(n)\n",
    "# ------- while\n",
    "print(f'입력한 데이터: {data}')\n",
    "\n",
    "result = selectionSortAsc(data)\n",
    "print(f'오름차순 정렬 결과: {result}')\n",
    "result = selectionSortDesc(data)\n",
    "print(f'내림차순 정렬 결과: {result}')"
   ]
  },
  {
   "cell_type": "code",
   "execution_count": 7,
   "id": "06a6dbb1",
   "metadata": {},
   "outputs": [
    {
     "name": "stdout",
     "output_type": "stream",
     "text": [
      "정렬할 데이터 입력: 8\n",
      "정렬할 데이터 입력: 3\n",
      "정렬할 데이터 입력: 4\n",
      "정렬할 데이터 입력: 9\n",
      "정렬할 데이터 입력: 1\n",
      "정렬할 데이터 입력: 999\n",
      "입력한 데이터: [8, 3, 4, 9, 1, 999]\n",
      "오름차순 정렬 결과: [1, 3, 4, 8, 9, 999]\n",
      "내림차순 정렬 결과: [9, 8, 4, 3, 1]\n",
      "입력한 데이터에서 마지막에 입력받은 데이터를 제거한 데이터: [1, 3, 4, 8, 9]\n",
      "오름차순 정렬 결과: [1, 3, 4, 8, 9]\n",
      "내림차순 정렬 결과: [9, 8, 4, 3, 1]\n"
     ]
    }
   ],
   "source": [
    "data = []\n",
    "n = 0\n",
    "while n != 999:\n",
    "    n = int(input('정렬할 데이터 입력: '))\n",
    "    data.append(n)\n",
    "# ---------- while\n",
    "print(f'입력한 데이터: {data}')\n",
    "\n",
    "result = selectionSortAsc(data)\n",
    "print(f'오름차순 정렬 결과: {result}')\n",
    "result = selectionSortDesc(data[:-1])\n",
    "print(f'내림차순 정렬 결과: {result}')\n",
    "\n",
    "# del data[len(data) - 1]\n",
    "# del data[-1]\n",
    "# data.remove\n",
    "data.pop()\n",
    "print(f'입력한 데이터에서 마지막에 입력받은 데이터를 제거한 데이터: {data}')\n",
    "\n",
    "# result = selectionSortAsc(data[:len(data) - 1])\n",
    "result = selectionSortAsc(data)\n",
    "print(f'오름차순 정렬 결과: {result}')\n",
    "result = selectionSortDesc(data)\n",
    "print(f'내림차순 정렬 결과: {result}')"
   ]
  },
  {
   "cell_type": "code",
   "execution_count": 8,
   "id": "3c270e85",
   "metadata": {},
   "outputs": [
    {
     "name": "stdout",
     "output_type": "stream",
     "text": [
      "1회전 결과: [1, 3, 4, 9, 8]\n",
      "2회전 결과: [1, 3, 4, 9, 8]\n",
      "3회전 결과: [1, 3, 4, 9, 8]\n",
      "4회전 결과: [1, 3, 4, 8, 9]\n",
      "정렬 결과: [1, 3, 4, 8, 9]\n"
     ]
    }
   ],
   "source": [
    "data = [8, 3, 4, 9, 1]\n",
    "for i in range(len(data) - 1):\n",
    "    min_index = i # 가장 작은 값이 저장된 인덱스\n",
    "    for j in range(i + 1, len(data)):\n",
    "        if data[min_index] > data[j]:\n",
    "            min_index = j # 가장 작은 값이 저장된 인덱스를 수정한다.\n",
    "        # ------- if\n",
    "    # ------- for j \n",
    "    data[i], data[min_index] = data[min_index], data[i]\n",
    "    print(f'{i+1}회전 결과: {data}')\n",
    "# ----------- for i\n",
    "print(f'정렬 결과: {data}')"
   ]
  },
  {
   "cell_type": "code",
   "execution_count": 10,
   "id": "d3de685c",
   "metadata": {},
   "outputs": [
    {
     "name": "stdout",
     "output_type": "stream",
     "text": [
      "선택 정렬 성능 측정 결과 : 3.3454596996307373\n"
     ]
    }
   ],
   "source": [
    "from random import randint\n",
    "import time\n",
    "\n",
    "# 리스트에 10,000개의 정수를 넣는다.\n",
    "data = []\n",
    "for i in range(10000):\n",
    "    data.append(randint(1, 100)) # 1부터 100 사이의 랜덤한 정수를 발생시킨다.\n",
    "    \n",
    "# 선택 정렬 프로그램 성능 측정\n",
    "start = time.time() # 측정 시작\n",
    "\n",
    "for i in range(len(data) - 1):\n",
    "    min_index = i # 가장 작은 값이 저장된 인덱스\n",
    "    for j in range(i + 1, len(data)):\n",
    "        if data[min_index] > data[j]:\n",
    "            min_index = j # 가장 작은 값이 저장된 인덱스를 수정한다.\n",
    "        # ------- if\n",
    "    # ------- for j \n",
    "    data[i], data[min_index] = data[min_index], data[i]\n",
    "# ----------- for i\n",
    "# print(f'정렬 결과: {data}')\n",
    "\n",
    "end = time.time() # 측정 종료\n",
    "data.sort()\n",
    "end = time.time()\n",
    "print(f'선택 정렬 성능 측정 결과 : {end - start}')"
   ]
  },
  {
   "cell_type": "code",
   "execution_count": null,
   "id": "85c31d06",
   "metadata": {},
   "outputs": [],
   "source": []
  },
  {
   "cell_type": "code",
   "execution_count": null,
   "id": "aa9377a0",
   "metadata": {},
   "outputs": [],
   "source": []
  },
  {
   "cell_type": "code",
   "execution_count": null,
   "id": "fffdb4e8",
   "metadata": {},
   "outputs": [],
   "source": []
  },
  {
   "cell_type": "code",
   "execution_count": null,
   "id": "63cdf630",
   "metadata": {},
   "outputs": [],
   "source": []
  },
  {
   "cell_type": "code",
   "execution_count": null,
   "id": "199c438c",
   "metadata": {},
   "outputs": [],
   "source": []
  },
  {
   "cell_type": "code",
   "execution_count": null,
   "id": "ff19c0cd",
   "metadata": {},
   "outputs": [],
   "source": []
  },
  {
   "cell_type": "code",
   "execution_count": null,
   "id": "285ee1bb",
   "metadata": {},
   "outputs": [],
   "source": []
  },
  {
   "cell_type": "code",
   "execution_count": null,
   "id": "42c1944f",
   "metadata": {},
   "outputs": [],
   "source": []
  }
 ],
 "metadata": {
  "kernelspec": {
   "display_name": "Python 3",
   "language": "python",
   "name": "python3"
  },
  "language_info": {
   "codemirror_mode": {
    "name": "ipython",
    "version": 3
   },
   "file_extension": ".py",
   "mimetype": "text/x-python",
   "name": "python",
   "nbconvert_exporter": "python",
   "pygments_lexer": "ipython3",
   "version": "3.6.8"
  }
 },
 "nbformat": 4,
 "nbformat_minor": 5
}

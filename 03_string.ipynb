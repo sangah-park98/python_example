{
 "cells": [
  {
   "cell_type": "code",
   "execution_count": 3,
   "id": "d5191c31",
   "metadata": {},
   "outputs": [
    {
     "name": "stdout",
     "output_type": "stream",
     "text": [
      "Hello World\n",
      "Hello World\n"
     ]
    }
   ],
   "source": [
    "# 큰따옴표나 작은따옴표로 묶어주면 문자열 데이터로 취급된다.\n",
    "memo = 'Hello World'\n",
    "print(memo)\n",
    "memo = \"Hello World\"\n",
    "print(memo)"
   ]
  },
  {
   "cell_type": "code",
   "execution_count": 7,
   "id": "0e900464",
   "metadata": {},
   "outputs": [
    {
     "name": "stdout",
     "output_type": "stream",
     "text": [
      "개울가에\n",
      "올챙이 한 마리\n",
      "꼬물꼬물 헤엄치다\n"
     ]
    }
   ],
   "source": [
    "# 큰따옴표 3개를 연속해서 사용하면 개행문자(\\n)를 사용하지 않고 여러줄 문자열을 만들 수 있다.\n",
    "memo = \"\"\"개울가에\n",
    "올챙이 한 마리\n",
    "꼬물꼬물 헤엄치다\"\"\"\n",
    "print(memo)"
   ]
  },
  {
   "cell_type": "markdown",
   "id": "bf3df394",
   "metadata": {},
   "source": [
    "인덱싱과 슬라이싱  \n",
    "\n",
    "인덱스는 0부터 시작된다.  \n",
    "인덱싱: 문자열에서 특정 인덱스의 문자 1개를 얻어온다. => []에 인덱스를 지정하면 된다. => charAt()  \n",
    "슬라이싱: 문자열에서 지정된 범위의 문자열을 얻어온다. => [시작인덱스:끝인덱스] 형태로 범위를 지정하면 된다. =>substring()  \n",
    "    \n"
   ]
  },
  {
   "cell_type": "code",
   "execution_count": 18,
   "id": "72b2e991",
   "metadata": {},
   "outputs": [
    {
     "name": "stdout",
     "output_type": "stream",
     "text": [
      "We are the champions, My Friends!\n",
      "W\n",
      "c\n",
      "!\n",
      "33\n",
      "!\n",
      "!\n",
      "s\n"
     ]
    }
   ],
   "source": [
    "# 인덱싱\n",
    "string = 'We are the champions, My Friends!'\n",
    "print(string)\n",
    "print(string[0])\n",
    "print(string[11])\n",
    "print(string[32])\n",
    "# len()함수로 문자열을 구성하는 문자의 개수를 얻어올 수 있다. => length()\n",
    "print(len(string))\n",
    "print(string[len(string) - 1])\n",
    "# 파이썬은 음수 인덱싱이 가능하다. => 인덱스를 지정할 때 '-'를 붙이면 맨 뒤부터 인덱싱 할 수 있다.\n",
    "print(string[-1])\n",
    "print(string[-2])"
   ]
  },
  {
   "cell_type": "code",
   "execution_count": 26,
   "id": "79dbe7e4",
   "metadata": {},
   "outputs": [
    {
     "name": "stdout",
     "output_type": "stream",
     "text": [
      "We are the champions, My Friends!\n",
      "We\n",
      "champions\n",
      "We are the champions\n",
      "We are the champions\n",
      "My Friends!\n",
      "My Friends\n",
      "!sdneirF yM ,snoipmahc eht era eW\n",
      "We are the champions, My Friends\n"
     ]
    }
   ],
   "source": [
    "# 슬라이싱\n",
    "string = 'We are the champions, My Friends!'\n",
    "print(string)\n",
    "# 슬라이싱 범위는 [시작인덱스: 끝인덱스] 형태로 지정하며 시작인덱스부터 끝인덱스 -1번째 문자까지 얻어온다.\n",
    "print(string[0:2])\n",
    "print(string[11:20])\n",
    "# 시작 인덱스를 생략하면 처음부터 슬라이싱하고 끝 인덱스를 생략하면 마지막까지 슬라이싱한다.\n",
    "print(string[0:20])\n",
    "print(string[:20])\n",
    "print(string[22:])\n",
    "\n",
    "# 슬라이싱은 왼쪽에서 오른쪽으로 실행되므로 시작 인덱스가 끝 인덱스보다 크면 안된다.\n",
    "print(string[22:-1])\n",
    "print(string[::-1])\n",
    "print(string[:-1])"
   ]
  },
  {
   "cell_type": "code",
   "execution_count": 30,
   "id": "eaf056b0",
   "metadata": {},
   "outputs": [
    {
     "name": "stdout",
     "output_type": "stream",
     "text": [
      "0123456\n",
      "0123456\n",
      "0246\n",
      "135\n",
      "6543210\n"
     ]
    }
   ],
   "source": [
    "string = '0123456'\n",
    "print(string[:])\n",
    "# [시작인덱스:끝인덱스:증가치] 형태로 사용하면 시작 인덱스부터 끝 인덱스 -1까지 증가치만큼 건너뛰며 슬라이싱을 한다.\n",
    "# 증가치는 생략하면 1이 기본값으로 사용된다.\n",
    "print(string[::1])\n",
    "print(string[::2]) # 짝수 인덱싱\n",
    "print(string[1::2]) # 홀수 인덱싱\n",
    "print(string[::-1]) # 문자열이 뒤집힌다."
   ]
  },
  {
   "cell_type": "code",
   "execution_count": null,
   "id": "cc4292b6",
   "metadata": {},
   "outputs": [],
   "source": []
  },
  {
   "cell_type": "code",
   "execution_count": null,
   "id": "5fa3d877",
   "metadata": {},
   "outputs": [],
   "source": []
  },
  {
   "cell_type": "code",
   "execution_count": null,
   "id": "4a3397bc",
   "metadata": {},
   "outputs": [],
   "source": []
  },
  {
   "cell_type": "code",
   "execution_count": null,
   "id": "f5fcf014",
   "metadata": {},
   "outputs": [],
   "source": []
  },
  {
   "cell_type": "code",
   "execution_count": null,
   "id": "4366a720",
   "metadata": {},
   "outputs": [],
   "source": []
  },
  {
   "cell_type": "code",
   "execution_count": null,
   "id": "8adb861e",
   "metadata": {},
   "outputs": [],
   "source": []
  },
  {
   "cell_type": "code",
   "execution_count": null,
   "id": "032c511c",
   "metadata": {},
   "outputs": [],
   "source": []
  },
  {
   "cell_type": "code",
   "execution_count": null,
   "id": "64ee3759",
   "metadata": {},
   "outputs": [],
   "source": []
  }
 ],
 "metadata": {
  "kernelspec": {
   "display_name": "Python 3",
   "language": "python",
   "name": "python3"
  },
  "language_info": {
   "codemirror_mode": {
    "name": "ipython",
    "version": 3
   },
   "file_extension": ".py",
   "mimetype": "text/x-python",
   "name": "python",
   "nbconvert_exporter": "python",
   "pygments_lexer": "ipython3",
   "version": "3.6.8"
  }
 },
 "nbformat": 4,
 "nbformat_minor": 5
}

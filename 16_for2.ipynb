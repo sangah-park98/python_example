{
 "cells": [
  {
   "cell_type": "markdown",
   "id": "3fd8e046",
   "metadata": {},
   "source": [
    "리스트와 함께 사용하는 for"
   ]
  },
  {
   "cell_type": "code",
   "execution_count": 6,
   "id": "a301a2c0",
   "metadata": {},
   "outputs": [
    {
     "name": "stdout",
     "output_type": "stream",
     "text": [
      "['Life', 'is', 'too', 'Good']\n",
      "--------------------------------------------------------------------------------\n",
      "Life\n",
      "is\n",
      "too\n",
      "Good\n",
      "--------------------------------------------------------------------------------\n",
      "Life\n",
      "is\n",
      "too\n",
      "Good\n",
      "--------------------------------------------------------------------------------\n",
      "is\n",
      "too\n"
     ]
    }
   ],
   "source": [
    "a = ['Life', 'is', 'too', 'Good']\n",
    "print(a)\n",
    "print('-' * 80)\n",
    "\n",
    "for i in a:\n",
    "    print(i)\n",
    "    \n",
    "print('-' * 80)   \n",
    "\n",
    "for i in range(len(a)):\n",
    "    print(a[i])\n",
    "    \n",
    "print('-' * 80)\n",
    "\n",
    "for i in a[1:3]:\n",
    "    print(i)"
   ]
  },
  {
   "cell_type": "markdown",
   "id": "8872e23b",
   "metadata": {},
   "source": [
    "튜플과 함께 사용하는 for"
   ]
  },
  {
   "cell_type": "code",
   "execution_count": 8,
   "id": "e7b6ff72",
   "metadata": {
    "scrolled": true
   },
   "outputs": [
    {
     "name": "stdout",
     "output_type": "stream",
     "text": [
      "('Life', 'is', 'too', 'Good')\n",
      "--------------------------------------------------------------------------------\n",
      "Life\n",
      "is\n",
      "too\n",
      "Good\n",
      "--------------------------------------------------------------------------------\n",
      "Life\n",
      "is\n",
      "too\n",
      "Good\n",
      "--------------------------------------------------------------------------------\n",
      "is\n",
      "too\n"
     ]
    }
   ],
   "source": [
    "a = 'Life', 'is', 'too', 'Good'\n",
    "print(a)\n",
    "print('-' * 80)\n",
    "\n",
    "for i in a:\n",
    "    print(i)\n",
    "    \n",
    "print('-' * 80)   \n",
    "\n",
    "for i in range(len(a)):\n",
    "    print(a[i])\n",
    "    \n",
    "print('-' * 80)\n",
    "\n",
    "for i in a[1:3]:\n",
    "    print(i)"
   ]
  },
  {
   "cell_type": "code",
   "execution_count": null,
   "id": "0fe6ef50",
   "metadata": {},
   "outputs": [],
   "source": [
    "set과 함께 사용하는 for"
   ]
  },
  {
   "cell_type": "code",
   "execution_count": 13,
   "id": "d4178d1e",
   "metadata": {
    "scrolled": true
   },
   "outputs": [
    {
     "name": "stdout",
     "output_type": "stream",
     "text": [
      "{'Life', 'too', 'is', 'Good'}\n",
      "--------------------------------------------------------------------------------\n",
      "Life\n",
      "too\n",
      "is\n",
      "Good\n",
      "--------------------------------------------------------------------------------\n"
     ]
    }
   ],
   "source": [
    "a = {'Life', 'is', 'too', 'Good'}\n",
    "print(a)\n",
    "print('-' * 80)\n",
    "\n",
    "for i in a:\n",
    "    print(i)\n",
    "    \n",
    "print('-' * 80)   \n",
    "'''\n",
    "for i in range(len(a)):\n",
    "    print(a[i]) # set은 입력되는 순서와 저장되는 순서가 달라서 인덱싱을 사용할 수 없으므로 에러가 발생한다.\n",
    "print('-' * 80)\n",
    "\n",
    "for i in a[1:3]: # set은 입력되는 순서와 저장되는 순서가 달라서 슬라이싱을 사용할 수 없으므로 에러가 발생한다.\n",
    "    print(i)\n",
    "'''\n",
    "pass"
   ]
  },
  {
   "cell_type": "markdown",
   "id": "b1df4533",
   "metadata": {},
   "source": [
    "딕셔너리와 함께 사용하는 for"
   ]
  },
  {
   "cell_type": "code",
   "execution_count": 17,
   "id": "47d7804c",
   "metadata": {},
   "outputs": [
    {
     "name": "stdout",
     "output_type": "stream",
     "text": [
      "{'apple': 1000, 'banana': 3500, 'melon': 10000, 'mango': 5000}\n",
      "dict_keys(['apple', 'banana', 'melon', 'mango'])\n",
      "dict_values([1000, 3500, 10000, 5000])\n",
      "dict_items([('apple', 1000), ('banana', 3500), ('melon', 10000), ('mango', 5000)])\n"
     ]
    }
   ],
   "source": [
    "a = {'apple': 1000, 'banana': 3500, 'melon': 10000, 'mango': 5000}\n",
    "print(a)\n",
    "print(a.keys())\n",
    "print(a.values())\n",
    "print(a.items())"
   ]
  },
  {
   "cell_type": "code",
   "execution_count": 27,
   "id": "d7e71a74",
   "metadata": {},
   "outputs": [
    {
     "name": "stdout",
     "output_type": "stream",
     "text": [
      "apple\n",
      "banana\n",
      "melon\n",
      "mango\n",
      "--------------------------------------------------------------------------------\n",
      "apple\n",
      "banana\n",
      "melon\n",
      "mango\n",
      "--------------------------------------------------------------------------------\n",
      "1000\n",
      "3500\n",
      "10000\n",
      "5000\n",
      "--------------------------------------------------------------------------------\n",
      "('apple', 1000)\n",
      "('banana', 3500)\n",
      "('melon', 10000)\n",
      "('mango', 5000)\n",
      "--------------------------------------------------------------------------------\n"
     ]
    }
   ],
   "source": [
    "for key in a: # 딕셔너리 이름만 쓰면 딕셔너리이름.keys()와 같은 의미로 사용된다.\n",
    "    print(key)\n",
    "print('-' * 80)\n",
    "\n",
    "for key in a.keys():\n",
    "    print(key)\n",
    "print('-' * 80)\n",
    "\n",
    "for value in a.values():\n",
    "    print(value)\n",
    "print('-' * 80)\n",
    "\n",
    "for item in a.items():\n",
    "    print(item)\n",
    "print('-' * 80)"
   ]
  },
  {
   "cell_type": "code",
   "execution_count": 29,
   "id": "c53eb759",
   "metadata": {},
   "outputs": [
    {
     "name": "stdout",
     "output_type": "stream",
     "text": [
      "1000\n",
      "3500\n",
      "10000\n",
      "5000\n",
      "--------------------------------------------------------------------------------\n",
      "1000\n",
      "3500\n",
      "10000\n",
      "5000\n"
     ]
    }
   ],
   "source": [
    "# key 값을 이용해서 value 얻어오기\n",
    "for key in a.keys():\n",
    "    print(a[key]) # 딕셔너리이름[key]\n",
    "print('-' * 80) \n",
    "\n",
    "for key in a.keys():\n",
    "    print(a.get(key)) # 딕셔너리이름.get(key)"
   ]
  },
  {
   "cell_type": "code",
   "execution_count": 33,
   "id": "09af4e2f",
   "metadata": {},
   "outputs": [
    {
     "name": "stdout",
     "output_type": "stream",
     "text": [
      "('apple', 1000)\n",
      "('banana', 3500)\n",
      "('melon', 10000)\n",
      "('mango', 5000)\n",
      "--------------------------------------------------------------------------------\n",
      "apple은(는) 1,000원 입니다.\n",
      "banana은(는) 3,500원 입니다.\n",
      "melon은(는) 10,000원 입니다.\n",
      "mango은(는) 5,000원 입니다.\n"
     ]
    }
   ],
   "source": [
    "# item 값을 이용해서 key, value 얻어오기\n",
    "for item in a.items():\n",
    "    print(item)\n",
    "print('-' * 80) \n",
    "\n",
    "for key, value in a.items():\n",
    "    print('{}은(는) {:,}원 입니다.'.format(key, value))"
   ]
  },
  {
   "cell_type": "markdown",
   "id": "30fa92a2",
   "metadata": {},
   "source": [
    "enumerate() 함수는 인수로 지정된 리스트, 튜플, 딕셔너리, set의 index와 value를 리턴한다."
   ]
  },
  {
   "cell_type": "code",
   "execution_count": 39,
   "id": "bbf41677",
   "metadata": {
    "scrolled": true
   },
   "outputs": [
    {
     "name": "stdout",
     "output_type": "stream",
     "text": [
      "0 ('apple', 1000)\n",
      "1 ('banana', 3500)\n",
      "2 ('melon', 10000)\n",
      "3 ('mango', 5000)\n"
     ]
    }
   ],
   "source": [
    "for index, data in enumerate(a.items()):\n",
    "    print(index, data)"
   ]
  },
  {
   "cell_type": "markdown",
   "id": "08076497",
   "metadata": {},
   "source": [
    "zip() 함수는 서로 다른 데이터가 저장된 객체를 반복 가능한 형태로 묶어준다."
   ]
  },
  {
   "cell_type": "code",
   "execution_count": 41,
   "id": "464281b3",
   "metadata": {},
   "outputs": [
    {
     "name": "stdout",
     "output_type": "stream",
     "text": [
      "1 java\n",
      "2 jsp\n",
      "3 python\n"
     ]
    }
   ],
   "source": [
    "a = [1, 2, 3]\n",
    "b = ['java', 'jsp', 'python']\n",
    "for index, data in zip(a, b):\n",
    "    print(index, data)"
   ]
  },
  {
   "cell_type": "code",
   "execution_count": 44,
   "id": "3f928db2",
   "metadata": {},
   "outputs": [
    {
     "name": "stdout",
     "output_type": "stream",
     "text": [
      "[191, 182, 173]\n",
      "[191, 182, 173]\n"
     ]
    }
   ],
   "source": [
    "java = [100, 100, 100]\n",
    "jsp = [90, 80, 70]\n",
    "python = [1, 2, 3]\n",
    "\n",
    "total = []\n",
    "for i in range(len(java)):\n",
    "    total.append(java[i] + jsp[i] + python[i])\n",
    "print(total)\n",
    "    \n",
    "total = []\n",
    "for java, jsp, python in zip(java, jsp, python):\n",
    "    total.append(java + jsp + python)\n",
    "print(total)"
   ]
  },
  {
   "cell_type": "code",
   "execution_count": null,
   "id": "4e8cd627",
   "metadata": {},
   "outputs": [],
   "source": []
  },
  {
   "cell_type": "code",
   "execution_count": null,
   "id": "d6e932ee",
   "metadata": {},
   "outputs": [],
   "source": []
  },
  {
   "cell_type": "code",
   "execution_count": null,
   "id": "e52edec3",
   "metadata": {},
   "outputs": [],
   "source": []
  },
  {
   "cell_type": "code",
   "execution_count": null,
   "id": "7e9c7827",
   "metadata": {},
   "outputs": [],
   "source": []
  },
  {
   "cell_type": "code",
   "execution_count": null,
   "id": "03c30d11",
   "metadata": {},
   "outputs": [],
   "source": []
  },
  {
   "cell_type": "code",
   "execution_count": null,
   "id": "61504c3b",
   "metadata": {},
   "outputs": [],
   "source": []
  },
  {
   "cell_type": "code",
   "execution_count": null,
   "id": "9fd70d99",
   "metadata": {},
   "outputs": [],
   "source": []
  },
  {
   "cell_type": "code",
   "execution_count": null,
   "id": "8f17c6d4",
   "metadata": {},
   "outputs": [],
   "source": []
  },
  {
   "cell_type": "code",
   "execution_count": null,
   "id": "f091ae39",
   "metadata": {},
   "outputs": [],
   "source": []
  },
  {
   "cell_type": "code",
   "execution_count": null,
   "id": "08e66dce",
   "metadata": {},
   "outputs": [],
   "source": []
  },
  {
   "cell_type": "code",
   "execution_count": null,
   "id": "9e90ee34",
   "metadata": {},
   "outputs": [],
   "source": []
  },
  {
   "cell_type": "code",
   "execution_count": null,
   "id": "25a292c2",
   "metadata": {},
   "outputs": [],
   "source": []
  },
  {
   "cell_type": "code",
   "execution_count": null,
   "id": "b33cd9ef",
   "metadata": {},
   "outputs": [],
   "source": []
  }
 ],
 "metadata": {
  "kernelspec": {
   "display_name": "Python 3",
   "language": "python",
   "name": "python3"
  },
  "language_info": {
   "codemirror_mode": {
    "name": "ipython",
    "version": 3
   },
   "file_extension": ".py",
   "mimetype": "text/x-python",
   "name": "python",
   "nbconvert_exporter": "python",
   "pygments_lexer": "ipython3",
   "version": "3.6.8"
  }
 },
 "nbformat": 4,
 "nbformat_minor": 5
}

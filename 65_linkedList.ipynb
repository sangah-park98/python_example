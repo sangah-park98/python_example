{
 "cells": [
  {
   "cell_type": "code",
   "execution_count": 1,
   "id": "3d18285b",
   "metadata": {},
   "outputs": [],
   "source": [
    "# linkedList에 저장할 데이터 1건과 다음 데이터의 주소를 기억하는 클래스 => 노드\n",
    "class Node:\n",
    "    def __init__(self, data=None):\n",
    "        self.data = data # 실제 데이터\n",
    "        self.next = None # 다음 데이터가 저장된 위치(주소)\n",
    "        "
   ]
  },
  {
   "cell_type": "code",
   "execution_count": 8,
   "id": "f12976e3",
   "metadata": {},
   "outputs": [],
   "source": [
    "# linkedList 자체를 의미하는 클래스\n",
    "class LinkedList:\n",
    "    def __init__(self):\n",
    "        self.head = None # linkedList의 시작 위치\n",
    "        self.count = 0 # linkedList에 저장된 데이터의 개수\n",
    "        \n",
    "    # linkedList에 데이터를 입력하는 경우는 모두 3가지가 있다.\n",
    "    # 1. linkedList의 맨 뒤에 데이터를 추가하는 경우\n",
    "        # 1-1. linkedList가 비어있는 경우\n",
    "        # 1-2. linkedList가 비어있지 않은 경우\n",
    "    # 2. linkedList의 맨 앞(head 바로 다음)에 데이터를 삽입하는 경우\n",
    "    # 3. linkedList의 특정 위치(맨 앞과 맨 뒤를 제외한 나머지 위치)에 데이터를 삽입하는 경우\n",
    "    \n",
    "    # linkedList의 맨 뒤에 데이터를 추가하는 메소드\n",
    "    def appendLast(self, data):\n",
    "        # linkedList의 맨 뒤에 추가할 데이터를 넘겨받아 Node 클래스 객체(linkedList에 저장할 데이터)를 만든다.\n",
    "        newNode = Node(data)\n",
    "        # print(newNode)\n",
    "        self.count += 1 # linkedList에 저장된 데이터의 개수를 증가시킨다.\n",
    "        \n",
    "        # linkedList가 비어있는 경우와 비어있지 않은 경우에 따라 linkedList의 데이터를 추가하는 방법이 다르다.\n",
    "        # linkedList가 비어있나 물어봐서 비어있으면 head 바로 다음에 데이터를 추가하고 함수를 종료한다.\n",
    "        if self.head is None: # linkedList가 비어있는가?\n",
    "            # linkedList가 비어 있으므로 head 바로 다음에 데이터를 넣어준다. => head에 newNode가 메모리에 생성된 주소를 넣어준다.\n",
    "            self.head = newNode\n",
    "            # 데이터를 head 바로 다음에 추가했으므로 함수를 return 시켜 종료한다.\n",
    "            return \n",
    "        # ----- if\n",
    "        \n",
    "        # linkedList가 비어있지 않다면 linkedList에 이미 데이터가 있는거니까 linkedList의 마지막 위치를 찾아내서 이동한 후 데이터를 추가한다.\n",
    "        # linkedList의 시작 위치는 항상 self.head다. => 시작 위치를 저장한다.\n",
    "        start = self.head\n",
    "        # start(self.head)부터 시작해서 linkedList에 저장된 마지막 데이터로 이동한다. => 마지막 데이터는 next에 None이 들어있다.\n",
    "        # start.data는 현재 데이터를 의미하고 start.next는 다음 데이터가 저장된 주소를 의미한다.\n",
    "        # start.next에 저장된 값이 None이 아니면 True, None이면 False가 된다.\n",
    "        while start.next: # linkedList에 저장된 다음 데이터가 있는가?\n",
    "            start = start.next # 다음 데이터로 접근한다.\n",
    "        # ----- while\n",
    "        # 더 이상 다음 데이터가 없으면 현재 데이터가 마지막 데이터이므로 현재 데이터 다음에 새 데이터를 추가한다.\n",
    "        start.next = newNode\n",
    "    # ------- appendLast()\n",
    "        "
   ]
  },
  {
   "cell_type": "code",
   "execution_count": 9,
   "id": "5e659e5e",
   "metadata": {},
   "outputs": [
    {
     "name": "stdout",
     "output_type": "stream",
     "text": [
      "linkedList를 만든다.\n",
      "linkedList의 맨 뒤(head 다음)에 데이터를 추가한다.\n",
      "linkedList의 맨 뒤에 데이터를 추가한다.\n"
     ]
    }
   ],
   "source": [
    "print('linkedList를 만든다.')\n",
    "linkedList = LinkedList() # linkedList를 막 만들었으므로 비어있는 리스트이다.\n",
    "\n",
    "print('linkedList의 맨 뒤(head 다음)에 데이터를 추가한다.') # 1-1\n",
    "linkedList.appendLast('홍길동')\n",
    "\n",
    "print('linkedList의 맨 뒤에 데이터를 추가한다.') # 1-2\n",
    "linkedList.appendLast('임꺽정')\n",
    "\n"
   ]
  },
  {
   "cell_type": "code",
   "execution_count": null,
   "id": "42a9b652",
   "metadata": {},
   "outputs": [],
   "source": []
  },
  {
   "cell_type": "code",
   "execution_count": null,
   "id": "0c797ed5",
   "metadata": {},
   "outputs": [],
   "source": []
  },
  {
   "cell_type": "code",
   "execution_count": null,
   "id": "79c039ec",
   "metadata": {},
   "outputs": [],
   "source": []
  },
  {
   "cell_type": "code",
   "execution_count": null,
   "id": "95a901e8",
   "metadata": {},
   "outputs": [],
   "source": []
  },
  {
   "cell_type": "code",
   "execution_count": null,
   "id": "a7920082",
   "metadata": {},
   "outputs": [],
   "source": []
  },
  {
   "cell_type": "code",
   "execution_count": null,
   "id": "55049dc1",
   "metadata": {},
   "outputs": [],
   "source": []
  },
  {
   "cell_type": "code",
   "execution_count": null,
   "id": "47a46f79",
   "metadata": {},
   "outputs": [],
   "source": []
  },
  {
   "cell_type": "code",
   "execution_count": null,
   "id": "7016afed",
   "metadata": {},
   "outputs": [],
   "source": []
  },
  {
   "cell_type": "code",
   "execution_count": null,
   "id": "7ab89721",
   "metadata": {},
   "outputs": [],
   "source": []
  },
  {
   "cell_type": "code",
   "execution_count": null,
   "id": "f0d3c54e",
   "metadata": {},
   "outputs": [],
   "source": []
  }
 ],
 "metadata": {
  "kernelspec": {
   "display_name": "Python 3",
   "language": "python",
   "name": "python3"
  },
  "language_info": {
   "codemirror_mode": {
    "name": "ipython",
    "version": 3
   },
   "file_extension": ".py",
   "mimetype": "text/x-python",
   "name": "python",
   "nbconvert_exporter": "python",
   "pygments_lexer": "ipython3",
   "version": "3.6.8"
  }
 },
 "nbformat": 4,
 "nbformat_minor": 5
}

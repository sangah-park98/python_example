{
 "cells": [
  {
   "cell_type": "markdown",
   "id": "79b8ed4d",
   "metadata": {},
   "source": [
    "range() 함수\n",
    "\n",
    "range() 함수는 지정한 초기치, 최종치, 증가치에 따른 숫자 리스트를 만든다.\n",
    "range() 함수는 초기치부터 증가치만큼씩 증가하며 최종치를 넘어가지 않는 숫자 리스트를 만든다.  \n",
    "***\n",
    "형식\n",
    "range([초기치, ]최종치[, 증가치])  \n",
    "초기치와 증가치는 생략할 수 있고 초기치가 생략되면 0이 증가치가 생략되면 1이 기본값으로 사용된다.  \n",
    "즉, range(0, 10, 1)과 range(10)은 같은 표현이다."
   ]
  },
  {
   "cell_type": "code",
   "execution_count": 5,
   "id": "8f795296",
   "metadata": {},
   "outputs": [
    {
     "name": "stdout",
     "output_type": "stream",
     "text": [
      "range(0, 10)\n",
      "[0, 1, 2, 3, 4, 5, 6, 7, 8, 9]\n",
      "[0, 1, 2, 3, 4, 5, 6, 7, 8, 9]\n",
      "[0, 2, 4, 6, 8]\n",
      "[9, 8, 7, 6, 5, 4, 3, 2, 1, 0]\n"
     ]
    }
   ],
   "source": [
    "print(range(0, 10, 1)) \n",
    "# range() 함수가 실행된 결과(리스트)는 list() 생성자 함수를 사용해서 확인한다.\n",
    "print(list(range(0, 10, 1)))\n",
    "print(list(range(10)))\n",
    "print(list(range(0, 10, 2)))\n",
    "print(list(range(9, -1, -1)))"
   ]
  },
  {
   "cell_type": "markdown",
   "id": "3cf80cdc",
   "metadata": {},
   "source": [
    "for  \n",
    "\n",
    "제어 변수에 리스트, 튜플, 딕셔너리, set에 저장된 데이터가 처음부터 마지막까지 차례대로 대입되며 반복한다.  \n",
    "***\n",
    "for 변수 in 리스트 or 튜플 or 딕셔너리 or set:  \n",
    "&nbsp;&nbsp;&nbsp;&nbsp;반복할 문장  \n",
    "&nbsp;&nbsp;&nbsp;&nbsp;\n",
    "..."
   ]
  },
  {
   "cell_type": "code",
   "execution_count": 9,
   "id": "6e0a30cc",
   "metadata": {},
   "outputs": [
    {
     "name": "stdout",
     "output_type": "stream",
     "text": [
      "0\n",
      "1\n",
      "2\n",
      "3\n",
      "4\n"
     ]
    }
   ],
   "source": [
    "# print(list(range(5)))\n",
    "# for i in [0, 1, 2, 3, 4]:\n",
    "for i in range(5):\n",
    "    print(i)"
   ]
  },
  {
   "cell_type": "code",
   "execution_count": 10,
   "id": "9130dbf2",
   "metadata": {},
   "outputs": [
    {
     "name": "stdout",
     "output_type": "stream",
     "text": [
      "55\n"
     ]
    }
   ],
   "source": [
    "# 1 ~ 10의 합계 - while 사용\n",
    "i = 0\n",
    "sum = 0\n",
    "while i < 10:\n",
    "    i += 1\n",
    "    sum += i\n",
    "# --------while\n",
    "print(sum)"
   ]
  },
  {
   "cell_type": "code",
   "execution_count": 15,
   "id": "2d69645d",
   "metadata": {},
   "outputs": [
    {
     "name": "stdout",
     "output_type": "stream",
     "text": [
      "55\n"
     ]
    }
   ],
   "source": [
    "# 1 ~ 10의 합계 - for 사용\n",
    "sum = 0\n",
    "for i in range(1, 11, 1):\n",
    "   # print(i)\n",
    "    sum += i\n",
    "# -------for\n",
    "print(sum)"
   ]
  },
  {
   "cell_type": "markdown",
   "id": "b145e6b4",
   "metadata": {},
   "source": [
    "주사위를 10번 굴려서 출현한 눈의 개수를 센다. => 변수 사용"
   ]
  },
  {
   "cell_type": "code",
   "execution_count": 16,
   "id": "dcdcdd30",
   "metadata": {},
   "outputs": [],
   "source": [
    "import random "
   ]
  },
  {
   "cell_type": "code",
   "execution_count": 22,
   "id": "871a4807",
   "metadata": {},
   "outputs": [
    {
     "name": "stdout",
     "output_type": "stream",
     "text": [
      "3\n",
      "5\n",
      "1\n",
      "6\n",
      "3\n",
      "6\n",
      "6\n",
      "5\n",
      "1\n",
      "1\n",
      "\n",
      "--------------------------------------------------------------------------------\n",
      "1의 개수: 3\n",
      "2의 개수: 0\n",
      "3의 개수: 2\n",
      "4의 개수: 0\n",
      "5의 개수: 2\n",
      "6의 개수: 3\n"
     ]
    }
   ],
   "source": [
    "# 1부터 6 사이의 주사위 눈의 개수를 기억할 변수 6개를 선언하고 각각 0으로 초기화시킨다.\n",
    "num1 = 0; num2 = 0; num3 = 0; num4 = 0; num5 = 0; num6 = 0\n",
    "# 주사위를 10번 굴린다.\n",
    "for i in range(10):\n",
    "    dice = random.randint(1, 6);\n",
    "    print(dice, end=' ')\n",
    "    # 주사위를 굴려 발생한 눈의 개수를 증가시킨다.\n",
    "    if dice == 1:\n",
    "        num1 += 1\n",
    "    elif dice == 2:\n",
    "        num2 += 1\n",
    "    elif dice == 3:\n",
    "        num3 += 1   \n",
    "    elif dice == 4:\n",
    "        num4 += 1\n",
    "    elif dice == 5:\n",
    "        num5 += 1\n",
    "    else:\n",
    "        num6+= 1\n",
    "    # ------- if\n",
    "# -----------for\n",
    "print('\\n' + '-' * 80)\n",
    "\n",
    "\n",
    "# 주사위의 눈의 개수를 출력한다.\n",
    "print('1의 개수: {}'.format(num1))\n",
    "print('2의 개수: {}'.format(num2))\n",
    "print('3의 개수: {}'.format(num3))\n",
    "print('4의 개수: {}'.format(num4))\n",
    "print('5의 개수: {}'.format(num5))\n",
    "print('6의 개수: {}'.format(num6))"
   ]
  },
  {
   "cell_type": "code",
   "execution_count": null,
   "id": "362eb78b",
   "metadata": {},
   "outputs": [],
   "source": [
    "주사위를 10번 굴려서 출현한 눈의 개수를 센다. => 리스트 사용"
   ]
  },
  {
   "cell_type": "code",
   "execution_count": 34,
   "id": "afff739b",
   "metadata": {},
   "outputs": [
    {
     "name": "stdout",
     "output_type": "stream",
     "text": [
      "3 5 5 4 3 3 2 1 4 2 \n",
      "--------------------------------------------------------------------------------\n",
      "1의 개수: 1\n",
      "2의 개수: 2\n",
      "3의 개수: 3\n",
      "4의 개수: 2\n",
      "5의 개수: 2\n",
      "6의 개수: 0\n"
     ]
    }
   ],
   "source": [
    "# 1. 주사위 눈의 개수를 기억할 크기가 6인 0으로 초기화된 리스트를 만든다.\n",
    "# count = [0, 0, 0, 0, 0, 0]\n",
    "# count = [0] * 45\n",
    "# 2. 빈 리스트를 선언하고 append() 메소드로 0을 넣어준다.\n",
    "# count = []\n",
    "# for i in range(6):\n",
    "   # count.append(0)\n",
    "\n",
    "# 3. 반복문을 사용해서 리스트를 만든다. => 리스트 컴프리핸션\n",
    "count = [0 for i in range(6)]\n",
    "# print(count)\n",
    "for i in range(10):\n",
    "    dice = random.randint(1, 6);\n",
    "    print(dice, end=' ')\n",
    "    # 주사위를 굴려 발생한 눈의 개수를 증가시킨다.\n",
    "    if dice == 1:\n",
    "        count[0] += 1\n",
    "    elif dice == 2:\n",
    "        count[1] += 1\n",
    "    elif dice == 3:\n",
    "        count[2] += 1   \n",
    "    elif dice == 4:\n",
    "        count[3] += 1\n",
    "    elif dice == 5:\n",
    "        count[4] += 1\n",
    "    else:\n",
    "        count[5] += 1\n",
    "    # ------- if\n",
    "# -----------for\n",
    "print('\\n' + '-' * 80)\n",
    "print('1의 개수: {}'.format(count[0]))\n",
    "print('2의 개수: {}'.format(count[1]))\n",
    "print('3의 개수: {}'.format(count[2]))\n",
    "print('4의 개수: {}'.format(count[3]))\n",
    "print('5의 개수: {}'.format(count[4]))\n",
    "print('6의 개수: {}'.format(count[5]))"
   ]
  },
  {
   "cell_type": "code",
   "execution_count": 44,
   "id": "1fcb6298",
   "metadata": {},
   "outputs": [
    {
     "name": "stdout",
     "output_type": "stream",
     "text": [
      "1 1 1 5 4 6 6 6 5 2 \n",
      "--------------------------------------------------------------------------------\n",
      "1의 개수: 3\n",
      "2의 개수: 1\n",
      "3의 개수: 0\n",
      "4의 개수: 1\n",
      "5의 개수: 2\n",
      "6의 개수: 3\n"
     ]
    }
   ],
   "source": [
    "count = [0 for i in range(6)]\n",
    "for i in range(10):\n",
    "    dice = random.randint(1, 6);\n",
    "    print(dice, end=' ')\n",
    "    # 주사위를 굴려 발생한 눈의 개수를 증가시킨다.\n",
    "    count[dice - 1] += 1\n",
    "    # ------- if\n",
    "# -----------for\n",
    "print('\\n' + '-' * 80)\n",
    "\n",
    "for i in range(len(count)): \n",
    "   # print('{}의 개수: {}'.format(i+1, count[i]))\n",
    "    print(f'{i + 1}의 개수: {count[i]}')"
   ]
  },
  {
   "cell_type": "code",
   "execution_count": null,
   "id": "8ebae88e",
   "metadata": {},
   "outputs": [],
   "source": []
  },
  {
   "cell_type": "code",
   "execution_count": null,
   "id": "2f567f0a",
   "metadata": {},
   "outputs": [],
   "source": []
  },
  {
   "cell_type": "code",
   "execution_count": null,
   "id": "ba4c45db",
   "metadata": {},
   "outputs": [],
   "source": []
  },
  {
   "cell_type": "code",
   "execution_count": null,
   "id": "b40c3f37",
   "metadata": {},
   "outputs": [],
   "source": []
  },
  {
   "cell_type": "code",
   "execution_count": null,
   "id": "24faa6f5",
   "metadata": {},
   "outputs": [],
   "source": []
  },
  {
   "cell_type": "code",
   "execution_count": null,
   "id": "5cef9362",
   "metadata": {},
   "outputs": [],
   "source": []
  },
  {
   "cell_type": "code",
   "execution_count": null,
   "id": "9053c849",
   "metadata": {},
   "outputs": [],
   "source": []
  },
  {
   "cell_type": "code",
   "execution_count": null,
   "id": "c86b2e98",
   "metadata": {},
   "outputs": [],
   "source": []
  },
  {
   "cell_type": "code",
   "execution_count": null,
   "id": "67daeb92",
   "metadata": {},
   "outputs": [],
   "source": []
  },
  {
   "cell_type": "code",
   "execution_count": null,
   "id": "c948631f",
   "metadata": {},
   "outputs": [],
   "source": []
  },
  {
   "cell_type": "code",
   "execution_count": null,
   "id": "193a60fc",
   "metadata": {},
   "outputs": [],
   "source": []
  },
  {
   "cell_type": "code",
   "execution_count": null,
   "id": "4166856a",
   "metadata": {},
   "outputs": [],
   "source": []
  }
 ],
 "metadata": {
  "kernelspec": {
   "display_name": "Python 3",
   "language": "python",
   "name": "python3"
  },
  "language_info": {
   "codemirror_mode": {
    "name": "ipython",
    "version": 3
   },
   "file_extension": ".py",
   "mimetype": "text/x-python",
   "name": "python",
   "nbconvert_exporter": "python",
   "pygments_lexer": "ipython3",
   "version": "3.6.8"
  }
 },
 "nbformat": 4,
 "nbformat_minor": 5
}
